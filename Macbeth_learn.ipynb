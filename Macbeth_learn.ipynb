{
  "nbformat": 4,
  "nbformat_minor": 0,
  "metadata": {
    "colab": {
      "name": "Macbeth_learn.ipynb",
      "version": "0.3.2",
      "provenance": [],
      "include_colab_link": true
    },
    "kernelspec": {
      "name": "python3",
      "display_name": "Python 3"
    },
    "accelerator": "GPU"
  },
  "cells": [
    {
      "cell_type": "markdown",
      "metadata": {
        "id": "view-in-github",
        "colab_type": "text"
      },
      "source": [
        "<a href=\"https://colab.research.google.com/github/aaronbbarclay/mine/blob/master/Macbeth_learn.ipynb\" target=\"_parent\"><img src=\"https://colab.research.google.com/assets/colab-badge.svg\" alt=\"Open In Colab\"/></a>"
      ]
    },
    {
      "cell_type": "markdown",
      "metadata": {
        "id": "19zafzl1Ptq2",
        "colab_type": "text"
      },
      "source": [
        "Using mask RCNN to train macbeth detection\n",
        "\n",
        "https://github.com/matterport/Mask_RCNN/"
      ]
    },
    {
      "cell_type": "code",
      "metadata": {
        "id": "2EMcC41nfjCd",
        "colab_type": "code",
        "colab": {
          "base_uri": "https://localhost:8080/",
          "height": 207
        },
        "outputId": "bc388a87-3463-4287-8a7d-4748824fd17b"
      },
      "source": [
        "!pip show tensorflow"
      ],
      "execution_count": 1,
      "outputs": [
        {
          "output_type": "stream",
          "text": [
            "Name: tensorflow\n",
            "Version: 1.13.1\n",
            "Summary: TensorFlow is an open source machine learning framework for everyone.\n",
            "Home-page: https://www.tensorflow.org/\n",
            "Author: Google Inc.\n",
            "Author-email: opensource@google.com\n",
            "License: Apache 2.0\n",
            "Location: /usr/local/lib/python2.7/dist-packages\n",
            "Requires: tensorflow-estimator, grpcio, mock, keras-applications, enum34, protobuf, keras-preprocessing, gast, tensorboard, wheel, absl-py, backports.weakref, six, numpy, termcolor, astor\n",
            "Required-by: magenta, fancyimpute\n"
          ],
          "name": "stdout"
        }
      ]
    },
    {
      "cell_type": "code",
      "metadata": {
        "id": "_dR8HxrO_oI7",
        "colab_type": "code",
        "colab": {
          "base_uri": "https://localhost:8080/",
          "height": 238
        },
        "outputId": "c90b77b5-e127-4e35-f04d-1430ee2c53ce"
      },
      "source": [
        "%cd\n",
        "!git clone --quiet https://github.com/tensorflow/models.git\n",
        "!git clone --quiet https://github.com/matterport/Mask_RCNN/\n",
        "!apt-get install protobuf-compiler python-pil python-lxml python-tk\n",
        "!pip install -q Cython contextlib2 pillow lxml matplotlib PyDrive"
      ],
      "execution_count": 8,
      "outputs": [
        {
          "output_type": "stream",
          "text": [
            "/root\n",
            "fatal: destination path 'models' already exists and is not an empty directory.\n",
            "Reading package lists... Done\n",
            "Building dependency tree       \n",
            "Reading state information... Done\n",
            "python-pil is already the newest version (5.1.0-1).\n",
            "python-tk is already the newest version (2.7.15~rc1-1).\n",
            "protobuf-compiler is already the newest version (3.0.0-9.1ubuntu1).\n",
            "python-lxml is already the newest version (4.2.1-1ubuntu0.1).\n",
            "The following package was automatically installed and is no longer required:\n",
            "  libnvidia-common-410\n",
            "Use 'apt autoremove' to remove it.\n",
            "0 upgraded, 0 newly installed, 0 to remove and 6 not upgraded.\n"
          ],
          "name": "stdout"
        }
      ]
    },
    {
      "cell_type": "code",
      "metadata": {
        "id": "ES-su46RRN_X",
        "colab_type": "code",
        "colab": {
          "base_uri": "https://localhost:8080/",
          "height": 68
        },
        "outputId": "f116f3a5-244e-4de3-dd50-64ef304fa239"
      },
      "source": [
        "%cd /root/Mask_RCNN/\n",
        "%ls"
      ],
      "execution_count": 17,
      "outputs": [
        {
          "output_type": "stream",
          "text": [
            "/root/Mask_RCNN\n",
            "\u001b[0m\u001b[01;34massets\u001b[0m/  LICENSE      \u001b[01;34mmrcnn\u001b[0m/     requirements.txt  setup.cfg\n",
            "\u001b[01;34mimages\u001b[0m/  MANIFEST.in  README.md  \u001b[01;34msamples\u001b[0m/          setup.py\n"
          ],
          "name": "stdout"
        }
      ]
    },
    {
      "cell_type": "code",
      "metadata": {
        "id": "KSlGKXeL_pzS",
        "colab_type": "code",
        "cellView": "code",
        "colab": {}
      },
      "source": [
        "# Install pycotools\n",
        "!pip install -q pycocotools"
      ],
      "execution_count": 0,
      "outputs": []
    },
    {
      "cell_type": "code",
      "metadata": {
        "id": "CRULdCfrA39Y",
        "colab_type": "code",
        "outputId": "727a72a5-5e68-4d10-cbc8-773c03d0b0d6",
        "colab": {
          "base_uri": "https://localhost:8080/",
          "height": 34
        }
      },
      "source": [
        "# Compile protocol buffers\n",
        "%cd ~/models/research\n",
        "!protoc object_detection/protos/*.proto --python_out=."
      ],
      "execution_count": 10,
      "outputs": [
        {
          "output_type": "stream",
          "text": [
            "/root/models/research\n"
          ],
          "name": "stdout"
        }
      ]
    },
    {
      "cell_type": "code",
      "metadata": {
        "id": "fg9RcuyfA_FN",
        "colab_type": "code",
        "colab": {}
      },
      "source": [
        "# Configure env variables\n",
        "import os\n",
        "os.environ['PYTHONPATH'] += ':/root/models/research/:/root/models/research/slim/:/root/Mask_RCNN/'\n",
        "\n",
        "import mrcnn"
      ],
      "execution_count": 0,
      "outputs": []
    },
    {
      "cell_type": "code",
      "metadata": {
        "id": "9NhhQJov6MM8",
        "colab_type": "code",
        "colab": {}
      },
      "source": [
        "import six\n",
        "import mrcnn"
      ],
      "execution_count": 0,
      "outputs": []
    },
    {
      "cell_type": "code",
      "metadata": {
        "id": "ljXKeqEZCuRL",
        "colab_type": "code",
        "outputId": "6d591c6e-92c5-4d34-ec6d-67049281d287",
        "colab": {
          "base_uri": "https://localhost:8080/",
          "height": 54
        }
      },
      "source": [
        "# Check environment variables\n",
        "print(os.environ['PYTHONPATH'])"
      ],
      "execution_count": 21,
      "outputs": [
        {
          "output_type": "stream",
          "text": [
            "/env/python:/root/models/research/:/root/models/research/slim/:/root/models/research/:/root/models/research/slim/:/root/Mask_RCNN/mrcnn/:/root/models/research/:/root/models/research/slim/:/root/Mask_RCNN/:/root/models/research/:/root/models/research/slim/:/root/Mask_RCNN/\n"
          ],
          "name": "stdout"
        }
      ]
    },
    {
      "cell_type": "code",
      "metadata": {
        "id": "7j7jfuTXB4MR",
        "colab_type": "code",
        "outputId": "111e3707-c5a7-4df4-d31a-8f01eb6e3ae7",
        "colab": {
          "base_uri": "https://localhost:8080/",
          "height": 221
        }
      },
      "source": [
        "# Run tests\n",
        "!python ~/models/research/object_detection/builders/model_builder_test.py"
      ],
      "execution_count": 22,
      "outputs": [
        {
          "output_type": "stream",
          "text": [
            "\n",
            "WARNING: The TensorFlow contrib module will not be included in TensorFlow 2.0.\n",
            "For more information, please see:\n",
            "  * https://github.com/tensorflow/community/blob/master/rfcs/20180907-contrib-sunset.md\n",
            "  * https://github.com/tensorflow/addons\n",
            "If you depend on functionality not listed there, please file an issue.\n",
            "\n",
            "............s...\n",
            "----------------------------------------------------------------------\n",
            "Ran 16 tests in 0.079s\n",
            "\n",
            "OK (skipped=1)\n"
          ],
          "name": "stdout"
        }
      ]
    },
    {
      "cell_type": "code",
      "metadata": {
        "id": "b5wtIsvpCd0K",
        "colab_type": "code",
        "colab": {
          "base_uri": "https://localhost:8080/",
          "height": 6256
        },
        "outputId": "267606a0-852c-4d36-983f-700d0dc2598d"
      },
      "source": [
        "# Create directories, get my repo for the images\n",
        "%mkdir ~/data\n",
        "%cd ~/data\n",
        "\n",
        "!git clone https://github.com/aaronbbarclay/mine\n",
        "%cd mine/machineLearning/macbethIdentify/data/\n",
        "%ls\n",
        "!unzip macbeth_identify.zip"
      ],
      "execution_count": 23,
      "outputs": [
        {
          "output_type": "stream",
          "text": [
            "/root/data\n",
            "Cloning into 'mine'...\n",
            "remote: Enumerating objects: 83, done.\u001b[K\n",
            "remote: Counting objects: 100% (83/83), done.\u001b[K\n",
            "remote: Compressing objects: 100% (78/78), done.\u001b[K\n",
            "remote: Total 83 (delta 47), reused 9 (delta 0), pack-reused 0\u001b[K\n",
            "Unpacking objects: 100% (83/83), done.\n",
            "/root/data/mine/machineLearning/macbethIdentify/data\n",
            "\u001b[0m\u001b[01;32mmacbeth_identify.zip\u001b[0m*\n",
            "Archive:  macbeth_identify.zip\n",
            "   creating: macbeth_identify/\n",
            "  inflating: macbeth_identify/.DS_Store  \n",
            "   creating: __MACOSX/\n",
            "   creating: __MACOSX/macbeth_identify/\n",
            "  inflating: __MACOSX/macbeth_identify/._.DS_Store  \n",
            "  inflating: macbeth_identify/label_map.pbtxt  \n",
            "  inflating: __MACOSX/macbeth_identify/._label_map.pbtxt  \n",
            "  inflating: macbeth_identify/train.txt  \n",
            "  inflating: __MACOSX/macbeth_identify/._train.txt  \n",
            "   creating: macbeth_identify/img/\n",
            "  inflating: macbeth_identify/img/IMG_1336.jpg  \n",
            "   creating: __MACOSX/macbeth_identify/img/\n",
            "  inflating: __MACOSX/macbeth_identify/img/._IMG_1336.jpg  \n",
            "  inflating: macbeth_identify/img/IMG_1322.jpg  \n",
            "  inflating: __MACOSX/macbeth_identify/img/._IMG_1322.jpg  \n",
            "  inflating: macbeth_identify/img/penn_jillette_00135.jpg  \n",
            "  inflating: __MACOSX/macbeth_identify/img/._penn_jillette_00135.jpg  \n",
            "  inflating: macbeth_identify/img/catherine_mary_stewart_00461.jpg  \n",
            "  inflating: __MACOSX/macbeth_identify/img/._catherine_mary_stewart_00461.jpg  \n",
            "  inflating: macbeth_identify/img/IMG_1323.jpg  \n",
            "  inflating: __MACOSX/macbeth_identify/img/._IMG_1323.jpg  \n",
            "  inflating: macbeth_identify/img/IMG_1337.jpg  \n",
            "  inflating: __MACOSX/macbeth_identify/img/._IMG_1337.jpg  \n",
            "  inflating: macbeth_identify/img/IMG_1321.jpg  \n",
            "  inflating: __MACOSX/macbeth_identify/img/._IMG_1321.jpg  \n",
            "  inflating: macbeth_identify/img/IMG_1335.jpg  \n",
            "  inflating: __MACOSX/macbeth_identify/img/._IMG_1335.jpg  \n",
            "  inflating: macbeth_identify/img/IMG_0481_orig.jpg  \n",
            "  inflating: __MACOSX/macbeth_identify/img/._IMG_0481_orig.jpg  \n",
            "  inflating: macbeth_identify/img/p04.jpg  \n",
            "  inflating: __MACOSX/macbeth_identify/img/._p04.jpg  \n",
            "  inflating: macbeth_identify/img/bob_amsterdam_00052.jpg  \n",
            "  inflating: __MACOSX/macbeth_identify/img/._bob_amsterdam_00052.jpg  \n",
            "  inflating: macbeth_identify/img/IMG_1334.jpg  \n",
            "  inflating: __MACOSX/macbeth_identify/img/._IMG_1334.jpg  \n",
            "  inflating: macbeth_identify/img/IMG_1320.jpg  \n",
            "  inflating: __MACOSX/macbeth_identify/img/._IMG_1320.jpg  \n",
            "  inflating: macbeth_identify/img/IMG_1324.jpg  \n",
            "  inflating: __MACOSX/macbeth_identify/img/._IMG_1324.jpg  \n",
            "  inflating: macbeth_identify/img/IMG_1330.jpg  \n",
            "  inflating: __MACOSX/macbeth_identify/img/._IMG_1330.jpg  \n",
            "  inflating: macbeth_identify/img/IMG_1318.jpg  \n",
            "  inflating: __MACOSX/macbeth_identify/img/._IMG_1318.jpg  \n",
            "  inflating: macbeth_identify/img/8D5U5545_orig.jpg  \n",
            "  inflating: __MACOSX/macbeth_identify/img/._8D5U5545_orig.jpg  \n",
            "  inflating: macbeth_identify/img/t-7797r.jpg  \n",
            "  inflating: __MACOSX/macbeth_identify/img/._t-7797r.jpg  \n",
            "  inflating: macbeth_identify/img/.DS_Store  \n",
            "  inflating: __MACOSX/macbeth_identify/img/._.DS_Store  \n",
            "  inflating: macbeth_identify/img/img_0172.jpg  \n",
            "  inflating: __MACOSX/macbeth_identify/img/._img_0172.jpg  \n",
            "  inflating: macbeth_identify/img/IMG_1319.jpg  \n",
            "  inflating: __MACOSX/macbeth_identify/img/._IMG_1319.jpg  \n",
            "  inflating: macbeth_identify/img/IMG_1331.jpg  \n",
            "  inflating: __MACOSX/macbeth_identify/img/._IMG_1331.jpg  \n",
            "  inflating: macbeth_identify/img/IMG_1325.jpg  \n",
            "  inflating: __MACOSX/macbeth_identify/img/._IMG_1325.jpg  \n",
            "  inflating: macbeth_identify/img/8D5U5533_orig.jpg  \n",
            "  inflating: __MACOSX/macbeth_identify/img/._8D5U5533_orig.jpg  \n",
            "  inflating: macbeth_identify/img/IMG_1333.jpg  \n",
            "  inflating: __MACOSX/macbeth_identify/img/._IMG_1333.jpg  \n",
            "  inflating: macbeth_identify/img/IMG_1327.jpg  \n",
            "  inflating: __MACOSX/macbeth_identify/img/._IMG_1327.jpg  \n",
            "  inflating: macbeth_identify/img/8D5U5595_orig.jpg  \n",
            "  inflating: __MACOSX/macbeth_identify/img/._8D5U5595_orig.jpg  \n",
            "  inflating: macbeth_identify/img/IMG_1309 2.jpg  \n",
            "  inflating: __MACOSX/macbeth_identify/img/._IMG_1309 2.jpg  \n",
            "  inflating: macbeth_identify/img/IMG_0341_orig.jpg  \n",
            "  inflating: __MACOSX/macbeth_identify/img/._IMG_0341_orig.jpg  \n",
            "  inflating: macbeth_identify/img/IMG_1326.jpg  \n",
            "  inflating: __MACOSX/macbeth_identify/img/._IMG_1326.jpg  \n",
            "  inflating: macbeth_identify/img/IMG_1332.jpg  \n",
            "  inflating: __MACOSX/macbeth_identify/img/._IMG_1332.jpg  \n",
            "  inflating: macbeth_identify/img/catherine_mary_stewart_00074.jpg  \n",
            "  inflating: __MACOSX/macbeth_identify/img/._catherine_mary_stewart_00074.jpg  \n",
            "  inflating: macbeth_identify/img/IMG_1341.jpg  \n",
            "  inflating: __MACOSX/macbeth_identify/img/._IMG_1341.jpg  \n",
            "  inflating: macbeth_identify/img/deb1.jpg  \n",
            "  inflating: __MACOSX/macbeth_identify/img/._deb1.jpg  \n",
            "  inflating: macbeth_identify/img/robert_benmosche_00011.jpg  \n",
            "  inflating: __MACOSX/macbeth_identify/img/._robert_benmosche_00011.jpg  \n",
            "  inflating: macbeth_identify/img/IMG_1340.jpg  \n",
            "  inflating: __MACOSX/macbeth_identify/img/._IMG_1340.jpg  \n",
            "  inflating: macbeth_identify/img/IMG_1342.jpg  \n",
            "  inflating: __MACOSX/macbeth_identify/img/._IMG_1342.jpg  \n",
            "  inflating: macbeth_identify/img/bts1.jpg  \n",
            "  inflating: __MACOSX/macbeth_identify/img/._bts1.jpg  \n",
            "  inflating: macbeth_identify/img/IMG_1343.jpg  \n",
            "  inflating: __MACOSX/macbeth_identify/img/._IMG_1343.jpg  \n",
            "  inflating: macbeth_identify/img/IMG_0475_orig.jpg  \n",
            "  inflating: __MACOSX/macbeth_identify/img/._IMG_0475_orig.jpg  \n",
            "  inflating: macbeth_identify/img/IMG_1347.jpg  \n",
            "  inflating: __MACOSX/macbeth_identify/img/._IMG_1347.jpg  \n",
            "  inflating: macbeth_identify/img/mcc3-t.jpg  \n",
            "  inflating: __MACOSX/macbeth_identify/img/._mcc3-t.jpg  \n",
            "  inflating: macbeth_identify/img/sg13.jpg  \n",
            "  inflating: __MACOSX/macbeth_identify/img/._sg13.jpg  \n",
            "  inflating: macbeth_identify/img/mg_0006.jpg  \n",
            "  inflating: __MACOSX/macbeth_identify/img/._mg_0006.jpg  \n",
            "  inflating: macbeth_identify/img/IMG_1346.jpg  \n",
            "  inflating: __MACOSX/macbeth_identify/img/._IMG_1346.jpg  \n",
            "  inflating: macbeth_identify/img/brendan_haircut_00001.jpg  \n",
            "  inflating: __MACOSX/macbeth_identify/img/._brendan_haircut_00001.jpg  \n",
            "  inflating: macbeth_identify/img/IMG_1344.jpg  \n",
            "  inflating: __MACOSX/macbeth_identify/img/._IMG_1344.jpg  \n",
            "  inflating: macbeth_identify/img/megan_rapinoe_00023.jpg  \n",
            "  inflating: __MACOSX/macbeth_identify/img/._megan_rapinoe_00023.jpg  \n",
            "  inflating: macbeth_identify/img/sg11.jpg  \n",
            "  inflating: __MACOSX/macbeth_identify/img/._sg11.jpg  \n",
            "  inflating: macbeth_identify/img/IMG_0319_orig.jpg  \n",
            "  inflating: __MACOSX/macbeth_identify/img/._IMG_0319_orig.jpg  \n",
            "  inflating: macbeth_identify/img/IMG_1345.jpg  \n",
            "  inflating: __MACOSX/macbeth_identify/img/._IMG_1345.jpg  \n",
            "  inflating: macbeth_identify/img/bobby_flay_00254.jpg  \n",
            "  inflating: __MACOSX/macbeth_identify/img/._bobby_flay_00254.jpg  \n",
            "  inflating: macbeth_identify/img/IMG_1348.jpg  \n",
            "  inflating: __MACOSX/macbeth_identify/img/._IMG_1348.jpg  \n",
            "  inflating: macbeth_identify/img/mg_0008.jpg  \n",
            "  inflating: __MACOSX/macbeth_identify/img/._mg_0008.jpg  \n",
            "  inflating: macbeth_identify/img/6associates_bluetest.jpg  \n",
            "  inflating: __MACOSX/macbeth_identify/img/._6associates_bluetest.jpg  \n",
            "  inflating: macbeth_identify/img/jeff_kolitch_00097-mos.jpg  \n",
            "  inflating: __MACOSX/macbeth_identify/img/._jeff_kolitch_00097-mos.jpg  \n",
            "  inflating: macbeth_identify/img/IMG_1349.jpg  \n",
            "  inflating: __MACOSX/macbeth_identify/img/._IMG_1349.jpg  \n",
            "  inflating: macbeth_identify/img/rt2012_xboard_00012-mos.jpg  \n",
            "  inflating: __MACOSX/macbeth_identify/img/._rt2012_xboard_00012-mos.jpg  \n",
            "  inflating: macbeth_identify/img/kaztest_mg_0015.jpg  \n",
            "  inflating: __MACOSX/macbeth_identify/img/._kaztest_mg_0015.jpg  \n",
            "  inflating: macbeth_identify/img/girl-with-colorchecker.jpg  \n",
            "  inflating: __MACOSX/macbeth_identify/img/._girl-with-colorchecker.jpg  \n",
            "  inflating: macbeth_identify/img/megan_rapinoe_mg_0100.jpg  \n",
            "  inflating: __MACOSX/macbeth_identify/img/._megan_rapinoe_mg_0100.jpg  \n",
            "  inflating: macbeth_identify/img/2013_rt_cover_brian_rogers_00001-mos.jpg  \n",
            "  inflating: __MACOSX/macbeth_identify/img/._2013_rt_cover_brian_rogers_00001-mos.jpg  \n",
            "  inflating: macbeth_identify/img/sg8.jpg  \n",
            "  inflating: __MACOSX/macbeth_identify/img/._sg8.jpg  \n",
            "  inflating: macbeth_identify/img/IMG_1317.jpg  \n",
            "  inflating: __MACOSX/macbeth_identify/img/._IMG_1317.jpg  \n",
            "  inflating: macbeth_identify/img/catherine_mary_stewart_00331-mos.jpg  \n",
            "  inflating: __MACOSX/macbeth_identify/img/._catherine_mary_stewart_00331-mos.jpg  \n",
            "  inflating: macbeth_identify/img/2_associates_00002.jpg  \n",
            "  inflating: __MACOSX/macbeth_identify/img/._2_associates_00002.jpg  \n",
            "  inflating: macbeth_identify/img/IMG_1316.jpg  \n",
            "  inflating: __MACOSX/macbeth_identify/img/._IMG_1316.jpg  \n",
            "  inflating: macbeth_identify/img/7.jpg  \n",
            "  inflating: __MACOSX/macbeth_identify/img/._7.jpg  \n",
            "  inflating: macbeth_identify/img/IMG_1328.jpg  \n",
            "  inflating: __MACOSX/macbeth_identify/img/._IMG_1328.jpg  \n",
            "  inflating: macbeth_identify/img/megan_rapinoe_mg_0013.jpg  \n",
            "  inflating: __MACOSX/macbeth_identify/img/._megan_rapinoe_mg_0013.jpg  \n",
            "  inflating: macbeth_identify/img/IMG_1314.jpg  \n",
            "  inflating: __MACOSX/macbeth_identify/img/._IMG_1314.jpg  \n",
            "  inflating: macbeth_identify/img/IMG_1315.jpg  \n",
            "  inflating: __MACOSX/macbeth_identify/img/._IMG_1315.jpg  \n",
            "  inflating: macbeth_identify/img/IMG_1329.jpg  \n",
            "  inflating: __MACOSX/macbeth_identify/img/._IMG_1329.jpg  \n",
            "  inflating: macbeth_identify/img/IMG_1311.jpg  \n",
            "  inflating: __MACOSX/macbeth_identify/img/._IMG_1311.jpg  \n",
            "  inflating: macbeth_identify/img/IMG_1339.jpg  \n",
            "  inflating: __MACOSX/macbeth_identify/img/._IMG_1339.jpg  \n",
            "  inflating: macbeth_identify/img/penn_jillette_00106.jpg  \n",
            "  inflating: __MACOSX/macbeth_identify/img/._penn_jillette_00106.jpg  \n",
            "  inflating: macbeth_identify/img/IMG_0750_orig.jpg  \n",
            "  inflating: __MACOSX/macbeth_identify/img/._IMG_0750_orig.jpg  \n",
            "  inflating: macbeth_identify/img/ARMAFC.jpg  \n",
            "  inflating: __MACOSX/macbeth_identify/img/._ARMAFC.jpg  \n",
            "  inflating: macbeth_identify/img/IMG_1338.jpg  \n",
            "  inflating: __MACOSX/macbeth_identify/img/._IMG_1338.jpg  \n",
            "  inflating: macbeth_identify/img/IMG_1310.jpg  \n",
            "  inflating: __MACOSX/macbeth_identify/img/._IMG_1310.jpg  \n",
            "  inflating: macbeth_identify/img/kaztest.jpg  \n",
            "  inflating: __MACOSX/macbeth_identify/img/._kaztest.jpg  \n",
            "  inflating: macbeth_identify/img/IMG_1312.jpg  \n",
            "  inflating: __MACOSX/macbeth_identify/img/._IMG_1312.jpg  \n",
            "  inflating: macbeth_identify/img/bobby_flay_00217.jpg  \n",
            "  inflating: __MACOSX/macbeth_identify/img/._bobby_flay_00217.jpg  \n",
            "  inflating: macbeth_identify/img/8D5U5611_orig.jpg  \n",
            "  inflating: __MACOSX/macbeth_identify/img/._8D5U5611_orig.jpg  \n",
            "  inflating: macbeth_identify/img/IMG_1313.jpg  \n",
            "  inflating: __MACOSX/macbeth_identify/img/._IMG_1313.jpg  \n",
            "  inflating: __MACOSX/macbeth_identify/._img  \n",
            "   creating: macbeth_identify/annotations/\n",
            "  inflating: macbeth_identify/annotations/IMG_1336.xml  \n",
            "   creating: __MACOSX/macbeth_identify/annotations/\n",
            "  inflating: __MACOSX/macbeth_identify/annotations/._IMG_1336.xml  \n",
            "  inflating: macbeth_identify/annotations/IMG_1322.xml  \n",
            "  inflating: __MACOSX/macbeth_identify/annotations/._IMG_1322.xml  \n",
            "  inflating: macbeth_identify/annotations/penn_jillette_00135.xml  \n",
            "  inflating: __MACOSX/macbeth_identify/annotations/._penn_jillette_00135.xml  \n",
            "  inflating: macbeth_identify/annotations/catherine_mary_stewart_00461.xml  \n",
            "  inflating: __MACOSX/macbeth_identify/annotations/._catherine_mary_stewart_00461.xml  \n",
            "  inflating: macbeth_identify/annotations/IMG_1323.xml  \n",
            "  inflating: __MACOSX/macbeth_identify/annotations/._IMG_1323.xml  \n",
            "  inflating: macbeth_identify/annotations/IMG_1337.xml  \n",
            "  inflating: __MACOSX/macbeth_identify/annotations/._IMG_1337.xml  \n",
            "  inflating: macbeth_identify/annotations/IMG_1321.xml  \n",
            "  inflating: __MACOSX/macbeth_identify/annotations/._IMG_1321.xml  \n",
            "  inflating: macbeth_identify/annotations/IMG_1335.xml  \n",
            "  inflating: __MACOSX/macbeth_identify/annotations/._IMG_1335.xml  \n",
            "  inflating: macbeth_identify/annotations/IMG_0481_orig.xml  \n",
            "  inflating: __MACOSX/macbeth_identify/annotations/._IMG_0481_orig.xml  \n",
            "  inflating: macbeth_identify/annotations/p04.xml  \n",
            "  inflating: __MACOSX/macbeth_identify/annotations/._p04.xml  \n",
            "  inflating: macbeth_identify/annotations/bob_amsterdam_00052.xml  \n",
            "  inflating: __MACOSX/macbeth_identify/annotations/._bob_amsterdam_00052.xml  \n",
            "  inflating: macbeth_identify/annotations/IMG_1334.xml  \n",
            "  inflating: __MACOSX/macbeth_identify/annotations/._IMG_1334.xml  \n",
            "  inflating: macbeth_identify/annotations/IMG_1320.xml  \n",
            "  inflating: __MACOSX/macbeth_identify/annotations/._IMG_1320.xml  \n",
            "  inflating: macbeth_identify/annotations/IMG_1318.xml  \n",
            "  inflating: __MACOSX/macbeth_identify/annotations/._IMG_1318.xml  \n",
            "  inflating: macbeth_identify/annotations/IMG_1324.xml  \n",
            "  inflating: __MACOSX/macbeth_identify/annotations/._IMG_1324.xml  \n",
            "  inflating: macbeth_identify/annotations/IMG_1330.xml  \n",
            "  inflating: __MACOSX/macbeth_identify/annotations/._IMG_1330.xml  \n",
            "  inflating: macbeth_identify/annotations/t-7797r.xml  \n",
            "  inflating: __MACOSX/macbeth_identify/annotations/._t-7797r.xml  \n",
            "  inflating: macbeth_identify/annotations/8D5U5545_orig.xml  \n",
            "  inflating: __MACOSX/macbeth_identify/annotations/._8D5U5545_orig.xml  \n",
            "  inflating: macbeth_identify/annotations/.DS_Store  \n",
            "  inflating: __MACOSX/macbeth_identify/annotations/._.DS_Store  \n",
            "  inflating: macbeth_identify/annotations/img_0172.xml  \n",
            "  inflating: __MACOSX/macbeth_identify/annotations/._img_0172.xml  \n",
            "  inflating: macbeth_identify/annotations/8D5U5533_orig.xml  \n",
            "  inflating: __MACOSX/macbeth_identify/annotations/._8D5U5533_orig.xml  \n",
            "  inflating: macbeth_identify/annotations/IMG_1331.xml  \n",
            "  inflating: __MACOSX/macbeth_identify/annotations/._IMG_1331.xml  \n",
            "  inflating: macbeth_identify/annotations/IMG_1325.xml  \n",
            "  inflating: __MACOSX/macbeth_identify/annotations/._IMG_1325.xml  \n",
            "  inflating: macbeth_identify/annotations/IMG_1319.xml  \n",
            "  inflating: __MACOSX/macbeth_identify/annotations/._IMG_1319.xml  \n",
            "  inflating: macbeth_identify/annotations/IMG_1333.xml  \n",
            "  inflating: __MACOSX/macbeth_identify/annotations/._IMG_1333.xml  \n",
            "  inflating: macbeth_identify/annotations/IMG_1327.xml  \n",
            "  inflating: __MACOSX/macbeth_identify/annotations/._IMG_1327.xml  \n",
            "  inflating: macbeth_identify/annotations/8D5U5595_orig.xml  \n",
            "  inflating: __MACOSX/macbeth_identify/annotations/._8D5U5595_orig.xml  \n",
            "  inflating: macbeth_identify/annotations/IMG_0341_orig.xml  \n",
            "  inflating: __MACOSX/macbeth_identify/annotations/._IMG_0341_orig.xml  \n",
            "  inflating: macbeth_identify/annotations/IMG_1309 2.xml  \n",
            "  inflating: __MACOSX/macbeth_identify/annotations/._IMG_1309 2.xml  \n",
            "  inflating: macbeth_identify/annotations/catherine_mary_stewart_00074.xml  \n",
            "  inflating: __MACOSX/macbeth_identify/annotations/._catherine_mary_stewart_00074.xml  \n",
            "  inflating: macbeth_identify/annotations/IMG_1326.xml  \n",
            "  inflating: __MACOSX/macbeth_identify/annotations/._IMG_1326.xml  \n",
            "  inflating: macbeth_identify/annotations/IMG_1332.xml  \n",
            "  inflating: __MACOSX/macbeth_identify/annotations/._IMG_1332.xml  \n",
            "  inflating: macbeth_identify/annotations/IMG_1341.xml  \n",
            "  inflating: __MACOSX/macbeth_identify/annotations/._IMG_1341.xml  \n",
            "  inflating: macbeth_identify/annotations/deb1.xml  \n",
            "  inflating: __MACOSX/macbeth_identify/annotations/._deb1.xml  \n",
            "  inflating: macbeth_identify/annotations/robert_benmosche_00011.xml  \n",
            "  inflating: __MACOSX/macbeth_identify/annotations/._robert_benmosche_00011.xml  \n",
            "  inflating: macbeth_identify/annotations/IMG_1340.xml  \n",
            "  inflating: __MACOSX/macbeth_identify/annotations/._IMG_1340.xml  \n",
            "  inflating: macbeth_identify/annotations/IMG_1342.xml  \n",
            "  inflating: __MACOSX/macbeth_identify/annotations/._IMG_1342.xml  \n",
            "  inflating: macbeth_identify/annotations/bts1.xml  \n",
            "  inflating: __MACOSX/macbeth_identify/annotations/._bts1.xml  \n",
            "  inflating: macbeth_identify/annotations/IMG_0475_orig.xml  \n",
            "  inflating: __MACOSX/macbeth_identify/annotations/._IMG_0475_orig.xml  \n",
            "  inflating: macbeth_identify/annotations/IMG_1343.xml  \n",
            "  inflating: __MACOSX/macbeth_identify/annotations/._IMG_1343.xml  \n",
            "  inflating: macbeth_identify/annotations/IMG_1347.xml  \n",
            "  inflating: __MACOSX/macbeth_identify/annotations/._IMG_1347.xml  \n",
            "  inflating: macbeth_identify/annotations/sg13.xml  \n",
            "  inflating: __MACOSX/macbeth_identify/annotations/._sg13.xml  \n",
            "  inflating: macbeth_identify/annotations/brendan_haircut_00001.xml  \n",
            "  inflating: __MACOSX/macbeth_identify/annotations/._brendan_haircut_00001.xml  \n",
            "  inflating: macbeth_identify/annotations/mg_0006.xml  \n",
            "  inflating: __MACOSX/macbeth_identify/annotations/._mg_0006.xml  \n",
            "  inflating: macbeth_identify/annotations/IMG_1346.xml  \n",
            "  inflating: __MACOSX/macbeth_identify/annotations/._IMG_1346.xml  \n",
            "  inflating: macbeth_identify/annotations/IMG_1344.xml  \n",
            "  inflating: __MACOSX/macbeth_identify/annotations/._IMG_1344.xml  \n",
            "  inflating: macbeth_identify/annotations/megan_rapinoe_00023.xml  \n",
            "  inflating: __MACOSX/macbeth_identify/annotations/._megan_rapinoe_00023.xml  \n",
            "  inflating: macbeth_identify/annotations/sg11.xml  \n",
            "  inflating: __MACOSX/macbeth_identify/annotations/._sg11.xml  \n",
            "  inflating: macbeth_identify/annotations/IMG_0319_orig.xml  \n",
            "  inflating: __MACOSX/macbeth_identify/annotations/._IMG_0319_orig.xml  \n",
            "  inflating: macbeth_identify/annotations/bobby_flay_00254.xml  \n",
            "  inflating: __MACOSX/macbeth_identify/annotations/._bobby_flay_00254.xml  \n",
            "  inflating: macbeth_identify/annotations/IMG_1345.xml  \n",
            "  inflating: __MACOSX/macbeth_identify/annotations/._IMG_1345.xml  \n",
            "  inflating: macbeth_identify/annotations/IMG_1348.xml  \n",
            "  inflating: __MACOSX/macbeth_identify/annotations/._IMG_1348.xml  \n",
            "  inflating: macbeth_identify/annotations/mg_0008.xml  \n",
            "  inflating: __MACOSX/macbeth_identify/annotations/._mg_0008.xml  \n",
            "  inflating: macbeth_identify/annotations/6associates_bluetest.xml  \n",
            "  inflating: __MACOSX/macbeth_identify/annotations/._6associates_bluetest.xml  \n",
            "  inflating: macbeth_identify/annotations/jeff_kolitch_00097-mos.xml  \n",
            "  inflating: __MACOSX/macbeth_identify/annotations/._jeff_kolitch_00097-mos.xml  \n",
            "  inflating: macbeth_identify/annotations/IMG_1349.xml  \n",
            "  inflating: __MACOSX/macbeth_identify/annotations/._IMG_1349.xml  \n",
            "  inflating: macbeth_identify/annotations/rt2012_xboard_00012-mos.xml  \n",
            "  inflating: __MACOSX/macbeth_identify/annotations/._rt2012_xboard_00012-mos.xml  \n",
            "  inflating: macbeth_identify/annotations/kaztest_mg_0015.xml  \n",
            "  inflating: __MACOSX/macbeth_identify/annotations/._kaztest_mg_0015.xml  \n",
            "  inflating: macbeth_identify/annotations/girl-with-colorchecker.xml  \n",
            "  inflating: __MACOSX/macbeth_identify/annotations/._girl-with-colorchecker.xml  \n",
            "  inflating: macbeth_identify/annotations/megan_rapinoe_mg_0100.xml  \n",
            "  inflating: __MACOSX/macbeth_identify/annotations/._megan_rapinoe_mg_0100.xml  \n",
            "  inflating: macbeth_identify/annotations/2013_rt_cover_brian_rogers_00001-mos.xml  \n",
            "  inflating: __MACOSX/macbeth_identify/annotations/._2013_rt_cover_brian_rogers_00001-mos.xml  \n",
            "  inflating: macbeth_identify/annotations/sg8.xml  \n",
            "  inflating: __MACOSX/macbeth_identify/annotations/._sg8.xml  \n",
            "  inflating: macbeth_identify/annotations/IMG_1317.xml  \n",
            "  inflating: __MACOSX/macbeth_identify/annotations/._IMG_1317.xml  \n",
            "  inflating: macbeth_identify/annotations/catherine_mary_stewart_00331-mos.xml  \n",
            "  inflating: __MACOSX/macbeth_identify/annotations/._catherine_mary_stewart_00331-mos.xml  \n",
            "  inflating: macbeth_identify/annotations/2_associates_00002.xml  \n",
            "  inflating: __MACOSX/macbeth_identify/annotations/._2_associates_00002.xml  \n",
            "  inflating: macbeth_identify/annotations/IMG_1316.xml  \n",
            "  inflating: __MACOSX/macbeth_identify/annotations/._IMG_1316.xml  \n",
            "  inflating: macbeth_identify/annotations/IMG_1314.xml  \n",
            "  inflating: __MACOSX/macbeth_identify/annotations/._IMG_1314.xml  \n",
            "  inflating: macbeth_identify/annotations/megan_rapinoe_mg_0013.xml  \n",
            "  inflating: __MACOSX/macbeth_identify/annotations/._megan_rapinoe_mg_0013.xml  \n",
            "  inflating: macbeth_identify/annotations/IMG_1328.xml  \n",
            "  inflating: __MACOSX/macbeth_identify/annotations/._IMG_1328.xml  \n",
            "  inflating: macbeth_identify/annotations/7.xml  \n",
            "  inflating: __MACOSX/macbeth_identify/annotations/._7.xml  \n",
            "  inflating: macbeth_identify/annotations/IMG_1329.xml  \n",
            "  inflating: __MACOSX/macbeth_identify/annotations/._IMG_1329.xml  \n",
            "  inflating: macbeth_identify/annotations/IMG_1315.xml  \n",
            "  inflating: __MACOSX/macbeth_identify/annotations/._IMG_1315.xml  \n",
            "  inflating: macbeth_identify/annotations/IMG_1339.xml  \n",
            "  inflating: __MACOSX/macbeth_identify/annotations/._IMG_1339.xml  \n",
            "  inflating: macbeth_identify/annotations/IMG_1311.xml  \n",
            "  inflating: __MACOSX/macbeth_identify/annotations/._IMG_1311.xml  \n",
            "  inflating: macbeth_identify/annotations/penn_jillette_00106.xml  \n",
            "  inflating: __MACOSX/macbeth_identify/annotations/._penn_jillette_00106.xml  \n",
            "  inflating: macbeth_identify/annotations/IMG_0750_orig.xml  \n",
            "  inflating: __MACOSX/macbeth_identify/annotations/._IMG_0750_orig.xml  \n",
            "  inflating: macbeth_identify/annotations/ARMAFC.xml  \n",
            "  inflating: __MACOSX/macbeth_identify/annotations/._ARMAFC.xml  \n",
            "  inflating: macbeth_identify/annotations/kaztest.xml  \n",
            "  inflating: __MACOSX/macbeth_identify/annotations/._kaztest.xml  \n",
            "  inflating: macbeth_identify/annotations/IMG_1310.xml  \n",
            "  inflating: __MACOSX/macbeth_identify/annotations/._IMG_1310.xml  \n",
            "  inflating: macbeth_identify/annotations/IMG_1338.xml  \n",
            "  inflating: __MACOSX/macbeth_identify/annotations/._IMG_1338.xml  \n",
            "  inflating: macbeth_identify/annotations/IMG_1312.xml  \n",
            "  inflating: __MACOSX/macbeth_identify/annotations/._IMG_1312.xml  \n",
            "  inflating: macbeth_identify/annotations/bobby_flay_00217.xml  \n",
            "  inflating: __MACOSX/macbeth_identify/annotations/._bobby_flay_00217.xml  \n",
            "  inflating: macbeth_identify/annotations/8D5U5611_orig.xml  \n",
            "  inflating: __MACOSX/macbeth_identify/annotations/._8D5U5611_orig.xml  \n",
            "  inflating: macbeth_identify/annotations/IMG_1313.xml  \n",
            "  inflating: __MACOSX/macbeth_identify/annotations/._IMG_1313.xml  \n",
            "  inflating: macbeth_identify/test.txt  \n",
            "  inflating: __MACOSX/macbeth_identify/._test.txt  \n",
            "  inflating: macbeth_identify/val.txt  \n",
            "  inflating: __MACOSX/macbeth_identify/._val.txt  \n",
            "  inflating: __MACOSX/._macbeth_identify  \n"
          ],
          "name": "stdout"
        }
      ]
    },
    {
      "cell_type": "code",
      "metadata": {
        "id": "vB5fbc3_piye",
        "colab_type": "code",
        "outputId": "d55e87ab-d7ed-48ae-a292-64ee9fe158d5",
        "colab": {
          "base_uri": "https://localhost:8080/",
          "height": 51
        }
      },
      "source": [
        "# Setup some stuff\n",
        "%cd ~/data/mine/machineLearning/macbethIdentify/data/macbeth_identify/\n",
        "%pwd\n",
        "%ls\n",
        "imageFilesBasePath = '/root/data/mine/machineLearning/macbethIdentify/data/macbeth_identify/img'\n",
        "annotationsFilesBasePath = '/root/data/mine/machineLearning/macbethIdentify/data/macbeth_identify/annotations/'\n",
        "labelMapPath = '/root/data/mine/machineLearning/macbethIdentify/data/macbeth_identify/label_map.pbtxt'\n",
        "testPath = '/root/data/mine/machineLearning/macbethIdentify/data/macbeth_identify/test.txt'\n",
        "trainPath = '/root/data/mine/machineLearning/macbethIdentify/data/macbeth_identify/train.txt'\n",
        "valPath = '/root/data/mine/machineLearning/macbethIdentify/data/macbeth_identify/val.txt'\n"
      ],
      "execution_count": 24,
      "outputs": [
        {
          "output_type": "stream",
          "text": [
            "/root/data/mine/machineLearning/macbethIdentify/data/macbeth_identify\n",
            "\u001b[0m\u001b[01;34mannotations\u001b[0m/  \u001b[01;34mimg\u001b[0m/  \u001b[01;32mlabel_map.pbtxt\u001b[0m*  \u001b[01;32mtest.txt\u001b[0m*  \u001b[01;32mtrain.txt\u001b[0m*  \u001b[01;32mval.txt\u001b[0m*\n"
          ],
          "name": "stdout"
        }
      ]
    },
    {
      "cell_type": "code",
      "metadata": {
        "id": "o0nGSPh5E8mI",
        "colab_type": "code",
        "outputId": "16cf4237-c160-42e5-baea-2f543592f785",
        "colab": {
          "base_uri": "https://localhost:8080/",
          "height": 85
        }
      },
      "source": [
        "# Update and pull repo if required\n",
        "%cd ~/data/mine/\n",
        "%ls\n",
        "!git pull\n"
      ],
      "execution_count": 25,
      "outputs": [
        {
          "output_type": "stream",
          "text": [
            "/root/data/mine\n",
            "inference.ipynb  \u001b[0m\u001b[01;34mmachineLearning\u001b[0m/      README.md\n",
            "Macbeth1.ipynb   mask_rcnn_demo.ipynb\n",
            "Already up to date.\n"
          ],
          "name": "stdout"
        }
      ]
    },
    {
      "cell_type": "code",
      "metadata": {
        "id": "vgYVQnLAw-fR",
        "colab_type": "code",
        "colab": {}
      },
      "source": [
        "%cd /root/data/\n",
        "%mkdir trimaps\n",
        "\n",
        "from PIL import Image\n",
        "image = Image.new(\"RGB\", (640, 480))\n",
        "\n",
        "for filename in os.listdir(annotationsFilesBasePath):\n",
        "  filenameTokens = filename.split(\".\")\n",
        "  newFileName = \"trimaps/\" + filename + '.png'\n",
        "  print('Saving: {0}'.format(newFileName))\n",
        "  image.save(newFileName)"
      ],
      "execution_count": 0,
      "outputs": []
    },
    {
      "cell_type": "code",
      "metadata": {
        "id": "U35sKd8mUUnv",
        "colab_type": "code",
        "colab": {}
      },
      "source": [
        "\n",
        "from mrcnn.config import Config\n",
        "\n",
        "# Derived from https://github.com/matterport/Mask_RCNN/blob/master/samples/shapes/train_shapes.ipynb\n",
        "class MacbethConfig(Config):\n",
        "    # Give the configuration a recognizable name\n",
        "    NAME = \"macbeth\"\n",
        "    \n",
        "    # Train on 1 GPU and 8 images per GPU. We can put multiple images on each\n",
        "    # GPU because the images are small. Batch size is 8 (GPUs * images/GPU).\n",
        "    GPU_COUNT = 1\n",
        "    IMAGES_PER_GPU = 8\n",
        "    \n",
        "    # Number of classes (including background)\n",
        "    NUM_CLASSES = 1 + 1\n",
        "    \n",
        "    # Use small images for faster training. Set the limits of the small side\n",
        "    # the large side, and that determines the image shape.\n",
        "    IMAGE_MIN_DIM = 128\n",
        "    IMAGE_MAX_DIM = 128\n",
        "    \n",
        "    # Use smaller anchors because our image and objects are small\n",
        "    RPM_ANCHOR_SCALES = (8, 16, 32, 64, 128)\n",
        "    \n",
        "    # Reduce training ROIs per image because the images are small and have\n",
        "    # few objects. Aim to allow ROI sampling to pick 33% positive ROIs.\n",
        "    TRAIN_ROIS_PER_IMAGE = 32\n",
        "    \n",
        "    # Use a small epoch since the data is simple\n",
        "    STEPS_PER_EPOCH = 100\n",
        "    \n",
        "    # use small validation steps since the epoch is small\n",
        "    VALIDATION_STEPS = 5\n",
        "    \n",
        "config = MacbethConfig()\n",
        "config.display()"
      ],
      "execution_count": 0,
      "outputs": []
    },
    {
      "cell_type": "code",
      "metadata": {
        "id": "aCSAPTkbX5mh",
        "colab_type": "code",
        "colab": {}
      },
      "source": [
        "import \n",
        "\n",
        "# URL from which to download the latest COCO trained weights\n",
        "COCO_MODEL_URL = \"https://github.com/matterport/Mask_RCNN/releases/download/v2.0/mask_rcnn_coco.h5\"\n",
        "\n",
        "class MacbethDataset(mrcnn.utils.Dataset):\n",
        "    \n",
        "    \n",
        "\n",
        "\n"
      ],
      "execution_count": 0,
      "outputs": []
    },
    {
      "cell_type": "code",
      "metadata": {
        "id": "Jd4KUgaZMLl9",
        "colab_type": "code",
        "colab": {}
      },
      "source": [
        ""
      ],
      "execution_count": 0,
      "outputs": []
    }
  ]
}