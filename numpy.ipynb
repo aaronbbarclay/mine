{
  "nbformat": 4,
  "nbformat_minor": 0,
  "metadata": {
    "colab": {
      "name": "numpy.ipynb",
      "version": "0.3.2",
      "provenance": [],
      "include_colab_link": true
    },
    "kernelspec": {
      "name": "python3",
      "display_name": "Python 3"
    }
  },
  "cells": [
    {
      "cell_type": "markdown",
      "metadata": {
        "id": "view-in-github",
        "colab_type": "text"
      },
      "source": [
        "<a href=\"https://colab.research.google.com/github/aaronbbarclay/mine/blob/master/numpy.ipynb\" target=\"_parent\"><img src=\"https://colab.research.google.com/assets/colab-badge.svg\" alt=\"Open In Colab\"/></a>"
      ]
    },
    {
      "cell_type": "code",
      "metadata": {
        "id": "fQkeCQFUhhgE",
        "colab_type": "code",
        "colab": {
          "base_uri": "https://localhost:8080/",
          "height": 714
        },
        "outputId": "5664faee-0a17-4184-c4b8-4d71365b14ca"
      },
      "source": [
        "%matplotlib inline\n",
        "\n",
        "from PIL import Image\n",
        "import numpy\n",
        "from matplotlib import pyplot as plt\n",
        "from PIL import Image\n",
        "import PIL.ExifTags\n",
        "\n",
        "from PIL import Image\n",
        "\n",
        "import numpy as np\n",
        "\n",
        "a = np.array([1,2,3,4])\n",
        "\n",
        "print(a.shape)\n",
        "\n",
        "\n",
        "b = np.array([[1,2,3,4,], [5,6,7,8]])\n",
        "\n",
        "print(b.shape)\n",
        "\n",
        "\"\"\"\n",
        "Create a 3 channel 10x10 image\n",
        "\n",
        "Indexing is more like Y, X\n",
        "[Y, X, CHANNEL]\n",
        "\n",
        "\"\"\" \n",
        "c = np.zeros((10, 10, 3))\n",
        "c[0, 0, 0] = 1 # (0,0) red = 1\n",
        "c[1, 0, 0] = 2 # (1,0) red = 1\n",
        "c[0, 0, 1] = 1 # (0,0) green = 1\n",
        "c[5, 2, 2] = 1 # (5,2) blue = 1 \n",
        "\n",
        "print(c[0, 0])\n",
        "print(c[0, 1])\n",
        "\n",
        "\n",
        "print(c.shape)\n",
        "\n",
        "#print(c)\n",
        "\n",
        "\n",
        "plt.figure(figsize=(10, 10))\n",
        "#plt.title(result[\"class_ids\"])\n",
        "plt.imshow(c)\n",
        "\n"
      ],
      "execution_count": 26,
      "outputs": [
        {
          "output_type": "stream",
          "text": [
            "Clipping input data to the valid range for imshow with RGB data ([0..1] for floats or [0..255] for integers).\n"
          ],
          "name": "stderr"
        },
        {
          "output_type": "stream",
          "text": [
            "(4,)\n",
            "(2, 4)\n",
            "[1. 1. 0.]\n",
            "[0. 0. 0.]\n",
            "(10, 10, 3)\n"
          ],
          "name": "stdout"
        },
        {
          "output_type": "execute_result",
          "data": {
            "text/plain": [
              "<matplotlib.image.AxesImage at 0x7f7ca9f52fd0>"
            ]
          },
          "metadata": {
            "tags": []
          },
          "execution_count": 26
        },
        {
          "output_type": "display_data",
          "data": {
            "image/png": "[encoded data removed]",
            "text/plain": [
              "<Figure size 720x720 with 1 Axes>"
            ]
          },
          "metadata": {
            "tags": []
          }
        }
      ]
    }
  ]
}