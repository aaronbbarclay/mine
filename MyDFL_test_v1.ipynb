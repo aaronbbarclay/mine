{
  "nbformat": 4,
  "nbformat_minor": 0,
  "metadata": {
    "colab": {
      "name": "MyDFL_test_v1.ipynb",
      "version": "0.3.2",
      "provenance": [],
      "include_colab_link": true
    },
    "kernelspec": {
      "name": "python3",
      "display_name": "Python 3"
    },
    "accelerator": "GPU"
  },
  "cells": [
    {
      "cell_type": "markdown",
      "metadata": {
        "id": "view-in-github",
        "colab_type": "text"
      },
      "source": [
        "<a href=\"https://colab.research.google.com/github/aaronbbarclay/mine/blob/master/MyDFL_test_v1.ipynb\" target=\"_parent\"><img src=\"https://colab.research.google.com/assets/colab-badge.svg\" alt=\"Open In Colab\"/></a>"
      ]
    },
    {
      "cell_type": "code",
      "metadata": {
        "id": "dLy_m8MPNpja",
        "colab_type": "code",
        "colab": {
          "base_uri": "https://localhost:8080/",
          "height": 51
        },
        "outputId": "8a031c22-1323-445f-9d47-f5f7516e0954"
      },
      "source": [
        "%cd /content\n",
        "%ls"
      ],
      "execution_count": 3,
      "outputs": [
        {
          "output_type": "stream",
          "text": [
            "/content\n",
            "\u001b[0m\u001b[01;34msample_data\u001b[0m/  \u001b[01;34mworkspace\u001b[0m/\n"
          ],
          "name": "stdout"
        }
      ]
    },
    {
      "cell_type": "code",
      "metadata": {
        "id": "qJvL-sAuEZet",
        "colab_type": "code",
        "colab": {
          "base_uri": "https://localhost:8080/",
          "height": 119
        },
        "outputId": "72e2676c-3c87-46f1-a580-6b068fb290bc"
      },
      "source": [
        "!git clone https://github.com/iperov/DeepFaceLab.git"
      ],
      "execution_count": 5,
      "outputs": [
        {
          "output_type": "stream",
          "text": [
            "Cloning into 'DeepFaceLab'...\n",
            "remote: Enumerating objects: 3223, done.\u001b[K\n",
            "remote: Total 3223 (delta 0), reused 0 (delta 0), pack-reused 3223\u001b[K\n",
            "Receiving objects: 100% (3223/3223), 298.48 MiB | 36.89 MiB/s, done.\n",
            "Resolving deltas: 100% (2076/2076), done.\n",
            "Checking out files: 100% (122/122), done.\n"
          ],
          "name": "stdout"
        }
      ]
    },
    {
      "cell_type": "code",
      "metadata": {
        "id": "CMDBjfaUNqwk",
        "colab_type": "code",
        "colab": {}
      },
      "source": [
        ""
      ],
      "execution_count": 0,
      "outputs": []
    },
    {
      "cell_type": "code",
      "metadata": {
        "id": "6muUxix7Nq0F",
        "colab_type": "code",
        "colab": {
          "base_uri": "https://localhost:8080/",
          "height": 1176
        },
        "outputId": "4fe2ac5d-4135-4897-d9d7-7825a9bd852e"
      },
      "source": [
        "!pip install -r /content/DeepFaceLab/requirements-colab.txt"
      ],
      "execution_count": 6,
      "outputs": [
        {
          "output_type": "stream",
          "text": [
            "Collecting git+https://www.github.com/keras-team/keras-contrib.git (from -r /content/DeepFaceLab/requirements-colab.txt (line 10))\n",
            "  Cloning https://www.github.com/keras-team/keras-contrib.git to /tmp/pip-req-build-wu9ig9n4\n",
            "  Running command git clone -q https://www.github.com/keras-team/keras-contrib.git /tmp/pip-req-build-wu9ig9n4\n",
            "Requirement already satisfied: numpy==1.16.3 in /usr/local/lib/python3.6/dist-packages (from -r /content/DeepFaceLab/requirements-colab.txt (line 1)) (1.16.3)\n",
            "Collecting h5py==2.9.0 (from -r /content/DeepFaceLab/requirements-colab.txt (line 2))\n",
            "\u001b[?25l  Downloading https://files.pythonhosted.org/packages/30/99/d7d4fbf2d02bb30fb76179911a250074b55b852d34e98dd452a9f394ac06/h5py-2.9.0-cp36-cp36m-manylinux1_x86_64.whl (2.8MB)\n",
            "\u001b[K     |████████████████████████████████| 2.8MB 3.4MB/s \n",
            "\u001b[?25hRequirement already satisfied: Keras==2.2.4 in /usr/local/lib/python3.6/dist-packages (from -r /content/DeepFaceLab/requirements-colab.txt (line 3)) (2.2.4)\n",
            "Collecting opencv-python==4.0.0.21 (from -r /content/DeepFaceLab/requirements-colab.txt (line 4))\n",
            "\u001b[?25l  Downloading https://files.pythonhosted.org/packages/37/49/874d119948a5a084a7ebe98308214098ef3471d76ab74200f9800efeef15/opencv_python-4.0.0.21-cp36-cp36m-manylinux1_x86_64.whl (25.4MB)\n",
            "\u001b[K     |████████████████████████████████| 25.4MB 51.0MB/s \n",
            "\u001b[?25hCollecting tensorflow-gpu==1.13.1 (from -r /content/DeepFaceLab/requirements-colab.txt (line 5))\n",
            "\u001b[?25l  Downloading https://files.pythonhosted.org/packages/7b/b1/0ad4ae02e17ddd62109cd54c291e311c4b5fd09b4d0678d3d6ce4159b0f0/tensorflow_gpu-1.13.1-cp36-cp36m-manylinux1_x86_64.whl (345.2MB)\n",
            "\u001b[K     |████████████████████████████████| 345.2MB 46kB/s \n",
            "\u001b[?25hCollecting plaidml-keras==0.5.0 (from -r /content/DeepFaceLab/requirements-colab.txt (line 6))\n",
            "  Downloading https://files.pythonhosted.org/packages/17/34/4102261e3d8867c31bae9f4def5d7e700fc25fff232fa1780040e8ed79b0/plaidml_keras-0.5.0-py2.py3-none-any.whl\n",
            "Requirement already satisfied: scikit-image in /usr/local/lib/python3.6/dist-packages (from -r /content/DeepFaceLab/requirements-colab.txt (line 7)) (0.15.0)\n",
            "Requirement already satisfied: tqdm in /usr/local/lib/python3.6/dist-packages (from -r /content/DeepFaceLab/requirements-colab.txt (line 8)) (4.28.1)\n",
            "Collecting ffmpeg-python==0.1.17 (from -r /content/DeepFaceLab/requirements-colab.txt (line 9))\n",
            "  Downloading https://files.pythonhosted.org/packages/3d/10/330cbc8e63d072d40413f4d470444a6a1e8c8c6a80b2a4ac302d1252ca1b/ffmpeg_python-0.1.17-py3-none-any.whl\n",
            "Requirement already satisfied: six in /usr/local/lib/python3.6/dist-packages (from h5py==2.9.0->-r /content/DeepFaceLab/requirements-colab.txt (line 2)) (1.12.0)\n",
            "Requirement already satisfied: pyyaml in /usr/local/lib/python3.6/dist-packages (from Keras==2.2.4->-r /content/DeepFaceLab/requirements-colab.txt (line 3)) (3.13)\n",
            "Requirement already satisfied: keras-applications>=1.0.6 in /usr/local/lib/python3.6/dist-packages (from Keras==2.2.4->-r /content/DeepFaceLab/requirements-colab.txt (line 3)) (1.0.7)\n",
            "Requirement already satisfied: scipy>=0.14 in /usr/local/lib/python3.6/dist-packages (from Keras==2.2.4->-r /content/DeepFaceLab/requirements-colab.txt (line 3)) (1.3.0)\n",
            "Requirement already satisfied: keras-preprocessing>=1.0.5 in /usr/local/lib/python3.6/dist-packages (from Keras==2.2.4->-r /content/DeepFaceLab/requirements-colab.txt (line 3)) (1.0.9)\n",
            "Requirement already satisfied: absl-py>=0.1.6 in /usr/local/lib/python3.6/dist-packages (from tensorflow-gpu==1.13.1->-r /content/DeepFaceLab/requirements-colab.txt (line 5)) (0.7.1)\n",
            "Requirement already satisfied: tensorboard<1.14.0,>=1.13.0 in /usr/local/lib/python3.6/dist-packages (from tensorflow-gpu==1.13.1->-r /content/DeepFaceLab/requirements-colab.txt (line 5)) (1.13.1)\n",
            "Requirement already satisfied: termcolor>=1.1.0 in /usr/local/lib/python3.6/dist-packages (from tensorflow-gpu==1.13.1->-r /content/DeepFaceLab/requirements-colab.txt (line 5)) (1.1.0)\n",
            "Requirement already satisfied: gast>=0.2.0 in /usr/local/lib/python3.6/dist-packages (from tensorflow-gpu==1.13.1->-r /content/DeepFaceLab/requirements-colab.txt (line 5)) (0.2.2)\n",
            "Requirement already satisfied: astor>=0.6.0 in /usr/local/lib/python3.6/dist-packages (from tensorflow-gpu==1.13.1->-r /content/DeepFaceLab/requirements-colab.txt (line 5)) (0.8.0)\n",
            "Requirement already satisfied: protobuf>=3.6.1 in /usr/local/lib/python3.6/dist-packages (from tensorflow-gpu==1.13.1->-r /content/DeepFaceLab/requirements-colab.txt (line 5)) (3.7.1)\n",
            "Requirement already satisfied: wheel>=0.26 in /usr/local/lib/python3.6/dist-packages (from tensorflow-gpu==1.13.1->-r /content/DeepFaceLab/requirements-colab.txt (line 5)) (0.33.4)\n",
            "Requirement already satisfied: tensorflow-estimator<1.14.0rc0,>=1.13.0 in /usr/local/lib/python3.6/dist-packages (from tensorflow-gpu==1.13.1->-r /content/DeepFaceLab/requirements-colab.txt (line 5)) (1.13.0)\n",
            "Requirement already satisfied: grpcio>=1.8.6 in /usr/local/lib/python3.6/dist-packages (from tensorflow-gpu==1.13.1->-r /content/DeepFaceLab/requirements-colab.txt (line 5)) (1.15.0)\n",
            "Collecting plaidml (from plaidml-keras==0.5.0->-r /content/DeepFaceLab/requirements-colab.txt (line 6))\n",
            "\u001b[?25l  Downloading https://files.pythonhosted.org/packages/2e/42/b83eb39cc0222b1c92d257904fe808d887f7f6a07a2af37aa3bd41b1778f/plaidml-0.6.0-py2.py3-none-manylinux1_x86_64.whl (38.3MB)\n",
            "\u001b[K     |████████████████████████████████| 38.3MB 66.7MB/s \n",
            "\u001b[?25hRequirement already satisfied: PyWavelets>=0.4.0 in /usr/local/lib/python3.6/dist-packages (from scikit-image->-r /content/DeepFaceLab/requirements-colab.txt (line 7)) (1.0.3)\n",
            "Requirement already satisfied: networkx>=2.0 in /usr/local/lib/python3.6/dist-packages (from scikit-image->-r /content/DeepFaceLab/requirements-colab.txt (line 7)) (2.3)\n",
            "Requirement already satisfied: imageio>=2.0.1 in /usr/local/lib/python3.6/dist-packages (from scikit-image->-r /content/DeepFaceLab/requirements-colab.txt (line 7)) (2.4.1)\n",
            "Requirement already satisfied: pillow>=4.3.0 in /usr/local/lib/python3.6/dist-packages (from scikit-image->-r /content/DeepFaceLab/requirements-colab.txt (line 7)) (4.3.0)\n",
            "Requirement already satisfied: matplotlib!=3.0.0,>=2.0.0 in /usr/local/lib/python3.6/dist-packages (from scikit-image->-r /content/DeepFaceLab/requirements-colab.txt (line 7)) (3.0.3)\n",
            "Requirement already satisfied: future in /usr/local/lib/python3.6/dist-packages (from ffmpeg-python==0.1.17->-r /content/DeepFaceLab/requirements-colab.txt (line 9)) (0.16.0)\n",
            "Requirement already satisfied: markdown>=2.6.8 in /usr/local/lib/python3.6/dist-packages (from tensorboard<1.14.0,>=1.13.0->tensorflow-gpu==1.13.1->-r /content/DeepFaceLab/requirements-colab.txt (line 5)) (3.1.1)\n",
            "Requirement already satisfied: werkzeug>=0.11.15 in /usr/local/lib/python3.6/dist-packages (from tensorboard<1.14.0,>=1.13.0->tensorflow-gpu==1.13.1->-r /content/DeepFaceLab/requirements-colab.txt (line 5)) (0.15.4)\n",
            "Requirement already satisfied: setuptools in /usr/local/lib/python3.6/dist-packages (from protobuf>=3.6.1->tensorflow-gpu==1.13.1->-r /content/DeepFaceLab/requirements-colab.txt (line 5)) (41.0.1)\n",
            "Requirement already satisfied: mock>=2.0.0 in /usr/local/lib/python3.6/dist-packages (from tensorflow-estimator<1.14.0rc0,>=1.13.0->tensorflow-gpu==1.13.1->-r /content/DeepFaceLab/requirements-colab.txt (line 5)) (3.0.5)\n",
            "Requirement already satisfied: enum34>=1.1.6 in /usr/local/lib/python3.6/dist-packages (from plaidml->plaidml-keras==0.5.0->-r /content/DeepFaceLab/requirements-colab.txt (line 6)) (1.1.6)\n",
            "Requirement already satisfied: decorator>=4.3.0 in /usr/local/lib/python3.6/dist-packages (from networkx>=2.0->scikit-image->-r /content/DeepFaceLab/requirements-colab.txt (line 7)) (4.4.0)\n",
            "Requirement already satisfied: olefile in /usr/local/lib/python3.6/dist-packages (from pillow>=4.3.0->scikit-image->-r /content/DeepFaceLab/requirements-colab.txt (line 7)) (0.46)\n",
            "Requirement already satisfied: pyparsing!=2.0.4,!=2.1.2,!=2.1.6,>=2.0.1 in /usr/local/lib/python3.6/dist-packages (from matplotlib!=3.0.0,>=2.0.0->scikit-image->-r /content/DeepFaceLab/requirements-colab.txt (line 7)) (2.4.0)\n",
            "Requirement already satisfied: kiwisolver>=1.0.1 in /usr/local/lib/python3.6/dist-packages (from matplotlib!=3.0.0,>=2.0.0->scikit-image->-r /content/DeepFaceLab/requirements-colab.txt (line 7)) (1.1.0)\n",
            "Requirement already satisfied: python-dateutil>=2.1 in /usr/local/lib/python3.6/dist-packages (from matplotlib!=3.0.0,>=2.0.0->scikit-image->-r /content/DeepFaceLab/requirements-colab.txt (line 7)) (2.5.3)\n",
            "Requirement already satisfied: cycler>=0.10 in /usr/local/lib/python3.6/dist-packages (from matplotlib!=3.0.0,>=2.0.0->scikit-image->-r /content/DeepFaceLab/requirements-colab.txt (line 7)) (0.10.0)\n",
            "Building wheels for collected packages: keras-contrib\n",
            "  Building wheel for keras-contrib (setup.py) ... \u001b[?25l\u001b[?25hdone\n",
            "  Stored in directory: /tmp/pip-ephem-wheel-cache-2kqc66h_/wheels/11/27/c8/4ed56de7b55f4f61244e2dc6ef3cdbaff2692527a2ce6502ba\n",
            "Successfully built keras-contrib\n",
            "\u001b[31mERROR: albumentations 0.1.12 has requirement imgaug<0.2.7,>=0.2.5, but you'll have imgaug 0.2.9 which is incompatible.\u001b[0m\n",
            "Installing collected packages: h5py, opencv-python, tensorflow-gpu, plaidml, plaidml-keras, ffmpeg-python, keras-contrib\n",
            "  Found existing installation: h5py 2.8.0\n",
            "    Uninstalling h5py-2.8.0:\n",
            "      Successfully uninstalled h5py-2.8.0\n",
            "  Found existing installation: opencv-python 3.4.5.20\n",
            "    Uninstalling opencv-python-3.4.5.20:\n",
            "      Successfully uninstalled opencv-python-3.4.5.20\n",
            "Successfully installed ffmpeg-python-0.1.17 h5py-2.9.0 keras-contrib-2.0.8 opencv-python-4.0.0.21 plaidml-0.6.0 plaidml-keras-0.5.0 tensorflow-gpu-1.13.1\n"
          ],
          "name": "stdout"
        }
      ]
    },
    {
      "cell_type": "code",
      "metadata": {
        "id": "bAZjSLNWOIsm",
        "colab_type": "code",
        "colab": {
          "base_uri": "https://localhost:8080/",
          "height": 156
        },
        "outputId": "a499621c-82f6-406a-c91e-7b9daca8908b"
      },
      "source": [
        "\n",
        "%mkdir -p /content/workspace\n",
        "%cd /content/workspace\n",
        "\n",
        "#Mount Google Drive as folder\n",
        "from google.colab import drive\n",
        "drive.mount('/content/drive', force_remount=True)\n",
        "\n",
        "%ls"
      ],
      "execution_count": 7,
      "outputs": [
        {
          "output_type": "stream",
          "text": [
            "/content/workspace\n",
            "Go to this URL in a browser: https://accounts.google.com/o/oauth2/auth?client_id=947318989803-6bn6qk8qdgf4n4g3pfee6491hc0brc4i.apps.googleusercontent.com&redirect_uri=urn%3Aietf%3Awg%3Aoauth%3A2.0%3Aoob&scope=email%20https%3A%2F%2Fwww.googleapis.com%2Fauth%2Fdocs.test%20https%3A%2F%2Fwww.googleapis.com%2Fauth%2Fdrive%20https%3A%2F%2Fwww.googleapis.com%2Fauth%2Fdrive.photos.readonly%20https%3A%2F%2Fwww.googleapis.com%2Fauth%2Fpeopleapi.readonly&response_type=code\n",
            "\n",
            "Enter your authorization code:\n",
            "··········\n",
            "Mounted at /content/drive\n",
            "\u001b[0m\u001b[01;34mdata_src\u001b[0m/\n"
          ],
          "name": "stdout"
        }
      ]
    },
    {
      "cell_type": "code",
      "metadata": {
        "id": "eAE6n8spZz3s",
        "colab_type": "code",
        "colab": {}
      },
      "source": [
        "%cp /content/drive/My\\ Drive/DFL/IMG_1638.MOV /content/workspace/data_src.mov\n",
        "%cp /content/drive/My\\ Drive/DFL/IMG_1639.MOV /content/workspace/data_dst.mov\n"
      ],
      "execution_count": 0,
      "outputs": []
    },
    {
      "cell_type": "code",
      "metadata": {
        "id": "Yg0yvqJmgeyA",
        "colab_type": "code",
        "colab": {
          "base_uri": "https://localhost:8080/",
          "height": 34
        },
        "outputId": "0fbbbd36-0a40-49f9-eee6-815da91c2924"
      },
      "source": [
        "%ls /content/workspace/"
      ],
      "execution_count": 12,
      "outputs": [
        {
          "output_type": "stream",
          "text": [
            "\u001b[0m\u001b[01;34mdata_dst\u001b[0m/  data_dst.mov  \u001b[01;34mdata_src\u001b[0m/  data_src.mov\n"
          ],
          "name": "stdout"
        }
      ]
    },
    {
      "cell_type": "code",
      "metadata": {
        "id": "D1IayHvePhvs",
        "colab_type": "code",
        "colab": {}
      },
      "source": [
        "%mkdir -p /content/workspace/data_src\n",
        "%mkdir -p /content/workspace/data_dst"
      ],
      "execution_count": 0,
      "outputs": []
    },
    {
      "cell_type": "code",
      "metadata": {
        "id": "oK5IicIuPXxF",
        "colab_type": "code",
        "colab": {
          "base_uri": "https://localhost:8080/",
          "height": 1295
        },
        "outputId": "95d64e4e-296c-4af7-ad4f-5e0864fadee5"
      },
      "source": [
        "cmd = '/content/DeepFaceLab/main.py videoed extract-video --input-file /content/workspace/data_src.mov --output-dir /content/workspace/data_src'\n",
        "!python $cmd\n",
        "\n"
      ],
      "execution_count": 13,
      "outputs": [
        {
          "output_type": "stream",
          "text": [
            "Enter FPS ( ?:help skip:fullfps ) : \n",
            "0\n",
            "Output image format? ( jpg png ?:help skip:png ) : jpg\n",
            "ffmpeg version 3.4.6-0ubuntu0.18.04.1 Copyright (c) 2000-2019 the FFmpeg developers\n",
            "  built with gcc 7 (Ubuntu 7.3.0-16ubuntu3)\n",
            "  configuration: --prefix=/usr --extra-version=0ubuntu0.18.04.1 --toolchain=hardened --libdir=/usr/lib/x86_64-linux-gnu --incdir=/usr/include/x86_64-linux-gnu --enable-gpl --disable-stripping --enable-avresample --enable-avisynth --enable-gnutls --enable-ladspa --enable-libass --enable-libbluray --enable-libbs2b --enable-libcaca --enable-libcdio --enable-libflite --enable-libfontconfig --enable-libfreetype --enable-libfribidi --enable-libgme --enable-libgsm --enable-libmp3lame --enable-libmysofa --enable-libopenjpeg --enable-libopenmpt --enable-libopus --enable-libpulse --enable-librubberband --enable-librsvg --enable-libshine --enable-libsnappy --enable-libsoxr --enable-libspeex --enable-libssh --enable-libtheora --enable-libtwolame --enable-libvorbis --enable-libvpx --enable-libwavpack --enable-libwebp --enable-libx265 --enable-libxml2 --enable-libxvid --enable-libzmq --enable-libzvbi --enable-omx --enable-openal --enable-opengl --enable-sdl2 --enable-libdc1394 --enable-libdrm --enable-libiec61883 --enable-chromaprint --enable-frei0r --enable-libopencv --enable-libx264 --enable-shared\n",
            "  libavutil      55. 78.100 / 55. 78.100\n",
            "  libavcodec     57.107.100 / 57.107.100\n",
            "  libavformat    57. 83.100 / 57. 83.100\n",
            "  libavdevice    57. 10.100 / 57. 10.100\n",
            "  libavfilter     6.107.100 /  6.107.100\n",
            "  libavresample   3.  7.  0 /  3.  7.  0\n",
            "  libswscale      4.  8.100 /  4.  8.100\n",
            "  libswresample   2.  9.100 /  2.  9.100\n",
            "  libpostproc    54.  7.100 / 54.  7.100\n",
            "Input #0, mov,mp4,m4a,3gp,3g2,mj2, from '/content/workspace/data_src.mov':\n",
            "  Metadata:\n",
            "    major_brand     : qt  \n",
            "    minor_version   : 0\n",
            "    compatible_brands: qt  \n",
            "    creation_time   : 2019-05-29T23:28:50.000000Z\n",
            "    com.apple.quicktime.location.ISO6709: -33.8934+151.2293+055.696/\n",
            "    com.apple.quicktime.make: Apple\n",
            "    com.apple.quicktime.model: iPhone 8 Plus\n",
            "    com.apple.quicktime.software: 12.4\n",
            "    com.apple.quicktime.creationdate: 2019-05-30T09:28:50+1000\n",
            "  Duration: 00:00:13.63, start: 0.000000, bitrate: 5244 kb/s\n",
            "    Stream #0:0(und): Video: hevc (Main) (hvc1 / 0x31637668), yuv420p(tv, bt709), 1280x720, 5109 kb/s, 30.01 fps, 30 tbr, 600 tbn, 600 tbc (default)\n",
            "    Metadata:\n",
            "      rotate          : 180\n",
            "      creation_time   : 2019-05-29T23:28:50.000000Z\n",
            "      handler_name    : Core Media Data Handler\n",
            "      encoder         : HEVC\n",
            "    Side data:\n",
            "      displaymatrix: rotation of -180.00 degrees\n",
            "    Stream #0:1(und): Audio: aac (LC) (mp4a / 0x6134706D), 44100 Hz, mono, fltp, 92 kb/s (default)\n",
            "    Metadata:\n",
            "      creation_time   : 2019-05-29T23:28:51.000000Z\n",
            "      handler_name    : Core Media Data Handler\n",
            "    Stream #0:2(und): Data: none (mebx / 0x7862656D), 22 kb/s (default)\n",
            "    Metadata:\n",
            "      creation_time   : 2019-05-29T23:28:51.000000Z\n",
            "      handler_name    : Core Media Data Handler\n",
            "    Stream #0:3(und): Data: none (mebx / 0x7862656D), 0 kb/s (default)\n",
            "    Metadata:\n",
            "      creation_time   : 2019-05-29T23:28:51.000000Z\n",
            "      handler_name    : Core Media Data Handler\n",
            "Stream mapping:\n",
            "  Stream #0:0 -> #0:0 (hevc (native) -> mjpeg (native))\n",
            "Press [q] to stop, [?] for help\n",
            "\u001b[0;33mIncompatible pixel format 'rgb24' for codec 'mjpeg', auto-selecting format 'yuvj444p'\n",
            "\u001b[0m\u001b[1;34m[swscaler @ 0x564447bdc000] \u001b[0m\u001b[0;33mdeprecated pixel format used, make sure you did set range correctly\n",
            "\u001b[0mOutput #0, image2, to '/content/workspace/data_src/%5d.jpg':\n",
            "  Metadata:\n",
            "    major_brand     : qt  \n",
            "    minor_version   : 0\n",
            "    compatible_brands: qt  \n",
            "    com.apple.quicktime.creationdate: 2019-05-30T09:28:50+1000\n",
            "    com.apple.quicktime.location.ISO6709: -33.8934+151.2293+055.696/\n",
            "    com.apple.quicktime.make: Apple\n",
            "    com.apple.quicktime.model: iPhone 8 Plus\n",
            "    com.apple.quicktime.software: 12.4\n",
            "    encoder         : Lavf57.83.100\n",
            "    Stream #0:0(und): Video: mjpeg, yuvj444p(pc), 1280x720, q=2-31, 200 kb/s, 30 fps, 30 tbn, 30 tbc (default)\n",
            "    Metadata:\n",
            "      encoder         : Lavc57.107.100 mjpeg\n",
            "      creation_time   : 2019-05-29T23:28:50.000000Z\n",
            "      handler_name    : Core Media Data Handler\n",
            "    Side data:\n",
            "      cpb: bitrate max/min/avg: 0/0/200000 buffer size: 0 vbv_delay: -1\n",
            "      displaymatrix: rotation of -0.00 degrees\n",
            "frame=  409 fps= 45 q=2.0 Lsize=N/A time=00:00:13.63 bitrate=N/A speed=1.49x    \n",
            "video:88086kB audio:0kB subtitle:0kB other streams:0kB global headers:0kB muxing overhead: unknown\n",
            "Done.\n"
          ],
          "name": "stdout"
        }
      ]
    },
    {
      "cell_type": "code",
      "metadata": {
        "id": "KSQvN91fcE_b",
        "colab_type": "code",
        "colab": {
          "base_uri": "https://localhost:8080/",
          "height": 1227
        },
        "outputId": "a23d57be-1635-43d9-b503-d93fec7fc4e5"
      },
      "source": [
        "cmd = '/content/DeepFaceLab/main.py videoed extract-video --input-file /content/workspace/data_dst.mov --output-dir /content/workspace/data_dst'\n",
        "!python $cmd"
      ],
      "execution_count": 14,
      "outputs": [
        {
          "output_type": "stream",
          "text": [
            "Enter FPS ( ?:help skip:fullfps ) : \n",
            "0\n",
            "Output image format? ( jpg png ?:help skip:png ) : jpg\n",
            "ffmpeg version 3.4.6-0ubuntu0.18.04.1 Copyright (c) 2000-2019 the FFmpeg developers\n",
            "  built with gcc 7 (Ubuntu 7.3.0-16ubuntu3)\n",
            "  configuration: --prefix=/usr --extra-version=0ubuntu0.18.04.1 --toolchain=hardened --libdir=/usr/lib/x86_64-linux-gnu --incdir=/usr/include/x86_64-linux-gnu --enable-gpl --disable-stripping --enable-avresample --enable-avisynth --enable-gnutls --enable-ladspa --enable-libass --enable-libbluray --enable-libbs2b --enable-libcaca --enable-libcdio --enable-libflite --enable-libfontconfig --enable-libfreetype --enable-libfribidi --enable-libgme --enable-libgsm --enable-libmp3lame --enable-libmysofa --enable-libopenjpeg --enable-libopenmpt --enable-libopus --enable-libpulse --enable-librubberband --enable-librsvg --enable-libshine --enable-libsnappy --enable-libsoxr --enable-libspeex --enable-libssh --enable-libtheora --enable-libtwolame --enable-libvorbis --enable-libvpx --enable-libwavpack --enable-libwebp --enable-libx265 --enable-libxml2 --enable-libxvid --enable-libzmq --enable-libzvbi --enable-omx --enable-openal --enable-opengl --enable-sdl2 --enable-libdc1394 --enable-libdrm --enable-libiec61883 --enable-chromaprint --enable-frei0r --enable-libopencv --enable-libx264 --enable-shared\n",
            "  libavutil      55. 78.100 / 55. 78.100\n",
            "  libavcodec     57.107.100 / 57.107.100\n",
            "  libavformat    57. 83.100 / 57. 83.100\n",
            "  libavdevice    57. 10.100 / 57. 10.100\n",
            "  libavfilter     6.107.100 /  6.107.100\n",
            "  libavresample   3.  7.  0 /  3.  7.  0\n",
            "  libswscale      4.  8.100 /  4.  8.100\n",
            "  libswresample   2.  9.100 /  2.  9.100\n",
            "  libpostproc    54.  7.100 / 54.  7.100\n",
            "Input #0, mov,mp4,m4a,3gp,3g2,mj2, from '/content/workspace/data_dst.mov':\n",
            "  Metadata:\n",
            "    major_brand     : qt  \n",
            "    minor_version   : 0\n",
            "    compatible_brands: qt  \n",
            "    creation_time   : 2019-05-29T23:29:23.000000Z\n",
            "    com.apple.quicktime.location.ISO6709: -33.8934+151.2293+054.924/\n",
            "    com.apple.quicktime.make: Apple\n",
            "    com.apple.quicktime.model: iPhone 8 Plus\n",
            "    com.apple.quicktime.software: 12.4\n",
            "    com.apple.quicktime.creationdate: 2019-05-30T09:29:23+1000\n",
            "  Duration: 00:00:11.80, start: 0.000000, bitrate: 5209 kb/s\n",
            "    Stream #0:0(und): Video: hevc (Main) (hvc1 / 0x31637668), yuv420p(tv, bt709), 1280x720, 5081 kb/s, 30 fps, 30 tbr, 600 tbn, 600 tbc (default)\n",
            "    Metadata:\n",
            "      creation_time   : 2019-05-29T23:29:23.000000Z\n",
            "      handler_name    : Core Media Data Handler\n",
            "      encoder         : HEVC\n",
            "    Stream #0:1(und): Audio: aac (LC) (mp4a / 0x6134706D), 44100 Hz, mono, fltp, 93 kb/s (default)\n",
            "    Metadata:\n",
            "      creation_time   : 2019-05-29T23:29:23.000000Z\n",
            "      handler_name    : Core Media Data Handler\n",
            "    Stream #0:2(und): Data: none (mebx / 0x7862656D), 23 kb/s (default)\n",
            "    Metadata:\n",
            "      creation_time   : 2019-05-29T23:29:23.000000Z\n",
            "      handler_name    : Core Media Data Handler\n",
            "    Stream #0:3(und): Data: none (mebx / 0x7862656D), 0 kb/s (default)\n",
            "    Metadata:\n",
            "      creation_time   : 2019-05-29T23:29:23.000000Z\n",
            "      handler_name    : Core Media Data Handler\n",
            "Stream mapping:\n",
            "  Stream #0:0 -> #0:0 (hevc (native) -> mjpeg (native))\n",
            "Press [q] to stop, [?] for help\n",
            "\u001b[0;33mIncompatible pixel format 'rgb24' for codec 'mjpeg', auto-selecting format 'yuvj444p'\n",
            "\u001b[0m\u001b[1;34m[swscaler @ 0x559db89cc000] \u001b[0m\u001b[0;33mdeprecated pixel format used, make sure you did set range correctly\n",
            "\u001b[0mOutput #0, image2, to '/content/workspace/data_dst/%5d.jpg':\n",
            "  Metadata:\n",
            "    major_brand     : qt  \n",
            "    minor_version   : 0\n",
            "    compatible_brands: qt  \n",
            "    com.apple.quicktime.creationdate: 2019-05-30T09:29:23+1000\n",
            "    com.apple.quicktime.location.ISO6709: -33.8934+151.2293+054.924/\n",
            "    com.apple.quicktime.make: Apple\n",
            "    com.apple.quicktime.model: iPhone 8 Plus\n",
            "    com.apple.quicktime.software: 12.4\n",
            "    encoder         : Lavf57.83.100\n",
            "    Stream #0:0(und): Video: mjpeg, yuvj444p(pc), 1280x720, q=2-31, 200 kb/s, 30 fps, 30 tbn, 30 tbc (default)\n",
            "    Metadata:\n",
            "      creation_time   : 2019-05-29T23:29:23.000000Z\n",
            "      handler_name    : Core Media Data Handler\n",
            "      encoder         : Lavc57.107.100 mjpeg\n",
            "    Side data:\n",
            "      cpb: bitrate max/min/avg: 0/0/200000 buffer size: 0 vbv_delay: -1\n",
            "frame=  354 fps= 45 q=2.0 Lsize=N/A time=00:00:11.80 bitrate=N/A speed= 1.5x    \n",
            "video:86837kB audio:0kB subtitle:0kB other streams:0kB global headers:0kB muxing overhead: unknown\n",
            "Done.\n"
          ],
          "name": "stdout"
        }
      ]
    },
    {
      "cell_type": "code",
      "metadata": {
        "id": "ro8b0C7zc5qR",
        "colab_type": "code",
        "colab": {
          "base_uri": "https://localhost:8080/",
          "height": 581
        },
        "outputId": "57b48033-e9bd-4274-d431-48673b731f58"
      },
      "source": [
        "%cd /content/workspace/\n",
        "%mkdir -p /content/workspace/data_src\n",
        "%mkdir -p /content/workspace/data_src/aligned\n",
        "%mkdir -p /content/workspace/data_src/aligned/debug\n",
        "\n",
        "cmd = '/content/DeepFaceLab/main.py extract --input-dir /content/workspace/data_src --output-dir /content/workspace/data_src/aligned --detector s3fd'\n",
        "!python $cmd"
      ],
      "execution_count": 15,
      "outputs": [
        {
          "output_type": "stream",
          "text": [
            "/content/workspace\n",
            "Performing 1st pass...\n",
            "Running on Tesla T4.\n",
            "Using TensorFlow backend.\n",
            "WARNING:tensorflow:From /usr/local/lib/python3.6/dist-packages/tensorflow/python/framework/op_def_library.py:263: colocate_with (from tensorflow.python.framework.ops) is deprecated and will be removed in a future version.\n",
            "Instructions for updating:\n",
            "Colocations handled automatically by placer.\n",
            "100% 409/409 [00:25<00:00, 15.87it/s]/usr/lib/python3.6/multiprocessing/semaphore_tracker.py:143: UserWarning: semaphore_tracker: There appear to be 1 leaked semaphores to clean up at shutdown\n",
            "  len(cache))\n",
            "100% 409/409 [00:25<00:00, 15.77it/s]\n",
            "Performing 2nd pass...\n",
            "Running on Tesla T4.\n",
            "Using TensorFlow backend.\n",
            "WARNING:tensorflow:From /usr/local/lib/python3.6/dist-packages/tensorflow/python/framework/op_def_library.py:263: colocate_with (from tensorflow.python.framework.ops) is deprecated and will be removed in a future version.\n",
            "Instructions for updating:\n",
            "Colocations handled automatically by placer.\n",
            "100% 409/409 [00:57<00:00,  7.17it/s]/usr/lib/python3.6/multiprocessing/semaphore_tracker.py:143: UserWarning: semaphore_tracker: There appear to be 1 leaked semaphores to clean up at shutdown\n",
            "  len(cache))\n",
            "100% 409/409 [00:57<00:00,  7.15it/s]\n",
            "Performing 3rd pass...\n",
            "Running on CPU0.\n",
            "Running on CPU1.\n",
            "100% 409/409 [00:04<00:00, 84.35it/s]/usr/lib/python3.6/multiprocessing/semaphore_tracker.py:143: UserWarning: semaphore_tracker: There appear to be 1 leaked semaphores to clean up at shutdown\n",
            "  len(cache))\n",
            "100% 409/409 [00:04<00:00, 84.04it/s]\n",
            "/usr/lib/python3.6/multiprocessing/semaphore_tracker.py:143: UserWarning: semaphore_tracker: There appear to be 1 leaked semaphores to clean up at shutdown\n",
            "  len(cache))\n",
            "-------------------------\n",
            "Images found:        409\n",
            "Faces detected:      409\n",
            "-------------------------\n",
            "Done.\n"
          ],
          "name": "stdout"
        }
      ]
    },
    {
      "cell_type": "code",
      "metadata": {
        "id": "p1YA-KQRheNk",
        "colab_type": "code",
        "colab": {
          "base_uri": "https://localhost:8080/",
          "height": 564
        },
        "outputId": "24743a2a-e0f2-4068-e99a-ac74c88f964e"
      },
      "source": [
        "cmd = '/content/DeepFaceLab/main.py extract --input-dir /content/workspace/data_dst --output-dir /content/workspace/data_dst/aligned --detector s3fd'\n",
        "!python $cmd"
      ],
      "execution_count": 16,
      "outputs": [
        {
          "output_type": "stream",
          "text": [
            "Performing 1st pass...\n",
            "Running on Tesla T4.\n",
            "Using TensorFlow backend.\n",
            "WARNING:tensorflow:From /usr/local/lib/python3.6/dist-packages/tensorflow/python/framework/op_def_library.py:263: colocate_with (from tensorflow.python.framework.ops) is deprecated and will be removed in a future version.\n",
            "Instructions for updating:\n",
            "Colocations handled automatically by placer.\n",
            "100% 354/354 [00:25<00:00, 13.89it/s]/usr/lib/python3.6/multiprocessing/semaphore_tracker.py:143: UserWarning: semaphore_tracker: There appear to be 1 leaked semaphores to clean up at shutdown\n",
            "  len(cache))\n",
            "100% 354/354 [00:25<00:00, 13.81it/s]\n",
            "Performing 2nd pass...\n",
            "Running on Tesla T4.\n",
            "Using TensorFlow backend.\n",
            "WARNING:tensorflow:From /usr/local/lib/python3.6/dist-packages/tensorflow/python/framework/op_def_library.py:263: colocate_with (from tensorflow.python.framework.ops) is deprecated and will be removed in a future version.\n",
            "Instructions for updating:\n",
            "Colocations handled automatically by placer.\n",
            "100% 354/354 [00:48<00:00,  7.25it/s]/usr/lib/python3.6/multiprocessing/semaphore_tracker.py:143: UserWarning: semaphore_tracker: There appear to be 1 leaked semaphores to clean up at shutdown\n",
            "  len(cache))\n",
            "100% 354/354 [00:49<00:00,  7.20it/s]\n",
            "Performing 3rd pass...\n",
            "Running on CPU0.\n",
            "Running on CPU1.\n",
            "100% 354/354 [00:04<00:00, 84.50it/s]/usr/lib/python3.6/multiprocessing/semaphore_tracker.py:143: UserWarning: semaphore_tracker: There appear to be 1 leaked semaphores to clean up at shutdown\n",
            "  len(cache))\n",
            "/usr/lib/python3.6/multiprocessing/semaphore_tracker.py:143: UserWarning: semaphore_tracker: There appear to be 1 leaked semaphores to clean up at shutdown\n",
            "  len(cache))\n",
            "100% 354/354 [00:04<00:00, 84.01it/s]\n",
            "-------------------------\n",
            "Images found:        354\n",
            "Faces detected:      344\n",
            "-------------------------\n",
            "Done.\n"
          ],
          "name": "stdout"
        }
      ]
    },
    {
      "cell_type": "code",
      "metadata": {
        "id": "dM4GsVlZjMPq",
        "colab_type": "code",
        "colab": {}
      },
      "source": [
        "%cd /content/workspace/data_dst/\n",
        "%ls"
      ],
      "execution_count": 0,
      "outputs": []
    },
    {
      "cell_type": "code",
      "metadata": {
        "id": "4-7o-8F5RAqR",
        "colab_type": "code",
        "colab": {
          "base_uri": "https://localhost:8080/",
          "height": 119
        },
        "outputId": "2137a3e2-a0aa-4365-8bd3-18e5ac19322c"
      },
      "source": [
        "%cd /content/workspace/\n",
        "%ls -l\n",
        "%cp -r /content/workspace/ /content/drive/My\\ Drive/DFL/\n"
      ],
      "execution_count": 19,
      "outputs": [
        {
          "output_type": "stream",
          "text": [
            "/content/workspace\n",
            "total 16260\n",
            "drwxr-xr-x 3 root root   12288 May 30 11:35 \u001b[0m\u001b[01;34mdata_dst\u001b[0m/\n",
            "-rw------- 1 root root 7682396 May 30 11:30 data_dst.mov\n",
            "drwxr-xr-x 3 root root   16384 May 30 11:32 \u001b[01;34mdata_src\u001b[0m/\n",
            "-rw------- 1 root root 8934737 May 30 11:30 data_src.mov\n"
          ],
          "name": "stdout"
        }
      ]
    },
    {
      "cell_type": "code",
      "metadata": {
        "id": "Spz9Oj8FiLJO",
        "colab_type": "code",
        "colab": {
          "base_uri": "https://localhost:8080/",
          "height": 343
        },
        "outputId": "fe5c2ac7-c82a-4266-e04b-17c99cc2e4ef"
      },
      "source": [
        "#sort_type = \"hist\" #@param [\"hist\", \"hist-dissim\", \"face-yaw\", \"face-pitch\", \"blur\", \"final\"]\n",
        "\n",
        "cmd = '/content/DeepFaceLab/main.py sort --input-dir /content/workspace/data_src/aligned --by hist'\n",
        "!python $cmd\n",
        "\n",
        "cmd2 = '/content/DeepFaceLab/main.py sort --input-dir /content/workspace/data_dst/aligned --by hist'\n",
        "!python $cmd2\n"
      ],
      "execution_count": 21,
      "outputs": [
        {
          "output_type": "stream",
          "text": [
            "Running sort tool.\r\n",
            "\n",
            "Sorting by histogram similarity...\n",
            "Running on CPU0.\n",
            "Sorting: 100% 409/409 [00:00<00:00, 543.65it/s]/usr/lib/python3.6/multiprocessing/semaphore_tracker.py:143: UserWarning: semaphore_tracker: There appear to be 1 leaked semaphores to clean up at shutdown\n",
            "  len(cache))\n",
            "Sorting: 100% 409/409 [00:00<00:00, 523.74it/s]\n",
            "Renaming: 100% 409/409 [00:00<00:00, 24638.00it/s]\n",
            "Done.\n",
            "Running sort tool.\n",
            "\n",
            "Sorting by histogram similarity...\n",
            "Running on CPU0.\n",
            "Sorting: 100% 344/344 [00:00<00:00, 574.03it/s]/usr/lib/python3.6/multiprocessing/semaphore_tracker.py:143: UserWarning: semaphore_tracker: There appear to be 1 leaked semaphores to clean up at shutdown\n",
            "  len(cache))\n",
            "Sorting: 100% 344/344 [00:00<00:00, 557.72it/s]\n",
            "Renaming: 100% 344/344 [00:00<00:00, 23289.65it/s]\n",
            "Done.\n"
          ],
          "name": "stdout"
        }
      ]
    },
    {
      "cell_type": "code",
      "metadata": {
        "id": "oaiAxV1Aj7GL",
        "colab_type": "code",
        "colab": {}
      },
      "source": [
        "#Model = \"SAE\" #@param [\"SAE\", \"H128\", \"LIAEF128\", \"DF\", \"DEV_FANSEG\", \"RecycleGAN\"]\n",
        "\n",
        "cmd = '/content/DeepFaceLab/main.py train --training-data-src-dir /content/workspace/data_src/aligned/ --training-data-dst-dir /content/workspace/data_dst/aligned/ ''"
      ],
      "execution_count": 0,
      "outputs": []
    }
  ]
}