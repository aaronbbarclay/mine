{
  "nbformat": 4,
  "nbformat_minor": 0,
  "metadata": {
    "colab": {
      "name": "MyDFL_test_v1.ipynb",
      "version": "0.3.2",
      "provenance": [],
      "include_colab_link": true
    },
    "kernelspec": {
      "name": "python3",
      "display_name": "Python 3"
    },
    "accelerator": "GPU"
  },
  "cells": [
    {
      "cell_type": "markdown",
      "metadata": {
        "id": "view-in-github",
        "colab_type": "text"
      },
      "source": [
        "<a href=\"https://colab.research.google.com/github/aaronbbarclay/mine/blob/master/MyDFL_test_v1.ipynb\" target=\"_parent\"><img src=\"https://colab.research.google.com/assets/colab-badge.svg\" alt=\"Open In Colab\"/></a>"
      ]
    },
    {
      "cell_type": "code",
      "metadata": {
        "id": "dLy_m8MPNpja",
        "colab_type": "code",
        "outputId": "2e3fa12b-b126-4380-81d4-562216fd8af0",
        "colab": {
          "base_uri": "https://localhost:8080/",
          "height": 51
        }
      },
      "source": [
        "%cd /content\n",
        "%ls"
      ],
      "execution_count": 1,
      "outputs": [
        {
          "output_type": "stream",
          "text": [
            "/content\n",
            "\u001b[0m\u001b[01;34msample_data\u001b[0m/\n"
          ],
          "name": "stdout"
        }
      ]
    },
    {
      "cell_type": "code",
      "metadata": {
        "id": "qJvL-sAuEZet",
        "colab_type": "code",
        "outputId": "8257d1bc-3b33-45d3-b743-ea15773c88e5",
        "colab": {
          "base_uri": "https://localhost:8080/",
          "height": 119
        }
      },
      "source": [
        "!git clone https://github.com/iperov/DeepFaceLab.git"
      ],
      "execution_count": 2,
      "outputs": [
        {
          "output_type": "stream",
          "text": [
            "Cloning into 'DeepFaceLab'...\n",
            "remote: Enumerating objects: 3223, done.\u001b[K\n",
            "remote: Total 3223 (delta 0), reused 0 (delta 0), pack-reused 3223\u001b[K\n",
            "Receiving objects: 100% (3223/3223), 298.48 MiB | 40.01 MiB/s, done.\n",
            "Resolving deltas: 100% (2076/2076), done.\n",
            "Checking out files: 100% (122/122), done.\n"
          ],
          "name": "stdout"
        }
      ]
    },
    {
      "cell_type": "code",
      "metadata": {
        "id": "CMDBjfaUNqwk",
        "colab_type": "code",
        "colab": {}
      },
      "source": [
        ""
      ],
      "execution_count": 0,
      "outputs": []
    },
    {
      "cell_type": "code",
      "metadata": {
        "id": "6muUxix7Nq0F",
        "colab_type": "code",
        "outputId": "a568aded-c960-4579-ff19-3107aad56791",
        "colab": {
          "base_uri": "https://localhost:8080/",
          "height": 1364
        }
      },
      "source": [
        "!pip install -r /content/DeepFaceLab/requirements-colab.txt"
      ],
      "execution_count": 3,
      "outputs": [
        {
          "output_type": "stream",
          "text": [
            "Collecting git+https://www.github.com/keras-team/keras-contrib.git (from -r /content/DeepFaceLab/requirements-colab.txt (line 10))\n",
            "  Cloning https://www.github.com/keras-team/keras-contrib.git to /tmp/pip-req-build-shvfkmnd\n",
            "  Running command git clone -q https://www.github.com/keras-team/keras-contrib.git /tmp/pip-req-build-shvfkmnd\n",
            "Collecting numpy==1.16.3 (from -r /content/DeepFaceLab/requirements-colab.txt (line 1))\n",
            "\u001b[?25l  Downloading https://files.pythonhosted.org/packages/c1/e2/4db8df8f6cddc98e7d7c537245ef2f4e41a1ed17bf0c3177ab3cc6beac7f/numpy-1.16.3-cp36-cp36m-manylinux1_x86_64.whl (17.3MB)\n",
            "\u001b[K     |████████████████████████████████| 17.3MB 3.3MB/s \n",
            "\u001b[?25hCollecting h5py==2.9.0 (from -r /content/DeepFaceLab/requirements-colab.txt (line 2))\n",
            "\u001b[?25l  Downloading https://files.pythonhosted.org/packages/30/99/d7d4fbf2d02bb30fb76179911a250074b55b852d34e98dd452a9f394ac06/h5py-2.9.0-cp36-cp36m-manylinux1_x86_64.whl (2.8MB)\n",
            "\u001b[K     |████████████████████████████████| 2.8MB 38.1MB/s \n",
            "\u001b[?25hRequirement already satisfied: Keras==2.2.4 in /usr/local/lib/python3.6/dist-packages (from -r /content/DeepFaceLab/requirements-colab.txt (line 3)) (2.2.4)\n",
            "Collecting opencv-python==4.0.0.21 (from -r /content/DeepFaceLab/requirements-colab.txt (line 4))\n",
            "\u001b[?25l  Downloading https://files.pythonhosted.org/packages/37/49/874d119948a5a084a7ebe98308214098ef3471d76ab74200f9800efeef15/opencv_python-4.0.0.21-cp36-cp36m-manylinux1_x86_64.whl (25.4MB)\n",
            "\u001b[K     |████████████████████████████████| 25.4MB 48.7MB/s \n",
            "\u001b[?25hCollecting tensorflow-gpu==1.13.1 (from -r /content/DeepFaceLab/requirements-colab.txt (line 5))\n",
            "\u001b[?25l  Downloading https://files.pythonhosted.org/packages/7b/b1/0ad4ae02e17ddd62109cd54c291e311c4b5fd09b4d0678d3d6ce4159b0f0/tensorflow_gpu-1.13.1-cp36-cp36m-manylinux1_x86_64.whl (345.2MB)\n",
            "\u001b[K     |████████████████████████████████| 345.2MB 36kB/s \n",
            "\u001b[?25hCollecting plaidml-keras==0.5.0 (from -r /content/DeepFaceLab/requirements-colab.txt (line 6))\n",
            "  Downloading https://files.pythonhosted.org/packages/17/34/4102261e3d8867c31bae9f4def5d7e700fc25fff232fa1780040e8ed79b0/plaidml_keras-0.5.0-py2.py3-none-any.whl\n",
            "Requirement already satisfied: scikit-image in /usr/local/lib/python3.6/dist-packages (from -r /content/DeepFaceLab/requirements-colab.txt (line 7)) (0.15.0)\n",
            "Requirement already satisfied: tqdm in /usr/local/lib/python3.6/dist-packages (from -r /content/DeepFaceLab/requirements-colab.txt (line 8)) (4.28.1)\n",
            "Collecting ffmpeg-python==0.1.17 (from -r /content/DeepFaceLab/requirements-colab.txt (line 9))\n",
            "  Downloading https://files.pythonhosted.org/packages/3d/10/330cbc8e63d072d40413f4d470444a6a1e8c8c6a80b2a4ac302d1252ca1b/ffmpeg_python-0.1.17-py3-none-any.whl\n",
            "Requirement already satisfied: six in /usr/local/lib/python3.6/dist-packages (from h5py==2.9.0->-r /content/DeepFaceLab/requirements-colab.txt (line 2)) (1.12.0)\n",
            "Requirement already satisfied: scipy>=0.14 in /usr/local/lib/python3.6/dist-packages (from Keras==2.2.4->-r /content/DeepFaceLab/requirements-colab.txt (line 3)) (1.3.0)\n",
            "Requirement already satisfied: keras-preprocessing>=1.0.5 in /usr/local/lib/python3.6/dist-packages (from Keras==2.2.4->-r /content/DeepFaceLab/requirements-colab.txt (line 3)) (1.0.9)\n",
            "Requirement already satisfied: pyyaml in /usr/local/lib/python3.6/dist-packages (from Keras==2.2.4->-r /content/DeepFaceLab/requirements-colab.txt (line 3)) (3.13)\n",
            "Requirement already satisfied: keras-applications>=1.0.6 in /usr/local/lib/python3.6/dist-packages (from Keras==2.2.4->-r /content/DeepFaceLab/requirements-colab.txt (line 3)) (1.0.7)\n",
            "Requirement already satisfied: astor>=0.6.0 in /usr/local/lib/python3.6/dist-packages (from tensorflow-gpu==1.13.1->-r /content/DeepFaceLab/requirements-colab.txt (line 5)) (0.8.0)\n",
            "Requirement already satisfied: grpcio>=1.8.6 in /usr/local/lib/python3.6/dist-packages (from tensorflow-gpu==1.13.1->-r /content/DeepFaceLab/requirements-colab.txt (line 5)) (1.15.0)\n",
            "Requirement already satisfied: termcolor>=1.1.0 in /usr/local/lib/python3.6/dist-packages (from tensorflow-gpu==1.13.1->-r /content/DeepFaceLab/requirements-colab.txt (line 5)) (1.1.0)\n",
            "Requirement already satisfied: protobuf>=3.6.1 in /usr/local/lib/python3.6/dist-packages (from tensorflow-gpu==1.13.1->-r /content/DeepFaceLab/requirements-colab.txt (line 5)) (3.7.1)\n",
            "Requirement already satisfied: tensorflow-estimator<1.14.0rc0,>=1.13.0 in /usr/local/lib/python3.6/dist-packages (from tensorflow-gpu==1.13.1->-r /content/DeepFaceLab/requirements-colab.txt (line 5)) (1.13.0)\n",
            "Requirement already satisfied: wheel>=0.26 in /usr/local/lib/python3.6/dist-packages (from tensorflow-gpu==1.13.1->-r /content/DeepFaceLab/requirements-colab.txt (line 5)) (0.33.4)\n",
            "Requirement already satisfied: tensorboard<1.14.0,>=1.13.0 in /usr/local/lib/python3.6/dist-packages (from tensorflow-gpu==1.13.1->-r /content/DeepFaceLab/requirements-colab.txt (line 5)) (1.13.1)\n",
            "Requirement already satisfied: absl-py>=0.1.6 in /usr/local/lib/python3.6/dist-packages (from tensorflow-gpu==1.13.1->-r /content/DeepFaceLab/requirements-colab.txt (line 5)) (0.7.1)\n",
            "Requirement already satisfied: gast>=0.2.0 in /usr/local/lib/python3.6/dist-packages (from tensorflow-gpu==1.13.1->-r /content/DeepFaceLab/requirements-colab.txt (line 5)) (0.2.2)\n",
            "Collecting plaidml (from plaidml-keras==0.5.0->-r /content/DeepFaceLab/requirements-colab.txt (line 6))\n",
            "\u001b[?25l  Downloading https://files.pythonhosted.org/packages/2e/42/b83eb39cc0222b1c92d257904fe808d887f7f6a07a2af37aa3bd41b1778f/plaidml-0.6.0-py2.py3-none-manylinux1_x86_64.whl (38.3MB)\n",
            "\u001b[K     |████████████████████████████████| 38.3MB 2.6MB/s \n",
            "\u001b[?25hRequirement already satisfied: networkx>=2.0 in /usr/local/lib/python3.6/dist-packages (from scikit-image->-r /content/DeepFaceLab/requirements-colab.txt (line 7)) (2.3)\n",
            "Requirement already satisfied: pillow>=4.3.0 in /usr/local/lib/python3.6/dist-packages (from scikit-image->-r /content/DeepFaceLab/requirements-colab.txt (line 7)) (4.3.0)\n",
            "Requirement already satisfied: imageio>=2.0.1 in /usr/local/lib/python3.6/dist-packages (from scikit-image->-r /content/DeepFaceLab/requirements-colab.txt (line 7)) (2.4.1)\n",
            "Requirement already satisfied: matplotlib!=3.0.0,>=2.0.0 in /usr/local/lib/python3.6/dist-packages (from scikit-image->-r /content/DeepFaceLab/requirements-colab.txt (line 7)) (3.0.3)\n",
            "Requirement already satisfied: PyWavelets>=0.4.0 in /usr/local/lib/python3.6/dist-packages (from scikit-image->-r /content/DeepFaceLab/requirements-colab.txt (line 7)) (1.0.3)\n",
            "Requirement already satisfied: future in /usr/local/lib/python3.6/dist-packages (from ffmpeg-python==0.1.17->-r /content/DeepFaceLab/requirements-colab.txt (line 9)) (0.16.0)\n",
            "Requirement already satisfied: setuptools in /usr/local/lib/python3.6/dist-packages (from protobuf>=3.6.1->tensorflow-gpu==1.13.1->-r /content/DeepFaceLab/requirements-colab.txt (line 5)) (41.0.1)\n",
            "Requirement already satisfied: mock>=2.0.0 in /usr/local/lib/python3.6/dist-packages (from tensorflow-estimator<1.14.0rc0,>=1.13.0->tensorflow-gpu==1.13.1->-r /content/DeepFaceLab/requirements-colab.txt (line 5)) (3.0.5)\n",
            "Requirement already satisfied: markdown>=2.6.8 in /usr/local/lib/python3.6/dist-packages (from tensorboard<1.14.0,>=1.13.0->tensorflow-gpu==1.13.1->-r /content/DeepFaceLab/requirements-colab.txt (line 5)) (3.1.1)\n",
            "Requirement already satisfied: werkzeug>=0.11.15 in /usr/local/lib/python3.6/dist-packages (from tensorboard<1.14.0,>=1.13.0->tensorflow-gpu==1.13.1->-r /content/DeepFaceLab/requirements-colab.txt (line 5)) (0.15.4)\n",
            "Requirement already satisfied: enum34>=1.1.6 in /usr/local/lib/python3.6/dist-packages (from plaidml->plaidml-keras==0.5.0->-r /content/DeepFaceLab/requirements-colab.txt (line 6)) (1.1.6)\n",
            "Requirement already satisfied: decorator>=4.3.0 in /usr/local/lib/python3.6/dist-packages (from networkx>=2.0->scikit-image->-r /content/DeepFaceLab/requirements-colab.txt (line 7)) (4.4.0)\n",
            "Requirement already satisfied: olefile in /usr/local/lib/python3.6/dist-packages (from pillow>=4.3.0->scikit-image->-r /content/DeepFaceLab/requirements-colab.txt (line 7)) (0.46)\n",
            "Requirement already satisfied: pyparsing!=2.0.4,!=2.1.2,!=2.1.6,>=2.0.1 in /usr/local/lib/python3.6/dist-packages (from matplotlib!=3.0.0,>=2.0.0->scikit-image->-r /content/DeepFaceLab/requirements-colab.txt (line 7)) (2.4.0)\n",
            "Requirement already satisfied: cycler>=0.10 in /usr/local/lib/python3.6/dist-packages (from matplotlib!=3.0.0,>=2.0.0->scikit-image->-r /content/DeepFaceLab/requirements-colab.txt (line 7)) (0.10.0)\n",
            "Requirement already satisfied: python-dateutil>=2.1 in /usr/local/lib/python3.6/dist-packages (from matplotlib!=3.0.0,>=2.0.0->scikit-image->-r /content/DeepFaceLab/requirements-colab.txt (line 7)) (2.5.3)\n",
            "Requirement already satisfied: kiwisolver>=1.0.1 in /usr/local/lib/python3.6/dist-packages (from matplotlib!=3.0.0,>=2.0.0->scikit-image->-r /content/DeepFaceLab/requirements-colab.txt (line 7)) (1.1.0)\n",
            "Building wheels for collected packages: keras-contrib\n",
            "  Building wheel for keras-contrib (setup.py) ... \u001b[?25l\u001b[?25hdone\n",
            "  Stored in directory: /tmp/pip-ephem-wheel-cache-hw9rntjf/wheels/11/27/c8/4ed56de7b55f4f61244e2dc6ef3cdbaff2692527a2ce6502ba\n",
            "Successfully built keras-contrib\n",
            "\u001b[31mERROR: datascience 0.10.6 has requirement folium==0.2.1, but you'll have folium 0.8.3 which is incompatible.\u001b[0m\n",
            "\u001b[31mERROR: albumentations 0.1.12 has requirement imgaug<0.2.7,>=0.2.5, but you'll have imgaug 0.2.9 which is incompatible.\u001b[0m\n",
            "Installing collected packages: numpy, h5py, opencv-python, tensorflow-gpu, plaidml, plaidml-keras, ffmpeg-python, keras-contrib\n",
            "  Found existing installation: numpy 1.16.4\n",
            "    Uninstalling numpy-1.16.4:\n",
            "      Successfully uninstalled numpy-1.16.4\n",
            "  Found existing installation: h5py 2.8.0\n",
            "    Uninstalling h5py-2.8.0:\n",
            "      Successfully uninstalled h5py-2.8.0\n",
            "  Found existing installation: opencv-python 3.4.5.20\n",
            "    Uninstalling opencv-python-3.4.5.20:\n",
            "      Successfully uninstalled opencv-python-3.4.5.20\n",
            "Successfully installed ffmpeg-python-0.1.17 h5py-2.9.0 keras-contrib-2.0.8 numpy-1.16.3 opencv-python-4.0.0.21 plaidml-0.6.0 plaidml-keras-0.5.0 tensorflow-gpu-1.13.1\n"
          ],
          "name": "stdout"
        },
        {
          "output_type": "display_data",
          "data": {
            "application/vnd.colab-display-data+json": {
              "pip_warning": {
                "packages": [
                  "numpy"
                ]
              }
            }
          },
          "metadata": {
            "tags": []
          }
        }
      ]
    },
    {
      "cell_type": "code",
      "metadata": {
        "id": "bAZjSLNWOIsm",
        "colab_type": "code",
        "outputId": "9a54f471-acda-476f-b93b-3a27317005b6",
        "colab": {
          "base_uri": "https://localhost:8080/",
          "height": 139
        }
      },
      "source": [
        "\n",
        "%mkdir -p /content/workspace\n",
        "%cd /content/workspace\n",
        "\n",
        "#Mount Google Drive as folder\n",
        "from google.colab import drive\n",
        "drive.mount('/content/drive', force_remount=True)\n",
        "\n",
        "%ls"
      ],
      "execution_count": 4,
      "outputs": [
        {
          "output_type": "stream",
          "text": [
            "/content/workspace\n",
            "Go to this URL in a browser: https://accounts.google.com/o/oauth2/auth?client_id=947318989803-6bn6qk8qdgf4n4g3pfee6491hc0brc4i.apps.googleusercontent.com&redirect_uri=urn%3Aietf%3Awg%3Aoauth%3A2.0%3Aoob&scope=email%20https%3A%2F%2Fwww.googleapis.com%2Fauth%2Fdocs.test%20https%3A%2F%2Fwww.googleapis.com%2Fauth%2Fdrive%20https%3A%2F%2Fwww.googleapis.com%2Fauth%2Fdrive.photos.readonly%20https%3A%2F%2Fwww.googleapis.com%2Fauth%2Fpeopleapi.readonly&response_type=code\n",
            "\n",
            "Enter your authorization code:\n",
            "··········\n",
            "Mounted at /content/drive\n"
          ],
          "name": "stdout"
        }
      ]
    },
    {
      "cell_type": "code",
      "metadata": {
        "id": "eAE6n8spZz3s",
        "colab_type": "code",
        "colab": {}
      },
      "source": [
        "%mkdir -p /content/drive/My\\ Drive/DFL/workspace/data_src\n",
        "%mkdir -p /content/drive/My\\ Drive/DFL/workspace/data_dst\n"
      ],
      "execution_count": 0,
      "outputs": []
    },
    {
      "cell_type": "code",
      "metadata": {
        "id": "oK5IicIuPXxF",
        "colab_type": "code",
        "outputId": "aa20bdda-bc36-479a-9142-7d09ce8216a9",
        "colab": {
          "base_uri": "https://localhost:8080/",
          "height": 1406
        }
      },
      "source": [
        "cmd = '/content/DeepFaceLab/main.py videoed extract-video --input-file /content/drive/My\\ Drive/DFL/workspace/data_src.mov --output-dir  /content/drive/My\\ Drive/DFL/workspace/data_src'\n",
        "!python $cmd\n",
        "\n"
      ],
      "execution_count": 0,
      "outputs": [
        {
          "output_type": "stream",
          "text": [
            "Enter FPS ( ?:help skip:fullfps ) : \n",
            "0\n",
            "Output image format? ( jpg png ?:help skip:png ) : jpg\n",
            "ffmpeg version 3.4.6-0ubuntu0.18.04.1 Copyright (c) 2000-2019 the FFmpeg developers\n",
            "  built with gcc 7 (Ubuntu 7.3.0-16ubuntu3)\n",
            "  configuration: --prefix=/usr --extra-version=0ubuntu0.18.04.1 --toolchain=hardened --libdir=/usr/lib/x86_64-linux-gnu --incdir=/usr/include/x86_64-linux-gnu --enable-gpl --disable-stripping --enable-avresample --enable-avisynth --enable-gnutls --enable-ladspa --enable-libass --enable-libbluray --enable-libbs2b --enable-libcaca --enable-libcdio --enable-libflite --enable-libfontconfig --enable-libfreetype --enable-libfribidi --enable-libgme --enable-libgsm --enable-libmp3lame --enable-libmysofa --enable-libopenjpeg --enable-libopenmpt --enable-libopus --enable-libpulse --enable-librubberband --enable-librsvg --enable-libshine --enable-libsnappy --enable-libsoxr --enable-libspeex --enable-libssh --enable-libtheora --enable-libtwolame --enable-libvorbis --enable-libvpx --enable-libwavpack --enable-libwebp --enable-libx265 --enable-libxml2 --enable-libxvid --enable-libzmq --enable-libzvbi --enable-omx --enable-openal --enable-opengl --enable-sdl2 --enable-libdc1394 --enable-libdrm --enable-libiec61883 --enable-chromaprint --enable-frei0r --enable-libopencv --enable-libx264 --enable-shared\n",
            "  libavutil      55. 78.100 / 55. 78.100\n",
            "  libavcodec     57.107.100 / 57.107.100\n",
            "  libavformat    57. 83.100 / 57. 83.100\n",
            "  libavdevice    57. 10.100 / 57. 10.100\n",
            "  libavfilter     6.107.100 /  6.107.100\n",
            "  libavresample   3.  7.  0 /  3.  7.  0\n",
            "  libswscale      4.  8.100 /  4.  8.100\n",
            "  libswresample   2.  9.100 /  2.  9.100\n",
            "  libpostproc    54.  7.100 / 54.  7.100\n",
            "Input #0, mov,mp4,m4a,3gp,3g2,mj2, from '/content/drive/My Drive/DFL/workspace/data_src.mov':\n",
            "  Metadata:\n",
            "    major_brand     : qt  \n",
            "    minor_version   : 0\n",
            "    compatible_brands: qt  \n",
            "    creation_time   : 2019-05-29T23:28:50.000000Z\n",
            "    com.apple.quicktime.location.ISO6709: -33.8934+151.2293+055.696/\n",
            "    com.apple.quicktime.make: Apple\n",
            "    com.apple.quicktime.model: iPhone 8 Plus\n",
            "    com.apple.quicktime.software: 12.4\n",
            "    com.apple.quicktime.creationdate: 2019-05-30T09:28:50+1000\n",
            "  Duration: 00:00:13.63, start: 0.000000, bitrate: 5244 kb/s\n",
            "    Stream #0:0(und): Video: hevc (Main) (hvc1 / 0x31637668), yuv420p(tv, bt709), 1280x720, 5109 kb/s, 30.01 fps, 30 tbr, 600 tbn, 600 tbc (default)\n",
            "    Metadata:\n",
            "      rotate          : 180\n",
            "      creation_time   : 2019-05-29T23:28:50.000000Z\n",
            "      handler_name    : Core Media Data Handler\n",
            "      encoder         : HEVC\n",
            "    Side data:\n",
            "      displaymatrix: rotation of -180.00 degrees\n",
            "    Stream #0:1(und): Audio: aac (LC) (mp4a / 0x6134706D), 44100 Hz, mono, fltp, 92 kb/s (default)\n",
            "    Metadata:\n",
            "      creation_time   : 2019-05-29T23:28:51.000000Z\n",
            "      handler_name    : Core Media Data Handler\n",
            "    Stream #0:2(und): Data: none (mebx / 0x7862656D), 22 kb/s (default)\n",
            "    Metadata:\n",
            "      creation_time   : 2019-05-29T23:28:51.000000Z\n",
            "      handler_name    : Core Media Data Handler\n",
            "    Stream #0:3(und): Data: none (mebx / 0x7862656D), 0 kb/s (default)\n",
            "    Metadata:\n",
            "      creation_time   : 2019-05-29T23:28:51.000000Z\n",
            "      handler_name    : Core Media Data Handler\n",
            "Stream mapping:\n",
            "  Stream #0:0 -> #0:0 (hevc (native) -> mjpeg (native))\n",
            "Press [q] to stop, [?] for help\n",
            "\u001b[0;33mIncompatible pixel format 'rgb24' for codec 'mjpeg', auto-selecting format 'yuvj444p'\n",
            "\u001b[0m\u001b[1;34m[swscaler @ 0x55cdbfba2000] \u001b[0m\u001b[0;33mdeprecated pixel format used, make sure you did set range correctly\n",
            "\u001b[0mOutput #0, image2, to '/content/drive/My Drive/DFL/workspace/data_src/%5d.jpg':\n",
            "  Metadata:\n",
            "    major_brand     : qt  \n",
            "    minor_version   : 0\n",
            "    compatible_brands: qt  \n",
            "    com.apple.quicktime.creationdate: 2019-05-30T09:28:50+1000\n",
            "    com.apple.quicktime.location.ISO6709: -33.8934+151.2293+055.696/\n",
            "    com.apple.quicktime.make: Apple\n",
            "    com.apple.quicktime.model: iPhone 8 Plus\n",
            "    com.apple.quicktime.software: 12.4\n",
            "    encoder         : Lavf57.83.100\n",
            "    Stream #0:0(und): Video: mjpeg, yuvj444p(pc), 1280x720, q=2-31, 200 kb/s, 30 fps, 30 tbn, 30 tbc (default)\n",
            "    Metadata:\n",
            "      encoder         : Lavc57.107.100 mjpeg\n",
            "      creation_time   : 2019-05-29T23:28:50.000000Z\n",
            "      handler_name    : Core Media Data Handler\n",
            "    Side data:\n",
            "      cpb: bitrate max/min/avg: 0/0/200000 buffer size: 0 vbv_delay: -1\n",
            "      displaymatrix: rotation of -0.00 degrees\n",
            "frame=  409 fps= 45 q=2.0 Lsize=N/A time=00:00:13.63 bitrate=N/A speed=1.49x    \n",
            "video:88086kB audio:0kB subtitle:0kB other streams:0kB global headers:0kB muxing overhead: unknown\n",
            "Done.\n"
          ],
          "name": "stdout"
        }
      ]
    },
    {
      "cell_type": "code",
      "metadata": {
        "id": "r-2djuhg6dmv",
        "colab_type": "code",
        "colab": {}
      },
      "source": [
        "\n",
        "\n",
        "4/WwHdkfGIyZRV9suUv6mYvmkPjPIZgU1RSP3L6ck5E7dbKoxzsbjYQnY"
      ],
      "execution_count": 0,
      "outputs": []
    },
    {
      "cell_type": "code",
      "metadata": {
        "id": "KSQvN91fcE_b",
        "colab_type": "code",
        "outputId": "9279e46a-026b-4cc6-e4bc-4975265d7f5e",
        "colab": {
          "base_uri": "https://localhost:8080/",
          "height": 1332
        }
      },
      "source": [
        "cmd = '/content/DeepFaceLab/main.py videoed extract-video --input-file /content/drive/My\\ Drive/DFL/workspace/data_dst.mov --output-dir /content/drive/My\\ Drive/DFL/workspace/data_dst'\n",
        "!python $cmd"
      ],
      "execution_count": 0,
      "outputs": [
        {
          "output_type": "stream",
          "text": [
            "Enter FPS ( ?:help skip:fullfps ) : \n",
            "0\n",
            "Output image format? ( jpg png ?:help skip:png ) : jpg\n",
            "ffmpeg version 3.4.6-0ubuntu0.18.04.1 Copyright (c) 2000-2019 the FFmpeg developers\n",
            "  built with gcc 7 (Ubuntu 7.3.0-16ubuntu3)\n",
            "  configuration: --prefix=/usr --extra-version=0ubuntu0.18.04.1 --toolchain=hardened --libdir=/usr/lib/x86_64-linux-gnu --incdir=/usr/include/x86_64-linux-gnu --enable-gpl --disable-stripping --enable-avresample --enable-avisynth --enable-gnutls --enable-ladspa --enable-libass --enable-libbluray --enable-libbs2b --enable-libcaca --enable-libcdio --enable-libflite --enable-libfontconfig --enable-libfreetype --enable-libfribidi --enable-libgme --enable-libgsm --enable-libmp3lame --enable-libmysofa --enable-libopenjpeg --enable-libopenmpt --enable-libopus --enable-libpulse --enable-librubberband --enable-librsvg --enable-libshine --enable-libsnappy --enable-libsoxr --enable-libspeex --enable-libssh --enable-libtheora --enable-libtwolame --enable-libvorbis --enable-libvpx --enable-libwavpack --enable-libwebp --enable-libx265 --enable-libxml2 --enable-libxvid --enable-libzmq --enable-libzvbi --enable-omx --enable-openal --enable-opengl --enable-sdl2 --enable-libdc1394 --enable-libdrm --enable-libiec61883 --enable-chromaprint --enable-frei0r --enable-libopencv --enable-libx264 --enable-shared\n",
            "  libavutil      55. 78.100 / 55. 78.100\n",
            "  libavcodec     57.107.100 / 57.107.100\n",
            "  libavformat    57. 83.100 / 57. 83.100\n",
            "  libavdevice    57. 10.100 / 57. 10.100\n",
            "  libavfilter     6.107.100 /  6.107.100\n",
            "  libavresample   3.  7.  0 /  3.  7.  0\n",
            "  libswscale      4.  8.100 /  4.  8.100\n",
            "  libswresample   2.  9.100 /  2.  9.100\n",
            "  libpostproc    54.  7.100 / 54.  7.100\n",
            "Input #0, mov,mp4,m4a,3gp,3g2,mj2, from '/content/drive/My Drive/DFL/workspace/data_dst.mov':\n",
            "  Metadata:\n",
            "    major_brand     : qt  \n",
            "    minor_version   : 0\n",
            "    compatible_brands: qt  \n",
            "    creation_time   : 2019-05-29T23:29:23.000000Z\n",
            "    com.apple.quicktime.location.ISO6709: -33.8934+151.2293+054.924/\n",
            "    com.apple.quicktime.make: Apple\n",
            "    com.apple.quicktime.model: iPhone 8 Plus\n",
            "    com.apple.quicktime.software: 12.4\n",
            "    com.apple.quicktime.creationdate: 2019-05-30T09:29:23+1000\n",
            "  Duration: 00:00:11.80, start: 0.000000, bitrate: 5209 kb/s\n",
            "    Stream #0:0(und): Video: hevc (Main) (hvc1 / 0x31637668), yuv420p(tv, bt709), 1280x720, 5081 kb/s, 30 fps, 30 tbr, 600 tbn, 600 tbc (default)\n",
            "    Metadata:\n",
            "      creation_time   : 2019-05-29T23:29:23.000000Z\n",
            "      handler_name    : Core Media Data Handler\n",
            "      encoder         : HEVC\n",
            "    Stream #0:1(und): Audio: aac (LC) (mp4a / 0x6134706D), 44100 Hz, mono, fltp, 93 kb/s (default)\n",
            "    Metadata:\n",
            "      creation_time   : 2019-05-29T23:29:23.000000Z\n",
            "      handler_name    : Core Media Data Handler\n",
            "    Stream #0:2(und): Data: none (mebx / 0x7862656D), 23 kb/s (default)\n",
            "    Metadata:\n",
            "      creation_time   : 2019-05-29T23:29:23.000000Z\n",
            "      handler_name    : Core Media Data Handler\n",
            "    Stream #0:3(und): Data: none (mebx / 0x7862656D), 0 kb/s (default)\n",
            "    Metadata:\n",
            "      creation_time   : 2019-05-29T23:29:23.000000Z\n",
            "      handler_name    : Core Media Data Handler\n",
            "Stream mapping:\n",
            "  Stream #0:0 -> #0:0 (hevc (native) -> mjpeg (native))\n",
            "Press [q] to stop, [?] for help\n",
            "\u001b[0;33mIncompatible pixel format 'rgb24' for codec 'mjpeg', auto-selecting format 'yuvj444p'\n",
            "\u001b[0m\u001b[1;34m[swscaler @ 0x5603df698000] \u001b[0m\u001b[0;33mdeprecated pixel format used, make sure you did set range correctly\n",
            "\u001b[0mOutput #0, image2, to '/content/drive/My Drive/DFL/workspace/data_dst/%5d.jpg':\n",
            "  Metadata:\n",
            "    major_brand     : qt  \n",
            "    minor_version   : 0\n",
            "    compatible_brands: qt  \n",
            "    com.apple.quicktime.creationdate: 2019-05-30T09:29:23+1000\n",
            "    com.apple.quicktime.location.ISO6709: -33.8934+151.2293+054.924/\n",
            "    com.apple.quicktime.make: Apple\n",
            "    com.apple.quicktime.model: iPhone 8 Plus\n",
            "    com.apple.quicktime.software: 12.4\n",
            "    encoder         : Lavf57.83.100\n",
            "    Stream #0:0(und): Video: mjpeg, yuvj444p(pc), 1280x720, q=2-31, 200 kb/s, 30 fps, 30 tbn, 30 tbc (default)\n",
            "    Metadata:\n",
            "      creation_time   : 2019-05-29T23:29:23.000000Z\n",
            "      handler_name    : Core Media Data Handler\n",
            "      encoder         : Lavc57.107.100 mjpeg\n",
            "    Side data:\n",
            "      cpb: bitrate max/min/avg: 0/0/200000 buffer size: 0 vbv_delay: -1\n",
            "frame=  354 fps= 41 q=2.0 Lsize=N/A time=00:00:11.80 bitrate=N/A speed=1.37x    \n",
            "video:86837kB audio:0kB subtitle:0kB other streams:0kB global headers:0kB muxing overhead: unknown\n",
            "Done.\n"
          ],
          "name": "stdout"
        }
      ]
    },
    {
      "cell_type": "code",
      "metadata": {
        "id": "zSV6CycH9LyE",
        "colab_type": "code",
        "colab": {}
      },
      "source": [
        "%mkdir -p /content/drive/My\\ Drive/DFL/workspace/data_src\n",
        "%mkdir -p /content/drive/My\\ Drive/DFL/workspace/data_src/aligned\n",
        "%mkdir -p /content/drive/My\\ Drive/DFL/workspace/data_src/aligned/debug\n",
        "\n",
        "%mkdir -p /content/drive/My\\ Drive/DFL/workspace/data_dst\n",
        "%mkdir -p /content/drive/My\\ Drive/DFL/workspace/data_dst/aligned\n",
        "%mkdir -p /content/drive/My\\ Drive/DFL/workspace/data_dst/aligned/debug\n"
      ],
      "execution_count": 0,
      "outputs": []
    },
    {
      "cell_type": "code",
      "metadata": {
        "id": "_p0ZfF7Q7pNl",
        "colab_type": "code",
        "outputId": "53f0c7a7-12d5-4345-8a64-3336108fddfb",
        "colab": {
          "base_uri": "https://localhost:8080/",
          "height": 610
        }
      },
      "source": [
        "cmd =  '/content/DeepFaceLab/main.py extract --input-dir /content/drive/My\\ Drive/DFL/workspace/data_src --output-dir /content/drive/My\\ Drive/DFL/workspace/data_src/aligned --detector s3fd'\n",
        "!python $cmd\n"
      ],
      "execution_count": 0,
      "outputs": [
        {
          "output_type": "stream",
          "text": [
            "Performing 1st pass...\n",
            "Running on Tesla T4.\n",
            "Using TensorFlow backend.\n",
            "WARNING:tensorflow:From /usr/local/lib/python3.6/dist-packages/tensorflow/python/framework/op_def_library.py:263: colocate_with (from tensorflow.python.framework.ops) is deprecated and will be removed in a future version.\n",
            "Instructions for updating:\n",
            "Colocations handled automatically by placer.\n",
            "100% 409/409 [00:24<00:00, 16.59it/s]/usr/lib/python3.6/multiprocessing/semaphore_tracker.py:143: UserWarning: semaphore_tracker: There appear to be 1 leaked semaphores to clean up at shutdown\n",
            "  len(cache))\n",
            "100% 409/409 [00:24<00:00, 16.49it/s]\n",
            "Performing 2nd pass...\n",
            "Running on Tesla T4.\n",
            "Using TensorFlow backend.\n",
            "WARNING:tensorflow:From /usr/local/lib/python3.6/dist-packages/tensorflow/python/framework/op_def_library.py:263: colocate_with (from tensorflow.python.framework.ops) is deprecated and will be removed in a future version.\n",
            "Instructions for updating:\n",
            "Colocations handled automatically by placer.\n",
            "100% 409/409 [00:57<00:00,  7.13it/s]/usr/lib/python3.6/multiprocessing/semaphore_tracker.py:143: UserWarning: semaphore_tracker: There appear to be 1 leaked semaphores to clean up at shutdown\n",
            "  len(cache))\n",
            "100% 409/409 [00:57<00:00,  7.10it/s]\n",
            "Performing 3rd pass...\n",
            "Running on CPU0.\n",
            "Running on CPU1.\n",
            "100% 409/409 [00:07<00:00, 52.60it/s]/usr/lib/python3.6/multiprocessing/semaphore_tracker.py:143: UserWarning: semaphore_tracker: There appear to be 1 leaked semaphores to clean up at shutdown\n",
            "  len(cache))\n",
            "/usr/lib/python3.6/multiprocessing/semaphore_tracker.py:143: UserWarning: semaphore_tracker: There appear to be 1 leaked semaphores to clean up at shutdown\n",
            "  len(cache))\n",
            "100% 409/409 [00:07<00:00, 52.28it/s]\n",
            "-------------------------\n",
            "Images found:        409\n",
            "Faces detected:      409\n",
            "-------------------------\n",
            "Done.\n"
          ],
          "name": "stdout"
        }
      ]
    },
    {
      "cell_type": "code",
      "metadata": {
        "id": "p1YA-KQRheNk",
        "colab_type": "code",
        "outputId": "55b0cd05-fd42-425f-e0df-61813f1327c3",
        "colab": {
          "base_uri": "https://localhost:8080/",
          "height": 1221
        }
      },
      "source": [
        "cmd = '/content/DeepFaceLab/main.py extract --input-dir /content/drive/My\\ Drive/DFL/workspace/data_dst --output-dir /content/drive/My\\ Drive/DFL/workspace/data_dst/aligned --detector s3fd'\n",
        "\n",
        "!python $cmd\n"
      ],
      "execution_count": 0,
      "outputs": [
        {
          "output_type": "stream",
          "text": [
            "Duplicate filenames are not allowed, skipping: 00001.png\n",
            "Duplicate filenames are not allowed, skipping: 00002.png\n",
            "Duplicate filenames are not allowed, skipping: 00003.png\n",
            "Duplicate filenames are not allowed, skipping: 00004.png\n",
            "Duplicate filenames are not allowed, skipping: 00005.png\n",
            "Duplicate filenames are not allowed, skipping: 00006.png\n",
            "Duplicate filenames are not allowed, skipping: 00007.png\n",
            "Duplicate filenames are not allowed, skipping: 00008.png\n",
            "Duplicate filenames are not allowed, skipping: 00009.png\n",
            "Duplicate filenames are not allowed, skipping: 00010.png\n",
            "Duplicate filenames are not allowed, skipping: 00011.png\n",
            "Duplicate filenames are not allowed, skipping: 00012.png\n",
            "Duplicate filenames are not allowed, skipping: 00013.png\n",
            "Duplicate filenames are not allowed, skipping: 00014.png\n",
            "Duplicate filenames are not allowed, skipping: 00015.png\n",
            "Duplicate filenames are not allowed, skipping: 00016.png\n",
            "Duplicate filenames are not allowed, skipping: 00017.png\n",
            "Duplicate filenames are not allowed, skipping: 00018.png\n",
            "Duplicate filenames are not allowed, skipping: 00019.png\n",
            "Duplicate filenames are not allowed, skipping: 00020.png\n",
            "Duplicate filenames are not allowed, skipping: 00021.png\n",
            "Duplicate filenames are not allowed, skipping: 00022.png\n",
            "Duplicate filenames are not allowed, skipping: 00023.png\n",
            "Duplicate filenames are not allowed, skipping: 00024.png\n",
            "Duplicate filenames are not allowed, skipping: 00025.png\n",
            "Duplicate filenames are not allowed, skipping: 00026.png\n",
            "Duplicate filenames are not allowed, skipping: 00027.png\n",
            "Duplicate filenames are not allowed, skipping: 00028.png\n",
            "Duplicate filenames are not allowed, skipping: 00029.png\n",
            "Duplicate filenames are not allowed, skipping: 00030.png\n",
            "Duplicate filenames are not allowed, skipping: 00031.png\n",
            "Duplicate filenames are not allowed, skipping: 00032.png\n",
            "Duplicate filenames are not allowed, skipping: 00033.png\n",
            "Performing 1st pass...\n",
            "Running on Tesla T4.\n",
            "Using TensorFlow backend.\n",
            "WARNING:tensorflow:From /usr/local/lib/python3.6/dist-packages/tensorflow/python/framework/op_def_library.py:263: colocate_with (from tensorflow.python.framework.ops) is deprecated and will be removed in a future version.\n",
            "Instructions for updating:\n",
            "Colocations handled automatically by placer.\n",
            "100% 354/354 [00:24<00:00, 14.27it/s]/usr/lib/python3.6/multiprocessing/semaphore_tracker.py:143: UserWarning: semaphore_tracker: There appear to be 1 leaked semaphores to clean up at shutdown\n",
            "  len(cache))\n",
            "100% 354/354 [00:24<00:00, 14.18it/s]\n",
            "Performing 2nd pass...\n",
            "Running on Tesla T4.\n",
            "Using TensorFlow backend.\n",
            "WARNING:tensorflow:From /usr/local/lib/python3.6/dist-packages/tensorflow/python/framework/op_def_library.py:263: colocate_with (from tensorflow.python.framework.ops) is deprecated and will be removed in a future version.\n",
            "Instructions for updating:\n",
            "Colocations handled automatically by placer.\n",
            "100% 354/354 [00:49<00:00,  7.17it/s]/usr/lib/python3.6/multiprocessing/semaphore_tracker.py:143: UserWarning: semaphore_tracker: There appear to be 1 leaked semaphores to clean up at shutdown\n",
            "  len(cache))\n",
            "100% 354/354 [00:49<00:00,  7.14it/s]\n",
            "Performing 3rd pass...\n",
            "Running on CPU0.\n",
            "Running on CPU1.\n",
            "100% 354/354 [00:06<00:00, 52.00it/s]/usr/lib/python3.6/multiprocessing/semaphore_tracker.py:143: UserWarning: semaphore_tracker: There appear to be 1 leaked semaphores to clean up at shutdown\n",
            "  len(cache))\n",
            "/usr/lib/python3.6/multiprocessing/semaphore_tracker.py:143: UserWarning: semaphore_tracker: There appear to be 1 leaked semaphores to clean up at shutdown\n",
            "  len(cache))\n",
            "100% 354/354 [00:06<00:00, 51.81it/s]\n",
            "-------------------------\n",
            "Images found:        354\n",
            "Faces detected:      344\n",
            "-------------------------\n",
            "Done.\n"
          ],
          "name": "stdout"
        }
      ]
    },
    {
      "cell_type": "code",
      "metadata": {
        "id": "dM4GsVlZjMPq",
        "colab_type": "code",
        "colab": {}
      },
      "source": [
        "%cd /content/DeepFaceLab/\n",
        "!cp -r models /content/drive/My\\ Drive/DFL/\n",
        "%ls"
      ],
      "execution_count": 0,
      "outputs": []
    },
    {
      "cell_type": "code",
      "metadata": {
        "id": "5sJtTzaECiG1",
        "colab_type": "code",
        "outputId": "16854590-69c6-457c-d5aa-e47666b21ad8",
        "colab": {
          "base_uri": "https://localhost:8080/",
          "height": 35
        }
      },
      "source": [
        "%cd /content/\n",
        "!mv workspace workspace_old\n",
        "\n"
      ],
      "execution_count": 0,
      "outputs": [
        {
          "output_type": "stream",
          "text": [
            "/content\n"
          ],
          "name": "stdout"
        }
      ]
    },
    {
      "cell_type": "code",
      "metadata": {
        "id": "Spz9Oj8FiLJO",
        "colab_type": "code",
        "outputId": "4be17fc9-e4ed-4de3-db2e-71df23ce733b",
        "colab": {
          "base_uri": "https://localhost:8080/",
          "height": 370
        }
      },
      "source": [
        "#sort_type = \"hist\" #@param [\"hist\", \"hist-dissim\", \"face-yaw\", \"face-pitch\", \"blur\", \"final\"]\n",
        "\n",
        "cmd = '/content/DeepFaceLab/main.py sort --input-dir /content/drive/My\\ Drive/DFL/workspace/data_src/aligned --by hist'\n",
        "!python $cmd\n",
        "\n",
        "cmd2 = '/content/DeepFaceLab/main.py sort --input-dir /content/drive/My\\ Drive/DFL/workspace/data_dst/aligned --by hist'\n",
        "!python $cmd2\n"
      ],
      "execution_count": 0,
      "outputs": [
        {
          "output_type": "stream",
          "text": [
            "Running sort tool.\r\n",
            "\n",
            "Sorting by histogram similarity...\n",
            "Running on CPU0.\n",
            "Sorting: 100% 409/409 [00:01<00:00, 348.02it/s]/usr/lib/python3.6/multiprocessing/semaphore_tracker.py:143: UserWarning: semaphore_tracker: There appear to be 1 leaked semaphores to clean up at shutdown\n",
            "  len(cache))\n",
            "Sorting: 100% 409/409 [00:01<00:00, 340.52it/s]\n",
            "Renaming: 100% 409/409 [00:00<00:00, 542.29it/s]\n",
            "Done.\n",
            "Running sort tool.\n",
            "\n",
            "Sorting by histogram similarity...\n",
            "Running on CPU0.\n",
            "Sorting: 100% 344/344 [00:00<00:00, 356.49it/s]/usr/lib/python3.6/multiprocessing/semaphore_tracker.py:143: UserWarning: semaphore_tracker: There appear to be 1 leaked semaphores to clean up at shutdown\n",
            "  len(cache))\n",
            "Sorting: 100% 344/344 [00:00<00:00, 345.77it/s]\n",
            "Renaming: 100% 344/344 [00:00<00:00, 555.93it/s]\n",
            "Done.\n"
          ],
          "name": "stdout"
        }
      ]
    },
    {
      "cell_type": "code",
      "metadata": {
        "id": "oaiAxV1Aj7GL",
        "colab_type": "code",
        "outputId": "af171eb6-ff26-4a0f-c1c5-0396b2fc83c5",
        "colab": {
          "base_uri": "https://localhost:8080/",
          "height": 1526
        }
      },
      "source": [
        "#Model = \"SAE\" #@param [\"SAE\", \"H128\", \"LIAEF128\", \"DF\", \"DEV_FANSEG\", \"RecycleGAN\"]\n",
        "\n",
        "cmd = '/content/DeepFaceLab/main.py train --training-data-src-dir /content/drive/My\\ Drive/DFL/workspace/data_src/aligned/ --training-data-dst-dir /content/drive/My\\ Drive/DFL/workspace/data_dst/aligned/ --model-dir /content/drive/My\\ Drive/DFL/m\n",
        "odels/ --model SAE'\n",
        "\n",
        "!python $cmd"
      ],
      "execution_count": 0,
      "outputs": [
        {
          "output_type": "stream",
          "text": [
            "Running trainer.\r\n",
            "\n",
            "Loading model...\n",
            "Press enter in 2 seconds to override model settings./usr/lib/python3.6/multiprocessing/semaphore_tracker.py:143: UserWarning: semaphore_tracker: There appear to be 1 leaked semaphores to clean up at shutdown\n",
            "  len(cache))\n",
            "Using TensorFlow backend.\n",
            "WARNING:tensorflow:From /usr/local/lib/python3.6/dist-packages/tensorflow/python/framework/op_def_library.py:263: colocate_with (from tensorflow.python.framework.ops) is deprecated and will be removed in a future version.\n",
            "Instructions for updating:\n",
            "Colocations handled automatically by placer.\n",
            "WARNING:tensorflow:From /usr/local/lib/python3.6/dist-packages/tensorflow/python/ops/math_ops.py:3066: to_int32 (from tensorflow.python.ops.math_ops) is deprecated and will be removed in a future version.\n",
            "Instructions for updating:\n",
            "Use tf.cast instead.\n",
            "Loading: 100% 409/409 [00:01<00:00, 293.42it/s]\n",
            "Loading: 100% 344/344 [00:01<00:00, 313.15it/s]\n",
            "===== Model summary =====\n",
            "== Model name: SAE\n",
            "==\n",
            "== Current iteration: 3932\n",
            "==\n",
            "== Model options:\n",
            "== |== batch_size : 4\n",
            "== |== sort_by_yaw : False\n",
            "== |== random_flip : True\n",
            "== |== resolution : 128\n",
            "== |== face_type : f\n",
            "== |== learn_mask : True\n",
            "== |== optimizer_mode : 1\n",
            "== |== archi : df\n",
            "== |== ae_dims : 512\n",
            "== |== e_ch_dims : 42\n",
            "== |== d_ch_dims : 21\n",
            "== |== multiscale_decoder : False\n",
            "== |== ca_weights : False\n",
            "== |== pixel_loss : False\n",
            "== |== face_style_power : 0.0\n",
            "== |== bg_style_power : 0.0\n",
            "== |== apply_random_ct : False\n",
            "== Running on:\n",
            "== |== [0 : Tesla T4]\n",
            "=========================\n",
            "Starting. Press \"Enter\" to stop training and save model.\n",
            "[04:05:47][#004227][0820ms][0.7834][1.3006]\n",
            "[04:10:24][#004546][0806ms][0.7965][1.5784]\n",
            "[04:15:58][#004930][0811ms][0.7134][1.4651]\n",
            "[04:16:19][#004946][0800ms][0.7994][1.5191]\n",
            "[04:31:23][#005983][0805ms][0.7419][1.5210]\n",
            "[04:42:22][#006741][0805ms][0.6411][1.6490]\n",
            "[04:46:28][#007020][0810ms][0.7033][1.5183]\n",
            "[05:01:33][#008056][0799ms][0.6664][1.5203]\n",
            "[05:03:44][#008207][0816ms][0.5148][1.5035]\n",
            "[05:16:38][#009092][0802ms][0.6366][1.5193]\n",
            "[05:28:45][#009927][0810ms][0.7045][1.6206]\n",
            "[05:31:43][#010127][0831ms][0.6092][1.5197]\n",
            "[05:46:48][#011162][0804ms][0.5956][1.5188]\n",
            "[06:01:52][#012196][0803ms][0.5719][1.5189]\n",
            "[06:16:58][#013231][0807ms][0.5566][1.5192]\n",
            "[06:32:03][#014265][0805ms][0.5381][1.5189]\n",
            "[06:47:07][#015298][0806ms][0.5280][1.5197]\n",
            "[07:02:12][#016332][0798ms][0.5128][1.5199]\n",
            "[07:03:46][#016440][0816ms][0.6130][1.5358]\n",
            "[07:17:17][#017366][0801ms][0.5009][1.5176]\n",
            "[07:32:22][#018400][0797ms][0.4883][1.5192]\n",
            "[07:47:27][#019434][0800ms][0.4848][1.5188]\n",
            "[08:02:32][#020468][0794ms][0.4719][1.5197]\n",
            "[08:17:37][#021502][0806ms][0.4592][1.5201]\n",
            "[08:32:41][#022536][0804ms][0.4505][1.5183]\n",
            "[08:47:46][#023569][0802ms][0.4431][1.5177]\n",
            "[09:02:52][#024601][0796ms][0.4349][1.5195]\n",
            "[09:17:58][#025633][0791ms][0.4260][1.5204]\n",
            "[09:33:02][#026664][0790ms][0.4267][1.5209]\n",
            "[09:48:07][#027695][0794ms][0.4085][1.5185]\n",
            "[10:03:13][#028727][0803ms][0.4117][1.5199]\n",
            "[10:18:18][#029757][0797ms][0.4029][1.5186]\n",
            "[10:33:23][#030788][0807ms][0.3948][1.5203]\n",
            "[10:48:29][#031818][0794ms][0.3901][1.5200]\n",
            "[11:03:34][#032847][0796ms][0.3871][1.5192]\n",
            "[11:18:40][#033877][0791ms][0.3765][1.5168]\n",
            "[11:33:45][#034905][0796ms][0.3721][1.5185]\n",
            "[11:48:49][#035932][0801ms][0.3722][1.5206]\n",
            "[12:03:54][#036964][0800ms][0.3655][1.5184]\n",
            "[12:18:58][#037996][0791ms][0.3634][1.5178]\n",
            "[12:34:03][#039028][0797ms][0.3553][1.5181]\n",
            "[12:49:09][#040059][0794ms][0.3497][1.5185]\n",
            "[13:04:14][#041084][0799ms][0.3513][1.5170]\n",
            "[13:19:19][#042109][0798ms][0.3447][1.5186]\n",
            "[13:34:24][#043132][0800ms][0.3394][1.5184]\n",
            "[13:40:28][#043545][0810ms][0.3530][1.3682]"
          ],
          "name": "stdout"
        }
      ]
    },
    {
      "cell_type": "code",
      "metadata": {
        "id": "dL7KRF5D1UT_",
        "colab_type": "code",
        "colab": {}
      },
      "source": [
        "cmd = '/content/DeepFaceLab/main.py convert --input-dir /content/drive/My\\ Drive/DFL/workspace/data_src/ --output-dir /content/drive/My\\ Drive/DFL/workspace/data_dst/merged/ --aligned-dir /content/drive/My\\ Drive/DFL/workspace/data_dst/aligned/  --model-dir /content/drive/My\\ Drive/DFL/models/ --model SAE'\n",
        "\n",
        "%cd /content\n",
        "!python $cmd"
      ],
      "execution_count": 0,
      "outputs": []
    },
    {
      "cell_type": "code",
      "metadata": {
        "id": "aBBql6_z3tGf",
        "colab_type": "code",
        "colab": {
          "base_uri": "https://localhost:8080/",
          "height": 1584
        },
        "outputId": "ffd67a0e-ab99-4f4f-9fc3-3056fe51f593"
      },
      "source": [
        "cmd = '/content/DeepFaceLab/main.py videoed video-from-sequence --input-dir /content/drive/My\\ Drive/DFL/workspace/data_dst/merged/ --output-file /content/drive/My\\ Drive/DFL/workspace/merged.mp4 --reference-file /content/drive/My\\ Drive/DFL/workspace/data_dst.mov'\n",
        "\n",
        "!echo $cmd\n",
        "\n",
        "!python $cmd"
      ],
      "execution_count": 16,
      "outputs": [
        {
          "output_type": "stream",
          "text": [
            "/content/DeepFaceLab/main.py videoed video-from-sequence --input-dir /content/drive/My Drive/DFL/workspace/data_dst/merged/ --output-file /content/drive/My Drive/DFL/workspace/merged.mp4 --reference-file /content/drive/My Drive/DFL/workspace/data_dst.mov\n",
            "Bitrate of output file in MB/s ? (default:16) : \n",
            "16\n",
            "ffmpeg version 3.4.6-0ubuntu0.18.04.1 Copyright (c) 2000-2019 the FFmpeg developers\n",
            "  built with gcc 7 (Ubuntu 7.3.0-16ubuntu3)\n",
            "  configuration: --prefix=/usr --extra-version=0ubuntu0.18.04.1 --toolchain=hardened --libdir=/usr/lib/x86_64-linux-gnu --incdir=/usr/include/x86_64-linux-gnu --enable-gpl --disable-stripping --enable-avresample --enable-avisynth --enable-gnutls --enable-ladspa --enable-libass --enable-libbluray --enable-libbs2b --enable-libcaca --enable-libcdio --enable-libflite --enable-libfontconfig --enable-libfreetype --enable-libfribidi --enable-libgme --enable-libgsm --enable-libmp3lame --enable-libmysofa --enable-libopenjpeg --enable-libopenmpt --enable-libopus --enable-libpulse --enable-librubberband --enable-librsvg --enable-libshine --enable-libsnappy --enable-libsoxr --enable-libspeex --enable-libssh --enable-libtheora --enable-libtwolame --enable-libvorbis --enable-libvpx --enable-libwavpack --enable-libwebp --enable-libx265 --enable-libxml2 --enable-libxvid --enable-libzmq --enable-libzvbi --enable-omx --enable-openal --enable-opengl --enable-sdl2 --enable-libdc1394 --enable-libdrm --enable-libiec61883 --enable-chromaprint --enable-frei0r --enable-libopencv --enable-libx264 --enable-shared\n",
            "  libavutil      55. 78.100 / 55. 78.100\n",
            "  libavcodec     57.107.100 / 57.107.100\n",
            "  libavformat    57. 83.100 / 57. 83.100\n",
            "  libavdevice    57. 10.100 / 57. 10.100\n",
            "  libavfilter     6.107.100 /  6.107.100\n",
            "  libavresample   3.  7.  0 /  3.  7.  0\n",
            "  libswscale      4.  8.100 /  4.  8.100\n",
            "  libswresample   2.  9.100 /  2.  9.100\n",
            "  libpostproc    54.  7.100 / 54.  7.100\n",
            "Input #0, image2, from '/content/drive/My Drive/DFL/workspace/data_dst/merged/%5d.png':\n",
            "  Duration: 00:00:16.36, start: 0.000000, bitrate: N/A\n",
            "    Stream #0:0: Video: png, rgba(pc), 1280x720, 25 fps, 25 tbr, 25 tbn, 25 tbc\n",
            "Input #1, mov,mp4,m4a,3gp,3g2,mj2, from '/content/drive/My Drive/DFL/workspace/data_dst.mov':\n",
            "  Metadata:\n",
            "    major_brand     : qt  \n",
            "    minor_version   : 0\n",
            "    compatible_brands: qt  \n",
            "    creation_time   : 2019-05-29T23:29:23.000000Z\n",
            "    com.apple.quicktime.location.ISO6709: -33.8934+151.2293+054.924/\n",
            "    com.apple.quicktime.make: Apple\n",
            "    com.apple.quicktime.model: iPhone 8 Plus\n",
            "    com.apple.quicktime.software: 12.4\n",
            "    com.apple.quicktime.creationdate: 2019-05-30T09:29:23+1000\n",
            "  Duration: 00:00:11.80, start: 0.000000, bitrate: 5209 kb/s\n",
            "    Stream #1:0(und): Video: hevc (Main) (hvc1 / 0x31637668), yuv420p(tv, bt709), 1280x720, 5081 kb/s, 30 fps, 30 tbr, 600 tbn, 600 tbc (default)\n",
            "    Metadata:\n",
            "      creation_time   : 2019-05-29T23:29:23.000000Z\n",
            "      handler_name    : Core Media Data Handler\n",
            "      encoder         : HEVC\n",
            "    Stream #1:1(und): Audio: aac (LC) (mp4a / 0x6134706D), 44100 Hz, mono, fltp, 93 kb/s (default)\n",
            "    Metadata:\n",
            "      creation_time   : 2019-05-29T23:29:23.000000Z\n",
            "      handler_name    : Core Media Data Handler\n",
            "    Stream #1:2(und): Data: none (mebx / 0x7862656D), 23 kb/s (default)\n",
            "    Metadata:\n",
            "      creation_time   : 2019-05-29T23:29:23.000000Z\n",
            "      handler_name    : Core Media Data Handler\n",
            "    Stream #1:3(und): Data: none (mebx / 0x7862656D), 0 kb/s (default)\n",
            "    Metadata:\n",
            "      creation_time   : 2019-05-29T23:29:23.000000Z\n",
            "      handler_name    : Core Media Data Handler\n",
            "Stream mapping:\n",
            "  Stream #0:0 -> #0:0 (png (native) -> h264 (libx264))\n",
            "  Stream #1:1 -> #0:1 (aac (native) -> aac (native))\n",
            "Press [q] to stop, [?] for help\n",
            "\u001b[1;36m[libx264 @ 0x55c3335d7e00] \u001b[0musing cpu capabilities: MMX2 SSE2Fast SSSE3 SSE4.2 AVX FMA3 BMI2 AVX2\n",
            "\u001b[1;36m[libx264 @ 0x55c3335d7e00] \u001b[0mprofile High, level 4.1\n",
            "\u001b[1;36m[libx264 @ 0x55c3335d7e00] \u001b[0m264 - core 152 r2854 e9a5903 - H.264/MPEG-4 AVC codec - Copyleft 2003-2017 - http://www.videolan.org/x264.html - options: cabac=1 ref=3 deblock=1:0:0 analyse=0x3:0x113 me=hex subme=7 psy=1 psy_rd=1.00:0.00 mixed_ref=1 me_range=16 chroma_me=1 trellis=1 8x8dct=1 cqm=0 deadzone=21,11 fast_pskip=1 chroma_qp_offset=-2 threads=3 lookahead_threads=1 sliced_threads=0 nr=0 decimate=1 interlaced=0 bluray_compat=0 constrained_intra=0 bframes=3 b_pyramid=2 b_adapt=1 b_bias=0 direct=1 weightb=1 open_gop=0 weightp=2 keyint=250 keyint_min=25 scenecut=40 intra_refresh=0 rc_lookahead=40 rc=abr mbtree=1 bitrate=16000 ratetol=1.0 qcomp=0.60 qpmin=0 qpmax=69 qpstep=4 ip_ratio=1.40 aq=1:1.00\n",
            "Output #0, mp4, to '/content/drive/My Drive/DFL/workspace/merged.mp4':\n",
            "  Metadata:\n",
            "    encoder         : Lavf57.83.100\n",
            "    Stream #0:0: Video: h264 (libx264) (avc1 / 0x31637661), yuv420p(progressive), 1280x720, q=-1--1, 16000 kb/s, 30 fps, 15360 tbn, 30 tbc\n",
            "    Metadata:\n",
            "      encoder         : Lavc57.107.100 libx264\n",
            "    Side data:\n",
            "      cpb: bitrate max/min/avg: 0/0/16000000 buffer size: 0 vbv_delay: -1\n",
            "    Stream #0:1(und): Audio: aac (LC) (mp4a / 0x6134706D), 48000 Hz, mono, fltp, 192 kb/s (default)\n",
            "    Metadata:\n",
            "      creation_time   : 2019-05-29T23:29:23.000000Z\n",
            "      handler_name    : Core Media Data Handler\n",
            "      encoder         : Lavc57.107.100 aac\n",
            "\u001b[0;35m[image2 @ 0x55c333448000] \u001b[0m\u001b[0;33mThread message queue blocking; consider raising the thread_queue_size option (current value: 8)\n",
            "frame=  409 fps=8.2 q=-1.0 Lsize=   27042kB time=00:00:13.53 bitrate=16368.7kbits/s speed=0.271x    \n",
            "video:26838kB audio:188kB subtitle:0kB other streams:0kB global headers:0kB muxing overhead: 0.054648%\n",
            "\u001b[1;36m[libx264 @ 0x55c3335d7e00] \u001b[0mframe I:2     Avg QP:10.18  size:227100\n",
            "\u001b[1;36m[libx264 @ 0x55c3335d7e00] \u001b[0mframe P:107   Avg QP:13.70  size:133835\n",
            "\u001b[1;36m[libx264 @ 0x55c3335d7e00] \u001b[0mframe B:300   Avg QP:17.05  size: 42358\n",
            "\u001b[1;36m[libx264 @ 0x55c3335d7e00] \u001b[0mconsecutive B-frames:  1.0%  2.9%  2.2% 93.9%\n",
            "\u001b[1;36m[libx264 @ 0x55c3335d7e00] \u001b[0mmb I  I16..4:  0.8% 93.3%  5.9%\n",
            "\u001b[1;36m[libx264 @ 0x55c3335d7e00] \u001b[0mmb P  I16..4:  0.7% 20.8%  3.2%  P16..4: 27.4% 29.0% 18.8%  0.0%  0.0%    skip: 0.0%\n",
            "\u001b[1;36m[libx264 @ 0x55c3335d7e00] \u001b[0mmb B  I16..4:  0.2%  4.8%  0.6%  B16..8: 31.1% 12.1%  5.6%  direct:30.3%  skip:15.3%  L0:24.6% L1:21.0% BI:54.5%\n",
            "\u001b[1;36m[libx264 @ 0x55c3335d7e00] \u001b[0mfinal ratefactor: 9.57\n",
            "\u001b[1;36m[libx264 @ 0x55c3335d7e00] \u001b[0m8x8 transform intra:85.2% inter:72.4%\n",
            "\u001b[1;36m[libx264 @ 0x55c3335d7e00] \u001b[0mcoded y,uvDC,uvAC intra: 90.7% 71.0% 64.0% inter: 74.4% 60.5% 12.3%\n",
            "\u001b[1;36m[libx264 @ 0x55c3335d7e00] \u001b[0mi16 v,h,dc,p: 19% 24% 47%  9%\n",
            "\u001b[1;36m[libx264 @ 0x55c3335d7e00] \u001b[0mi8 v,h,dc,ddl,ddr,vr,hd,vl,hu: 19% 42% 24%  2%  2%  3%  3%  3%  4%\n",
            "\u001b[1;36m[libx264 @ 0x55c3335d7e00] \u001b[0mi4 v,h,dc,ddl,ddr,vr,hd,vl,hu: 15% 45%  8%  3%  6%  5%  7%  4%  7%\n",
            "\u001b[1;36m[libx264 @ 0x55c3335d7e00] \u001b[0mi8c dc,h,v,p: 39% 42% 14%  5%\n",
            "\u001b[1;36m[libx264 @ 0x55c3335d7e00] \u001b[0mWeighted P-Frames: Y:94.4% UV:73.8%\n",
            "\u001b[1;36m[libx264 @ 0x55c3335d7e00] \u001b[0mref P L0: 51.4% 26.1% 10.0%  8.4%  4.1%\n",
            "\u001b[1;36m[libx264 @ 0x55c3335d7e00] \u001b[0mref B L0: 87.8%  9.5%  2.7%\n",
            "\u001b[1;36m[libx264 @ 0x55c3335d7e00] \u001b[0mref B L1: 97.0%  3.0%\n",
            "\u001b[1;36m[libx264 @ 0x55c3335d7e00] \u001b[0mkb/s:16126.30\n",
            "\u001b[1;36m[aac @ 0x55c3335d8d00] \u001b[0mQavg: 65485.352\n",
            "Done.\n"
          ],
          "name": "stdout"
        }
      ]
    }
  ]
}