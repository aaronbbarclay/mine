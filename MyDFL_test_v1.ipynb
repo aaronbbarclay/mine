{
  "nbformat": 4,
  "nbformat_minor": 0,
  "metadata": {
    "colab": {
      "name": "MyDFL_test_v1.ipynb",
      "version": "0.3.2",
      "provenance": [],
      "include_colab_link": true
    },
    "kernelspec": {
      "name": "python3",
      "display_name": "Python 3"
    },
    "accelerator": "GPU"
  },
  "cells": [
    {
      "cell_type": "markdown",
      "metadata": {
        "id": "view-in-github",
        "colab_type": "text"
      },
      "source": [
        "<a href=\"https://colab.research.google.com/github/aaronbbarclay/mine/blob/master/MyDFL_test_v1.ipynb\" target=\"_parent\"><img src=\"https://colab.research.google.com/assets/colab-badge.svg\" alt=\"Open In Colab\"/></a>"
      ]
    },
    {
      "cell_type": "code",
      "metadata": {
        "id": "dLy_m8MPNpja",
        "colab_type": "code",
        "colab": {
          "base_uri": "https://localhost:8080/",
          "height": 51
        },
        "outputId": "8a031c22-1323-445f-9d47-f5f7516e0954"
      },
      "source": [
        "%cd /content\n",
        "%ls"
      ],
      "execution_count": 3,
      "outputs": [
        {
          "output_type": "stream",
          "text": [
            "/content\n",
            "\u001b[0m\u001b[01;34msample_data\u001b[0m/  \u001b[01;34mworkspace\u001b[0m/\n"
          ],
          "name": "stdout"
        }
      ]
    },
    {
      "cell_type": "code",
      "metadata": {
        "id": "qJvL-sAuEZet",
        "colab_type": "code",
        "colab": {
          "base_uri": "https://localhost:8080/",
          "height": 119
        },
        "outputId": "72e2676c-3c87-46f1-a580-6b068fb290bc"
      },
      "source": [
        "!git clone https://github.com/iperov/DeepFaceLab.git"
      ],
      "execution_count": 5,
      "outputs": [
        {
          "output_type": "stream",
          "text": [
            "Cloning into 'DeepFaceLab'...\n",
            "remote: Enumerating objects: 3223, done.\u001b[K\n",
            "remote: Total 3223 (delta 0), reused 0 (delta 0), pack-reused 3223\u001b[K\n",
            "Receiving objects: 100% (3223/3223), 298.48 MiB | 36.89 MiB/s, done.\n",
            "Resolving deltas: 100% (2076/2076), done.\n",
            "Checking out files: 100% (122/122), done.\n"
          ],
          "name": "stdout"
        }
      ]
    },
    {
      "cell_type": "code",
      "metadata": {
        "id": "CMDBjfaUNqwk",
        "colab_type": "code",
        "colab": {}
      },
      "source": [
        ""
      ],
      "execution_count": 0,
      "outputs": []
    },
    {
      "cell_type": "code",
      "metadata": {
        "id": "6muUxix7Nq0F",
        "colab_type": "code",
        "colab": {
          "base_uri": "https://localhost:8080/",
          "height": 34
        },
        "outputId": "ce8e5a66-9acf-46a0-a0c4-a16789582b64"
      },
      "source": [
        "!pip install -r /content/DeepFaceLab/requirements-colab.txt"
      ],
      "execution_count": 4,
      "outputs": [
        {
          "output_type": "stream",
          "text": [
            "\u001b[31mERROR: Could not open requirements file: [Errno 2] No such file or directory: '/content/DeepFaceLab/requirements-colab.txt'\u001b[0m\n"
          ],
          "name": "stdout"
        }
      ]
    },
    {
      "cell_type": "code",
      "metadata": {
        "id": "bAZjSLNWOIsm",
        "colab_type": "code",
        "colab": {}
      },
      "source": [
        "\n",
        "%mkdir -p /content/workspace\n",
        "%cd /content/workspace\n",
        "\n",
        "#Mount Google Drive as folder\n",
        "from google.colab import drive\n",
        "drive.mount('/content/drive', force_remount=True)\n",
        "\n",
        "%ls"
      ],
      "execution_count": 0,
      "outputs": []
    },
    {
      "cell_type": "code",
      "metadata": {
        "id": "eAE6n8spZz3s",
        "colab_type": "code",
        "colab": {}
      },
      "source": [
        "%cp /content/drive/My\\ Drive/DFL/IMG_1638.MOV /content/workspace/data_src.mov\n",
        "%cp /content/drive/My\\ Drive/DFL/IMG_1639.MOV /content/workspace/data_dst.mov\n"
      ],
      "execution_count": 0,
      "outputs": []
    },
    {
      "cell_type": "code",
      "metadata": {
        "id": "D1IayHvePhvs",
        "colab_type": "code",
        "colab": {}
      },
      "source": [
        "%mkdir -p /content/workspace/data_src\n",
        "%mkdir -p /content/workspace/data_dst"
      ],
      "execution_count": 0,
      "outputs": []
    },
    {
      "cell_type": "code",
      "metadata": {
        "id": "oK5IicIuPXxF",
        "colab_type": "code",
        "colab": {
          "base_uri": "https://localhost:8080/",
          "height": 1295
        },
        "outputId": "fff8ada9-8c40-497e-9b84-8142b44154e0"
      },
      "source": [
        "cmd = '/content/DeepFaceLab/main.py videoed extract-video --input-file /content/workspace/data_src.mov --output-dir /content/workspace/data_src'\n",
        "!python $cmd\n",
        "\n"
      ],
      "execution_count": 65,
      "outputs": [
        {
          "output_type": "stream",
          "text": [
            "Enter FPS ( ?:help skip:fullfps ) : \n",
            "0\n",
            "Output image format? ( jpg png ?:help skip:png ) : jpg\n",
            "ffmpeg version 3.4.6-0ubuntu0.18.04.1 Copyright (c) 2000-2019 the FFmpeg developers\n",
            "  built with gcc 7 (Ubuntu 7.3.0-16ubuntu3)\n",
            "  configuration: --prefix=/usr --extra-version=0ubuntu0.18.04.1 --toolchain=hardened --libdir=/usr/lib/x86_64-linux-gnu --incdir=/usr/include/x86_64-linux-gnu --enable-gpl --disable-stripping --enable-avresample --enable-avisynth --enable-gnutls --enable-ladspa --enable-libass --enable-libbluray --enable-libbs2b --enable-libcaca --enable-libcdio --enable-libflite --enable-libfontconfig --enable-libfreetype --enable-libfribidi --enable-libgme --enable-libgsm --enable-libmp3lame --enable-libmysofa --enable-libopenjpeg --enable-libopenmpt --enable-libopus --enable-libpulse --enable-librubberband --enable-librsvg --enable-libshine --enable-libsnappy --enable-libsoxr --enable-libspeex --enable-libssh --enable-libtheora --enable-libtwolame --enable-libvorbis --enable-libvpx --enable-libwavpack --enable-libwebp --enable-libx265 --enable-libxml2 --enable-libxvid --enable-libzmq --enable-libzvbi --enable-omx --enable-openal --enable-opengl --enable-sdl2 --enable-libdc1394 --enable-libdrm --enable-libiec61883 --enable-chromaprint --enable-frei0r --enable-libopencv --enable-libx264 --enable-shared\n",
            "  libavutil      55. 78.100 / 55. 78.100\n",
            "  libavcodec     57.107.100 / 57.107.100\n",
            "  libavformat    57. 83.100 / 57. 83.100\n",
            "  libavdevice    57. 10.100 / 57. 10.100\n",
            "  libavfilter     6.107.100 /  6.107.100\n",
            "  libavresample   3.  7.  0 /  3.  7.  0\n",
            "  libswscale      4.  8.100 /  4.  8.100\n",
            "  libswresample   2.  9.100 /  2.  9.100\n",
            "  libpostproc    54.  7.100 / 54.  7.100\n",
            "Input #0, mov,mp4,m4a,3gp,3g2,mj2, from '/content/workspace/data_src.mov':\n",
            "  Metadata:\n",
            "    major_brand     : qt  \n",
            "    minor_version   : 0\n",
            "    compatible_brands: qt  \n",
            "    creation_time   : 2019-05-29T23:28:50.000000Z\n",
            "    com.apple.quicktime.location.ISO6709: -33.8934+151.2293+055.696/\n",
            "    com.apple.quicktime.make: Apple\n",
            "    com.apple.quicktime.model: iPhone 8 Plus\n",
            "    com.apple.quicktime.software: 12.4\n",
            "    com.apple.quicktime.creationdate: 2019-05-30T09:28:50+1000\n",
            "  Duration: 00:00:13.63, start: 0.000000, bitrate: 5244 kb/s\n",
            "    Stream #0:0(und): Video: hevc (Main) (hvc1 / 0x31637668), yuv420p(tv, bt709), 1280x720, 5109 kb/s, 30.01 fps, 30 tbr, 600 tbn, 600 tbc (default)\n",
            "    Metadata:\n",
            "      rotate          : 180\n",
            "      creation_time   : 2019-05-29T23:28:50.000000Z\n",
            "      handler_name    : Core Media Data Handler\n",
            "      encoder         : HEVC\n",
            "    Side data:\n",
            "      displaymatrix: rotation of -180.00 degrees\n",
            "    Stream #0:1(und): Audio: aac (LC) (mp4a / 0x6134706D), 44100 Hz, mono, fltp, 92 kb/s (default)\n",
            "    Metadata:\n",
            "      creation_time   : 2019-05-29T23:28:51.000000Z\n",
            "      handler_name    : Core Media Data Handler\n",
            "    Stream #0:2(und): Data: none (mebx / 0x7862656D), 22 kb/s (default)\n",
            "    Metadata:\n",
            "      creation_time   : 2019-05-29T23:28:51.000000Z\n",
            "      handler_name    : Core Media Data Handler\n",
            "    Stream #0:3(und): Data: none (mebx / 0x7862656D), 0 kb/s (default)\n",
            "    Metadata:\n",
            "      creation_time   : 2019-05-29T23:28:51.000000Z\n",
            "      handler_name    : Core Media Data Handler\n",
            "Stream mapping:\n",
            "  Stream #0:0 -> #0:0 (hevc (native) -> mjpeg (native))\n",
            "Press [q] to stop, [?] for help\n",
            "\u001b[0;33mIncompatible pixel format 'rgb24' for codec 'mjpeg', auto-selecting format 'yuvj444p'\n",
            "\u001b[0m\u001b[1;34m[swscaler @ 0x56261563a000] \u001b[0m\u001b[0;33mdeprecated pixel format used, make sure you did set range correctly\n",
            "\u001b[0mOutput #0, image2, to '/content/workspace/data_src/%5d.jpg':\n",
            "  Metadata:\n",
            "    major_brand     : qt  \n",
            "    minor_version   : 0\n",
            "    compatible_brands: qt  \n",
            "    com.apple.quicktime.creationdate: 2019-05-30T09:28:50+1000\n",
            "    com.apple.quicktime.location.ISO6709: -33.8934+151.2293+055.696/\n",
            "    com.apple.quicktime.make: Apple\n",
            "    com.apple.quicktime.model: iPhone 8 Plus\n",
            "    com.apple.quicktime.software: 12.4\n",
            "    encoder         : Lavf57.83.100\n",
            "    Stream #0:0(und): Video: mjpeg, yuvj444p(pc), 1280x720, q=2-31, 200 kb/s, 30 fps, 30 tbn, 30 tbc (default)\n",
            "    Metadata:\n",
            "      encoder         : Lavc57.107.100 mjpeg\n",
            "      creation_time   : 2019-05-29T23:28:50.000000Z\n",
            "      handler_name    : Core Media Data Handler\n",
            "    Side data:\n",
            "      cpb: bitrate max/min/avg: 0/0/200000 buffer size: 0 vbv_delay: -1\n",
            "      displaymatrix: rotation of -0.00 degrees\n",
            "frame=  409 fps= 38 q=2.0 Lsize=N/A time=00:00:13.63 bitrate=N/A speed=1.28x    \n",
            "video:88086kB audio:0kB subtitle:0kB other streams:0kB global headers:0kB muxing overhead: unknown\n",
            "Done.\n"
          ],
          "name": "stdout"
        }
      ]
    },
    {
      "cell_type": "code",
      "metadata": {
        "id": "KSQvN91fcE_b",
        "colab_type": "code",
        "colab": {
          "base_uri": "https://localhost:8080/",
          "height": 1227
        },
        "outputId": "4c15e514-543d-4d58-d520-10c39a35f8c4"
      },
      "source": [
        "cmd = '/content/DeepFaceLab/main.py videoed extract-video --input-file /content/workspace/data_dst.mov --output-dir /content/workspace/data_dst'\n",
        "!python $cmd"
      ],
      "execution_count": 66,
      "outputs": [
        {
          "output_type": "stream",
          "text": [
            "Enter FPS ( ?:help skip:fullfps ) : \n",
            "0\n",
            "Output image format? ( jpg png ?:help skip:png ) : jpg\n",
            "ffmpeg version 3.4.6-0ubuntu0.18.04.1 Copyright (c) 2000-2019 the FFmpeg developers\n",
            "  built with gcc 7 (Ubuntu 7.3.0-16ubuntu3)\n",
            "  configuration: --prefix=/usr --extra-version=0ubuntu0.18.04.1 --toolchain=hardened --libdir=/usr/lib/x86_64-linux-gnu --incdir=/usr/include/x86_64-linux-gnu --enable-gpl --disable-stripping --enable-avresample --enable-avisynth --enable-gnutls --enable-ladspa --enable-libass --enable-libbluray --enable-libbs2b --enable-libcaca --enable-libcdio --enable-libflite --enable-libfontconfig --enable-libfreetype --enable-libfribidi --enable-libgme --enable-libgsm --enable-libmp3lame --enable-libmysofa --enable-libopenjpeg --enable-libopenmpt --enable-libopus --enable-libpulse --enable-librubberband --enable-librsvg --enable-libshine --enable-libsnappy --enable-libsoxr --enable-libspeex --enable-libssh --enable-libtheora --enable-libtwolame --enable-libvorbis --enable-libvpx --enable-libwavpack --enable-libwebp --enable-libx265 --enable-libxml2 --enable-libxvid --enable-libzmq --enable-libzvbi --enable-omx --enable-openal --enable-opengl --enable-sdl2 --enable-libdc1394 --enable-libdrm --enable-libiec61883 --enable-chromaprint --enable-frei0r --enable-libopencv --enable-libx264 --enable-shared\n",
            "  libavutil      55. 78.100 / 55. 78.100\n",
            "  libavcodec     57.107.100 / 57.107.100\n",
            "  libavformat    57. 83.100 / 57. 83.100\n",
            "  libavdevice    57. 10.100 / 57. 10.100\n",
            "  libavfilter     6.107.100 /  6.107.100\n",
            "  libavresample   3.  7.  0 /  3.  7.  0\n",
            "  libswscale      4.  8.100 /  4.  8.100\n",
            "  libswresample   2.  9.100 /  2.  9.100\n",
            "  libpostproc    54.  7.100 / 54.  7.100\n",
            "Input #0, mov,mp4,m4a,3gp,3g2,mj2, from '/content/workspace/data_dst.mov':\n",
            "  Metadata:\n",
            "    major_brand     : qt  \n",
            "    minor_version   : 0\n",
            "    compatible_brands: qt  \n",
            "    creation_time   : 2019-05-29T23:29:23.000000Z\n",
            "    com.apple.quicktime.location.ISO6709: -33.8934+151.2293+054.924/\n",
            "    com.apple.quicktime.make: Apple\n",
            "    com.apple.quicktime.model: iPhone 8 Plus\n",
            "    com.apple.quicktime.software: 12.4\n",
            "    com.apple.quicktime.creationdate: 2019-05-30T09:29:23+1000\n",
            "  Duration: 00:00:11.80, start: 0.000000, bitrate: 5209 kb/s\n",
            "    Stream #0:0(und): Video: hevc (Main) (hvc1 / 0x31637668), yuv420p(tv, bt709), 1280x720, 5081 kb/s, 30 fps, 30 tbr, 600 tbn, 600 tbc (default)\n",
            "    Metadata:\n",
            "      creation_time   : 2019-05-29T23:29:23.000000Z\n",
            "      handler_name    : Core Media Data Handler\n",
            "      encoder         : HEVC\n",
            "    Stream #0:1(und): Audio: aac (LC) (mp4a / 0x6134706D), 44100 Hz, mono, fltp, 93 kb/s (default)\n",
            "    Metadata:\n",
            "      creation_time   : 2019-05-29T23:29:23.000000Z\n",
            "      handler_name    : Core Media Data Handler\n",
            "    Stream #0:2(und): Data: none (mebx / 0x7862656D), 23 kb/s (default)\n",
            "    Metadata:\n",
            "      creation_time   : 2019-05-29T23:29:23.000000Z\n",
            "      handler_name    : Core Media Data Handler\n",
            "    Stream #0:3(und): Data: none (mebx / 0x7862656D), 0 kb/s (default)\n",
            "    Metadata:\n",
            "      creation_time   : 2019-05-29T23:29:23.000000Z\n",
            "      handler_name    : Core Media Data Handler\n",
            "Stream mapping:\n",
            "  Stream #0:0 -> #0:0 (hevc (native) -> mjpeg (native))\n",
            "Press [q] to stop, [?] for help\n",
            "\u001b[0;33mIncompatible pixel format 'rgb24' for codec 'mjpeg', auto-selecting format 'yuvj444p'\n",
            "\u001b[0m\u001b[1;34m[swscaler @ 0x55f1281b8000] \u001b[0m\u001b[0;33mdeprecated pixel format used, make sure you did set range correctly\n",
            "\u001b[0mOutput #0, image2, to '/content/workspace/data_dst/%5d.jpg':\n",
            "  Metadata:\n",
            "    major_brand     : qt  \n",
            "    minor_version   : 0\n",
            "    compatible_brands: qt  \n",
            "    com.apple.quicktime.creationdate: 2019-05-30T09:29:23+1000\n",
            "    com.apple.quicktime.location.ISO6709: -33.8934+151.2293+054.924/\n",
            "    com.apple.quicktime.make: Apple\n",
            "    com.apple.quicktime.model: iPhone 8 Plus\n",
            "    com.apple.quicktime.software: 12.4\n",
            "    encoder         : Lavf57.83.100\n",
            "    Stream #0:0(und): Video: mjpeg, yuvj444p(pc), 1280x720, q=2-31, 200 kb/s, 30 fps, 30 tbn, 30 tbc (default)\n",
            "    Metadata:\n",
            "      creation_time   : 2019-05-29T23:29:23.000000Z\n",
            "      handler_name    : Core Media Data Handler\n",
            "      encoder         : Lavc57.107.100 mjpeg\n",
            "    Side data:\n",
            "      cpb: bitrate max/min/avg: 0/0/200000 buffer size: 0 vbv_delay: -1\n",
            "frame=  354 fps= 39 q=2.0 Lsize=N/A time=00:00:11.80 bitrate=N/A speed=1.31x    \n",
            "video:86837kB audio:0kB subtitle:0kB other streams:0kB global headers:0kB muxing overhead: unknown\n",
            "Done.\n"
          ],
          "name": "stdout"
        }
      ]
    },
    {
      "cell_type": "code",
      "metadata": {
        "id": "4-7o-8F5RAqR",
        "colab_type": "code",
        "colab": {
          "base_uri": "https://localhost:8080/",
          "height": 85
        },
        "outputId": "a75554f3-7ad8-4c46-bffd-00f2692d5352"
      },
      "source": [
        "%cd /content/workspace/\n",
        "%ls -l\n",
        "%cp -r /content/workspace/ /content/drive/My\\ Drive/DFL/\n"
      ],
      "execution_count": 2,
      "outputs": [
        {
          "output_type": "stream",
          "text": [
            "/content/workspace\n",
            "total 4\n",
            "drwxr-xr-x 3 root root 4096 May 30 11:27 \u001b[0m\u001b[01;34mdata_src\u001b[0m/\n",
            "cp: cannot create directory '/content/drive/My Drive/DFL/': No such file or directory\n"
          ],
          "name": "stdout"
        }
      ]
    },
    {
      "cell_type": "code",
      "metadata": {
        "id": "ro8b0C7zc5qR",
        "colab_type": "code",
        "colab": {
          "base_uri": "https://localhost:8080/",
          "height": 68
        },
        "outputId": "53f95fe3-a856-4eeb-998e-9eff3b1f8ae3"
      },
      "source": [
        "%cd /content/workspace/\n",
        "%mkdir -p /content/workspace/data_src\n",
        "%mkdir -p /content/workspace/data_src/aligned\n",
        "%mkdir -p /content/workspace/data_src/aligned/debug\n",
        "\n",
        "cmd = '/content/DeepFaceLab/main.py extract --input-dir /content/workspace/data_src --output-dir /content/workspace/data_src/aligned --detector s3fd'\n",
        "!python $cmd"
      ],
      "execution_count": 1,
      "outputs": [
        {
          "output_type": "stream",
          "text": [
            "[Errno 2] No such file or directory: '/content/workspace/'\n",
            "/content\n",
            "python3: can't open file '/content/DeepFaceLab/main.py': [Errno 2] No such file or directory\n"
          ],
          "name": "stdout"
        }
      ]
    },
    {
      "cell_type": "code",
      "metadata": {
        "id": "BckqaUaecyW3",
        "colab_type": "code",
        "colab": {}
      },
      "source": [
        "detector = \"S3FD\"\n"
      ],
      "execution_count": 0,
      "outputs": []
    }
  ]
}