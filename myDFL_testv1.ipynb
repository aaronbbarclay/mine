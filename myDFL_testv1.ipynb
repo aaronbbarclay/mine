{
  "nbformat": 4,
  "nbformat_minor": 0,
  "metadata": {
    "colab": {
      "name": "Untitled2.ipynb",
      "version": "0.3.2",
      "provenance": [],
      "include_colab_link": true
    },
    "kernelspec": {
      "name": "python3",
      "display_name": "Python 3"
    },
    "accelerator": "GPU"
  },
  "cells": [
    {
      "cell_type": "markdown",
      "metadata": {
        "id": "view-in-github",
        "colab_type": "text"
      },
      "source": [
        "<a href=\"https://colab.research.google.com/github/aaronbbarclay/mine/blob/master/myDFL_testv1.ipynb\" target=\"_parent\"><img src=\"https://colab.research.google.com/assets/colab-badge.svg\" alt=\"Open In Colab\"/></a>"
      ]
    },
    {
      "cell_type": "code",
      "metadata": {
        "id": "qJvL-sAuEZet",
        "colab_type": "code",
        "colab": {
          "base_uri": "https://localhost:8080/",
          "height": 119
        },
        "outputId": "737eff88-2258-4a89-9373-de448a393a6d"
      },
      "source": [
        "!git clone https://github.com/iperov/DeepFaceLab.git"
      ],
      "execution_count": 1,
      "outputs": [
        {
          "output_type": "stream",
          "text": [
            "Cloning into 'DeepFaceLab'...\n",
            "remote: Enumerating objects: 3223, done.\u001b[K\n",
            "remote: Total 3223 (delta 0), reused 0 (delta 0), pack-reused 3223\u001b[K\n",
            "Receiving objects: 100% (3223/3223), 298.48 MiB | 33.83 MiB/s, done.\n",
            "Resolving deltas: 100% (2076/2076), done.\n",
            "Checking out files: 100% (122/122), done.\n"
          ],
          "name": "stdout"
        }
      ]
    }
  ]
}