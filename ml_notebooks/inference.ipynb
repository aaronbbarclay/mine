{
  "nbformat": 4,
  "nbformat_minor": 0,
  "metadata": {
    "colab": {
      "name": "inference.ipynb",
      "version": "0.3.2",
      "provenance": [],
      "include_colab_link": true
    },
    "kernelspec": {
      "name": "python3",
      "display_name": "Python 3"
    },
    "accelerator": "GPU"
  },
  "cells": [
    {
      "cell_type": "markdown",
      "metadata": {
        "id": "view-in-github",
        "colab_type": "text"
      },
      "source": [
        "<a href=\"https://colab.research.google.com/github/aaronbbarclay/mine/blob/master/inference.ipynb\" target=\"_parent\"><img src=\"https://colab.research.google.com/assets/colab-badge.svg\" alt=\"Open In Colab\"/></a>"
      ]
    },
    {
      "cell_type": "code",
      "metadata": {
        "id": "FyK5mM1Q23wr",
        "colab_type": "code",
        "colab": {
          "base_uri": "https://localhost:8080/",
          "height": 357
        },
        "outputId": "6a8bd122-4e2b-4958-d1b2-a73ee5e545d3"
      },
      "source": [
        "!pip show tensorflow\n",
        "!pip show tensorboard\n",
        "!pip show python\n"
      ],
      "execution_count": 1,
      "outputs": [
        {
          "output_type": "stream",
          "text": [
            "Name: tensorflow\n",
            "Version: 1.13.1\n",
            "Summary: TensorFlow is an open source machine learning framework for everyone.\n",
            "Home-page: https://www.tensorflow.org/\n",
            "Author: Google Inc.\n",
            "Author-email: opensource@google.com\n",
            "License: Apache 2.0\n",
            "Location: /usr/local/lib/python3.6/dist-packages\n",
            "Requires: six, wheel, absl-py, tensorboard, keras-preprocessing, numpy, astor, termcolor, protobuf, grpcio, tensorflow-estimator, keras-applications, gast\n",
            "Required-by: stable-baselines, magenta, fancyimpute\n",
            "Name: tensorboard\n",
            "Version: 1.13.1\n",
            "Summary: TensorBoard lets you watch Tensors Flow\n",
            "Home-page: https://github.com/tensorflow/tensorboard\n",
            "Author: Google Inc.\n",
            "Author-email: opensource@google.com\n",
            "License: Apache 2.0\n",
            "Location: /usr/local/lib/python3.6/dist-packages\n",
            "Requires: wheel, markdown, numpy, werkzeug, grpcio, protobuf, absl-py, six\n",
            "Required-by: tensorflow\n"
          ],
          "name": "stdout"
        }
      ]
    },
    {
      "cell_type": "code",
      "metadata": {
        "id": "IGtmfqI53eID",
        "colab_type": "code",
        "colab": {
          "base_uri": "https://localhost:8080/",
          "height": 1224
        },
        "outputId": "b45cada1-7583-4e92-ec18-d8c16c03f51c"
      },
      "source": [
        "%cd\n",
        "!git clone --quiet https://github.com/tensorflow/models.git\n",
        "!apt-get install protobuf-compiler python-pil python-lxml python-tk\n",
        "!pip install -q Cython contextlib2 pillow lxml matplotlib PyDrive six"
      ],
      "execution_count": 2,
      "outputs": [
        {
          "output_type": "stream",
          "text": [
            "/root\n",
            "Reading package lists... Done\n",
            "Building dependency tree       \n",
            "Reading state information... Done\n",
            "python-tk is already the newest version (2.7.15~rc1-1).\n",
            "protobuf-compiler is already the newest version (3.0.0-9.1ubuntu1).\n",
            "The following package was automatically installed and is no longer required:\n",
            "  libnvidia-common-410\n",
            "Use 'apt autoremove' to remove it.\n",
            "The following additional packages will be installed:\n",
            "  python-bs4 python-chardet python-html5lib python-olefile\n",
            "  python-pkg-resources python-six python-webencodings\n",
            "Suggested packages:\n",
            "  python-genshi python-lxml-dbg python-lxml-doc python-pil-doc python-pil-dbg\n",
            "  python-setuptools\n",
            "The following NEW packages will be installed:\n",
            "  python-bs4 python-chardet python-html5lib python-lxml python-olefile\n",
            "  python-pil python-pkg-resources python-six python-webencodings\n",
            "0 upgraded, 9 newly installed, 0 to remove and 7 not upgraded.\n",
            "Need to get 1,818 kB of archives.\n",
            "After this operation, 7,688 kB of additional disk space will be used.\n",
            "Get:1 http://archive.ubuntu.com/ubuntu bionic/main amd64 python-bs4 all 4.6.0-1 [67.9 kB]\n",
            "Get:2 http://archive.ubuntu.com/ubuntu bionic/main amd64 python-pkg-resources all 39.0.1-2 [128 kB]\n",
            "Get:3 http://archive.ubuntu.com/ubuntu bionic/main amd64 python-chardet all 3.0.4-1 [80.3 kB]\n",
            "Get:4 http://archive.ubuntu.com/ubuntu bionic/main amd64 python-six all 1.11.0-2 [11.3 kB]\n",
            "Get:5 http://archive.ubuntu.com/ubuntu bionic/main amd64 python-webencodings all 0.5-2 [10.3 kB]\n",
            "Get:6 http://archive.ubuntu.com/ubuntu bionic/main amd64 python-html5lib all 0.999999999-1 [83.6 kB]\n",
            "Get:7 http://archive.ubuntu.com/ubuntu bionic-updates/main amd64 python-lxml amd64 4.2.1-1ubuntu0.1 [1,075 kB]\n",
            "Get:8 http://archive.ubuntu.com/ubuntu bionic/main amd64 python-olefile all 0.45.1-1 [33.2 kB]\n",
            "Get:9 http://archive.ubuntu.com/ubuntu bionic/main amd64 python-pil amd64 5.1.0-1 [328 kB]\n",
            "Fetched 1,818 kB in 0s (14.3 MB/s)\n",
            "Selecting previously unselected package python-bs4.\n",
            "(Reading database ... 130824 files and directories currently installed.)\n",
            "Preparing to unpack .../0-python-bs4_4.6.0-1_all.deb ...\n",
            "Unpacking python-bs4 (4.6.0-1) ...\n",
            "Selecting previously unselected package python-pkg-resources.\n",
            "Preparing to unpack .../1-python-pkg-resources_39.0.1-2_all.deb ...\n",
            "Unpacking python-pkg-resources (39.0.1-2) ...\n",
            "Selecting previously unselected package python-chardet.\n",
            "Preparing to unpack .../2-python-chardet_3.0.4-1_all.deb ...\n",
            "Unpacking python-chardet (3.0.4-1) ...\n",
            "Selecting previously unselected package python-six.\n",
            "Preparing to unpack .../3-python-six_1.11.0-2_all.deb ...\n",
            "Unpacking python-six (1.11.0-2) ...\n",
            "Selecting previously unselected package python-webencodings.\n",
            "Preparing to unpack .../4-python-webencodings_0.5-2_all.deb ...\n",
            "Unpacking python-webencodings (0.5-2) ...\n",
            "Selecting previously unselected package python-html5lib.\n",
            "Preparing to unpack .../5-python-html5lib_0.999999999-1_all.deb ...\n",
            "Unpacking python-html5lib (0.999999999-1) ...\n",
            "Selecting previously unselected package python-lxml:amd64.\n",
            "Preparing to unpack .../6-python-lxml_4.2.1-1ubuntu0.1_amd64.deb ...\n",
            "Unpacking python-lxml:amd64 (4.2.1-1ubuntu0.1) ...\n",
            "Selecting previously unselected package python-olefile.\n",
            "Preparing to unpack .../7-python-olefile_0.45.1-1_all.deb ...\n",
            "Unpacking python-olefile (0.45.1-1) ...\n",
            "Selecting previously unselected package python-pil:amd64.\n",
            "Preparing to unpack .../8-python-pil_5.1.0-1_amd64.deb ...\n",
            "Unpacking python-pil:amd64 (5.1.0-1) ...\n",
            "Setting up python-pkg-resources (39.0.1-2) ...\n",
            "Setting up python-six (1.11.0-2) ...\n",
            "Setting up python-bs4 (4.6.0-1) ...\n",
            "Setting up python-lxml:amd64 (4.2.1-1ubuntu0.1) ...\n",
            "Setting up python-olefile (0.45.1-1) ...\n",
            "Processing triggers for man-db (2.8.3-2ubuntu0.1) ...\n",
            "Setting up python-pil:amd64 (5.1.0-1) ...\n",
            "Setting up python-webencodings (0.5-2) ...\n",
            "Setting up python-chardet (3.0.4-1) ...\n",
            "Setting up python-html5lib (0.999999999-1) ...\n",
            "\u001b[K     |████████████████████████████████| 993kB 9.1MB/s \n",
            "\u001b[?25h  Building wheel for PyDrive (setup.py) ... \u001b[?25l\u001b[?25hdone\n"
          ],
          "name": "stdout"
        }
      ]
    },
    {
      "cell_type": "code",
      "metadata": {
        "id": "ZK8N2Xql3oGs",
        "colab_type": "code",
        "colab": {
          "base_uri": "https://localhost:8080/",
          "height": 34
        },
        "outputId": "58d5f7cc-3931-485d-f177-478c7b7d6197"
      },
      "source": [
        "# Compile protocol buffers\n",
        "%cd ~/models/research\n",
        "!protoc object_detection/protos/*.proto --python_out=."
      ],
      "execution_count": 3,
      "outputs": [
        {
          "output_type": "stream",
          "text": [
            "/root/models/research\n"
          ],
          "name": "stdout"
        }
      ]
    },
    {
      "cell_type": "code",
      "metadata": {
        "id": "Tj456Pfw4Xvp",
        "colab_type": "code",
        "colab": {}
      },
      "source": [
        "# Configure env variables\n",
        "import os\n",
        "os.environ['PYTHONPATH'] += ':/root/models/research/:/root/models/research/slim/'"
      ],
      "execution_count": 0,
      "outputs": []
    },
    {
      "cell_type": "code",
      "metadata": {
        "id": "G45j6Kxi3zBP",
        "colab_type": "code",
        "colab": {
          "base_uri": "https://localhost:8080/",
          "height": 34
        },
        "outputId": "5bd84c01-bd1a-49c3-e43d-279c0ccc66cd"
      },
      "source": [
        "%cd ~/models/research/\n",
        "\n",
        "import numpy as np\n",
        "import os\n",
        "import six.moves.urllib as urllib\n",
        "import sys\n",
        "import tarfile\n",
        "import tensorflow as tf\n",
        "import zipfile\n",
        "\n",
        "from collections import defaultdict\n",
        "from io import StringIO\n",
        "from matplotlib import pyplot as plt\n",
        "from PIL import Image\n",
        "\n",
        "sys.path.append(\"/models/research/\")\n",
        "from object_detection.utils import ops as utils_ops\n",
        "\n",
        "from object_detection.utils import label_map_util\n",
        "from object_detection.utils import visualization_utils as vis_util\n"
      ],
      "execution_count": 5,
      "outputs": [
        {
          "output_type": "stream",
          "text": [
            "/root/models/research\n"
          ],
          "name": "stdout"
        }
      ]
    },
    {
      "cell_type": "code",
      "metadata": {
        "id": "zuj5_ps28o4W",
        "colab_type": "code",
        "colab": {
          "base_uri": "https://localhost:8080/",
          "height": 34
        },
        "outputId": "4ea5db3c-4986-4691-d0ae-3e14b3f695c4"
      },
      "source": [
        "MODEL_NAME = 'ssd_mobilenet_v1_coco_2017_11_17'\n",
        "MODEL_FILE = MODEL_NAME + '.tar.gz'\n",
        "DOWNLOAD_BASE = 'http://download.tensorflow.org/models/object_detection/'\n",
        " \n",
        "PATH_TO_CKPT = MODEL_NAME + '/frozen_inference_graph.pb'\n",
        " \n",
        "PATH_TO_LABELS = os.path.join('/root/models/research/object_detection/data', 'mscoco_label_map.pbtxt')\n",
        "print(PATH_TO_LABELS)\n",
        " \n",
        "NUM_CLASSES = 90"
      ],
      "execution_count": 6,
      "outputs": [
        {
          "output_type": "stream",
          "text": [
            "/root/models/research/object_detection/data/mscoco_label_map.pbtxt\n"
          ],
          "name": "stdout"
        }
      ]
    },
    {
      "cell_type": "code",
      "metadata": {
        "id": "7-wr06Zv9dkk",
        "colab_type": "code",
        "colab": {
          "base_uri": "https://localhost:8080/",
          "height": 238
        },
        "outputId": "fdd1d62b-9667-40c4-e9cf-50ef52c49121"
      },
      "source": [
        "%cd /root/models/research/object_detection/data\n",
        "%ls"
      ],
      "execution_count": 7,
      "outputs": [
        {
          "output_type": "stream",
          "text": [
            "/root/models/research/object_detection/data\n",
            "ava_label_map_v2.1.pbtxt\n",
            "face_label_map.pbtxt\n",
            "fgvc_2854_classes_label_map.pbtxt\n",
            "kitti_label_map.pbtxt\n",
            "mscoco_complete_label_map.pbtxt\n",
            "mscoco_label_map.pbtxt\n",
            "mscoco_minival_ids.txt\n",
            "oid_bbox_trainable_label_map.pbtxt\n",
            "oid_object_detection_challenge_500_label_map.pbtxt\n",
            "oid_v4_label_map.pbtxt\n",
            "pascal_label_map.pbtxt\n",
            "pet_label_map.pbtxt\n"
          ],
          "name": "stdout"
        }
      ]
    },
    {
      "cell_type": "code",
      "metadata": {
        "id": "QvSIt1eL85SY",
        "colab_type": "code",
        "colab": {
          "base_uri": "https://localhost:8080/",
          "height": 34
        },
        "outputId": "0241d63b-3b9f-4662-8fa7-b8b22fb54930"
      },
      "source": [
        "opener = urllib.request.URLopener()\n",
        "opener.retrieve(DOWNLOAD_BASE + MODEL_FILE, MODEL_FILE)\n",
        "tar_file = tarfile.open(MODEL_FILE)\n",
        "for file in tar_file.getmembers():\n",
        "  file_name = os.path.basename(file.name)\n",
        "  if 'frozen_inference_graph.pb' in file_name:\n",
        "    tar_file.extract(file, os.getcwd())\n",
        " \n",
        "detection_graph = tf.Graph()\n",
        "with detection_graph.as_default():\n",
        "  od_graph_def = tf.GraphDef()\n",
        "  with tf.gfile.GFile(PATH_TO_CKPT, 'rb') as fid:\n",
        "    serialized_graph = fid.read()\n",
        "    od_graph_def.ParseFromString(serialized_graph)\n",
        "    tf.import_graph_def(od_graph_def, name='')\n",
        "    \n",
        "print(PATH_TO_CKPT)"
      ],
      "execution_count": 8,
      "outputs": [
        {
          "output_type": "stream",
          "text": [
            "ssd_mobilenet_v1_coco_2017_11_17/frozen_inference_graph.pb\n"
          ],
          "name": "stdout"
        }
      ]
    },
    {
      "cell_type": "code",
      "metadata": {
        "id": "IZtYQYfw9AiA",
        "colab_type": "code",
        "colab": {}
      },
      "source": [
        "label_map = label_map_util.load_labelmap(PATH_TO_LABELS)\n",
        "categories = label_map_util.convert_label_map_to_categories(label_map, max_num_classes=NUM_CLASSES, use_display_name=True)\n",
        "category_index = label_map_util.create_category_index(categories)\n",
        "\n",
        "print(label_map)"
      ],
      "execution_count": 0,
      "outputs": []
    },
    {
      "cell_type": "code",
      "metadata": {
        "id": "5a9xPn4B-ErC",
        "colab_type": "code",
        "colab": {
          "base_uri": "https://localhost:8080/",
          "height": 6273
        },
        "outputId": "937a8c10-74e0-4f04-8807-e7bac7e64b98"
      },
      "source": [
        "%mkdir ~/data\n",
        "%cd ~/data\n",
        "!rm -rf /root/data/mine/\n",
        "!git clone https://github.com/aaronbbarclay/mine\n",
        "%cd /root/data/mine/machineLearning/macbethIdentify/data/\n",
        "%ls\n",
        "!unzip macbeth_identify.zip"
      ],
      "execution_count": 107,
      "outputs": [
        {
          "output_type": "stream",
          "text": [
            "mkdir: cannot create directory ‘/root/data’: File exists\n",
            "/root/data\n",
            "Cloning into 'mine'...\n",
            "remote: Enumerating objects: 77, done.\u001b[K\n",
            "remote: Counting objects: 100% (77/77), done.\u001b[K\n",
            "remote: Compressing objects: 100% (72/72), done.\u001b[K\n",
            "remote: Total 77 (delta 43), reused 9 (delta 0), pack-reused 0\u001b[K\n",
            "Unpacking objects: 100% (77/77), done.\n",
            "/root/data/mine/machineLearning/macbethIdentify/data\n",
            "\u001b[0m\u001b[01;32mmacbeth_identify.zip\u001b[0m*\n",
            "Archive:  macbeth_identify.zip\n",
            "   creating: macbeth_identify/\n",
            "  inflating: macbeth_identify/.DS_Store  \n",
            "   creating: __MACOSX/\n",
            "   creating: __MACOSX/macbeth_identify/\n",
            "  inflating: __MACOSX/macbeth_identify/._.DS_Store  \n",
            "  inflating: macbeth_identify/label_map.pbtxt  \n",
            "  inflating: __MACOSX/macbeth_identify/._label_map.pbtxt  \n",
            "  inflating: macbeth_identify/train.txt  \n",
            "  inflating: __MACOSX/macbeth_identify/._train.txt  \n",
            "   creating: macbeth_identify/img/\n",
            "  inflating: macbeth_identify/img/IMG_1336.jpg  \n",
            "   creating: __MACOSX/macbeth_identify/img/\n",
            "  inflating: __MACOSX/macbeth_identify/img/._IMG_1336.jpg  \n",
            "  inflating: macbeth_identify/img/IMG_1322.jpg  \n",
            "  inflating: __MACOSX/macbeth_identify/img/._IMG_1322.jpg  \n",
            "  inflating: macbeth_identify/img/penn_jillette_00135.jpg  \n",
            "  inflating: __MACOSX/macbeth_identify/img/._penn_jillette_00135.jpg  \n",
            "  inflating: macbeth_identify/img/catherine_mary_stewart_00461.jpg  \n",
            "  inflating: __MACOSX/macbeth_identify/img/._catherine_mary_stewart_00461.jpg  \n",
            "  inflating: macbeth_identify/img/IMG_1323.jpg  \n",
            "  inflating: __MACOSX/macbeth_identify/img/._IMG_1323.jpg  \n",
            "  inflating: macbeth_identify/img/IMG_1337.jpg  \n",
            "  inflating: __MACOSX/macbeth_identify/img/._IMG_1337.jpg  \n",
            "  inflating: macbeth_identify/img/IMG_1321.jpg  \n",
            "  inflating: __MACOSX/macbeth_identify/img/._IMG_1321.jpg  \n",
            "  inflating: macbeth_identify/img/IMG_1335.jpg  \n",
            "  inflating: __MACOSX/macbeth_identify/img/._IMG_1335.jpg  \n",
            "  inflating: macbeth_identify/img/IMG_0481_orig.jpg  \n",
            "  inflating: __MACOSX/macbeth_identify/img/._IMG_0481_orig.jpg  \n",
            "  inflating: macbeth_identify/img/p04.jpg  \n",
            "  inflating: __MACOSX/macbeth_identify/img/._p04.jpg  \n",
            "  inflating: macbeth_identify/img/bob_amsterdam_00052.jpg  \n",
            "  inflating: __MACOSX/macbeth_identify/img/._bob_amsterdam_00052.jpg  \n",
            "  inflating: macbeth_identify/img/IMG_1334.jpg  \n",
            "  inflating: __MACOSX/macbeth_identify/img/._IMG_1334.jpg  \n",
            "  inflating: macbeth_identify/img/IMG_1320.jpg  \n",
            "  inflating: __MACOSX/macbeth_identify/img/._IMG_1320.jpg  \n",
            "  inflating: macbeth_identify/img/IMG_1324.jpg  \n",
            "  inflating: __MACOSX/macbeth_identify/img/._IMG_1324.jpg  \n",
            "  inflating: macbeth_identify/img/IMG_1330.jpg  \n",
            "  inflating: __MACOSX/macbeth_identify/img/._IMG_1330.jpg  \n",
            "  inflating: macbeth_identify/img/IMG_1318.jpg  \n",
            "  inflating: __MACOSX/macbeth_identify/img/._IMG_1318.jpg  \n",
            "  inflating: macbeth_identify/img/8D5U5545_orig.jpg  \n",
            "  inflating: __MACOSX/macbeth_identify/img/._8D5U5545_orig.jpg  \n",
            "  inflating: macbeth_identify/img/t-7797r.jpg  \n",
            "  inflating: __MACOSX/macbeth_identify/img/._t-7797r.jpg  \n",
            "  inflating: macbeth_identify/img/.DS_Store  \n",
            "  inflating: __MACOSX/macbeth_identify/img/._.DS_Store  \n",
            "  inflating: macbeth_identify/img/img_0172.jpg  \n",
            "  inflating: __MACOSX/macbeth_identify/img/._img_0172.jpg  \n",
            "  inflating: macbeth_identify/img/IMG_1319.jpg  \n",
            "  inflating: __MACOSX/macbeth_identify/img/._IMG_1319.jpg  \n",
            "  inflating: macbeth_identify/img/IMG_1331.jpg  \n",
            "  inflating: __MACOSX/macbeth_identify/img/._IMG_1331.jpg  \n",
            "  inflating: macbeth_identify/img/IMG_1325.jpg  \n",
            "  inflating: __MACOSX/macbeth_identify/img/._IMG_1325.jpg  \n",
            "  inflating: macbeth_identify/img/8D5U5533_orig.jpg  \n",
            "  inflating: __MACOSX/macbeth_identify/img/._8D5U5533_orig.jpg  \n",
            "  inflating: macbeth_identify/img/IMG_1333.jpg  \n",
            "  inflating: __MACOSX/macbeth_identify/img/._IMG_1333.jpg  \n",
            "  inflating: macbeth_identify/img/IMG_1327.jpg  \n",
            "  inflating: __MACOSX/macbeth_identify/img/._IMG_1327.jpg  \n",
            "  inflating: macbeth_identify/img/8D5U5595_orig.jpg  \n",
            "  inflating: __MACOSX/macbeth_identify/img/._8D5U5595_orig.jpg  \n",
            "  inflating: macbeth_identify/img/IMG_1309 2.jpg  \n",
            "  inflating: __MACOSX/macbeth_identify/img/._IMG_1309 2.jpg  \n",
            "  inflating: macbeth_identify/img/IMG_0341_orig.jpg  \n",
            "  inflating: __MACOSX/macbeth_identify/img/._IMG_0341_orig.jpg  \n",
            "  inflating: macbeth_identify/img/IMG_1326.jpg  \n",
            "  inflating: __MACOSX/macbeth_identify/img/._IMG_1326.jpg  \n",
            "  inflating: macbeth_identify/img/IMG_1332.jpg  \n",
            "  inflating: __MACOSX/macbeth_identify/img/._IMG_1332.jpg  \n",
            "  inflating: macbeth_identify/img/catherine_mary_stewart_00074.jpg  \n",
            "  inflating: __MACOSX/macbeth_identify/img/._catherine_mary_stewart_00074.jpg  \n",
            "  inflating: macbeth_identify/img/IMG_1341.jpg  \n",
            "  inflating: __MACOSX/macbeth_identify/img/._IMG_1341.jpg  \n",
            "  inflating: macbeth_identify/img/deb1.jpg  \n",
            "  inflating: __MACOSX/macbeth_identify/img/._deb1.jpg  \n",
            "  inflating: macbeth_identify/img/robert_benmosche_00011.jpg  \n",
            "  inflating: __MACOSX/macbeth_identify/img/._robert_benmosche_00011.jpg  \n",
            "  inflating: macbeth_identify/img/IMG_1340.jpg  \n",
            "  inflating: __MACOSX/macbeth_identify/img/._IMG_1340.jpg  \n",
            "  inflating: macbeth_identify/img/IMG_1342.jpg  \n",
            "  inflating: __MACOSX/macbeth_identify/img/._IMG_1342.jpg  \n",
            "  inflating: macbeth_identify/img/bts1.jpg  \n",
            "  inflating: __MACOSX/macbeth_identify/img/._bts1.jpg  \n",
            "  inflating: macbeth_identify/img/IMG_1343.jpg  \n",
            "  inflating: __MACOSX/macbeth_identify/img/._IMG_1343.jpg  \n",
            "  inflating: macbeth_identify/img/IMG_0475_orig.jpg  \n",
            "  inflating: __MACOSX/macbeth_identify/img/._IMG_0475_orig.jpg  \n",
            "  inflating: macbeth_identify/img/IMG_1347.jpg  \n",
            "  inflating: __MACOSX/macbeth_identify/img/._IMG_1347.jpg  \n",
            "  inflating: macbeth_identify/img/mcc3-t.jpg  \n",
            "  inflating: __MACOSX/macbeth_identify/img/._mcc3-t.jpg  \n",
            "  inflating: macbeth_identify/img/sg13.jpg  \n",
            "  inflating: __MACOSX/macbeth_identify/img/._sg13.jpg  \n",
            "  inflating: macbeth_identify/img/mg_0006.jpg  \n",
            "  inflating: __MACOSX/macbeth_identify/img/._mg_0006.jpg  \n",
            "  inflating: macbeth_identify/img/IMG_1346.jpg  \n",
            "  inflating: __MACOSX/macbeth_identify/img/._IMG_1346.jpg  \n",
            "  inflating: macbeth_identify/img/brendan_haircut_00001.jpg  \n",
            "  inflating: __MACOSX/macbeth_identify/img/._brendan_haircut_00001.jpg  \n",
            "  inflating: macbeth_identify/img/IMG_1344.jpg  \n",
            "  inflating: __MACOSX/macbeth_identify/img/._IMG_1344.jpg  \n",
            "  inflating: macbeth_identify/img/megan_rapinoe_00023.jpg  \n",
            "  inflating: __MACOSX/macbeth_identify/img/._megan_rapinoe_00023.jpg  \n",
            "  inflating: macbeth_identify/img/sg11.jpg  \n",
            "  inflating: __MACOSX/macbeth_identify/img/._sg11.jpg  \n",
            "  inflating: macbeth_identify/img/IMG_0319_orig.jpg  \n",
            "  inflating: __MACOSX/macbeth_identify/img/._IMG_0319_orig.jpg  \n",
            "  inflating: macbeth_identify/img/IMG_1345.jpg  \n",
            "  inflating: __MACOSX/macbeth_identify/img/._IMG_1345.jpg  \n",
            "  inflating: macbeth_identify/img/bobby_flay_00254.jpg  \n",
            "  inflating: __MACOSX/macbeth_identify/img/._bobby_flay_00254.jpg  \n",
            "  inflating: macbeth_identify/img/IMG_1348.jpg  \n",
            "  inflating: __MACOSX/macbeth_identify/img/._IMG_1348.jpg  \n",
            "  inflating: macbeth_identify/img/mg_0008.jpg  \n",
            "  inflating: __MACOSX/macbeth_identify/img/._mg_0008.jpg  \n",
            "  inflating: macbeth_identify/img/6associates_bluetest.jpg  \n",
            "  inflating: __MACOSX/macbeth_identify/img/._6associates_bluetest.jpg  \n",
            "  inflating: macbeth_identify/img/jeff_kolitch_00097-mos.jpg  \n",
            "  inflating: __MACOSX/macbeth_identify/img/._jeff_kolitch_00097-mos.jpg  \n",
            "  inflating: macbeth_identify/img/IMG_1349.jpg  \n",
            "  inflating: __MACOSX/macbeth_identify/img/._IMG_1349.jpg  \n",
            "  inflating: macbeth_identify/img/rt2012_xboard_00012-mos.jpg  \n",
            "  inflating: __MACOSX/macbeth_identify/img/._rt2012_xboard_00012-mos.jpg  \n",
            "  inflating: macbeth_identify/img/kaztest_mg_0015.jpg  \n",
            "  inflating: __MACOSX/macbeth_identify/img/._kaztest_mg_0015.jpg  \n",
            "  inflating: macbeth_identify/img/girl-with-colorchecker.jpg  \n",
            "  inflating: __MACOSX/macbeth_identify/img/._girl-with-colorchecker.jpg  \n",
            "  inflating: macbeth_identify/img/megan_rapinoe_mg_0100.jpg  \n",
            "  inflating: __MACOSX/macbeth_identify/img/._megan_rapinoe_mg_0100.jpg  \n",
            "  inflating: macbeth_identify/img/2013_rt_cover_brian_rogers_00001-mos.jpg  \n",
            "  inflating: __MACOSX/macbeth_identify/img/._2013_rt_cover_brian_rogers_00001-mos.jpg  \n",
            "  inflating: macbeth_identify/img/sg8.jpg  \n",
            "  inflating: __MACOSX/macbeth_identify/img/._sg8.jpg  \n",
            "  inflating: macbeth_identify/img/IMG_1317.jpg  \n",
            "  inflating: __MACOSX/macbeth_identify/img/._IMG_1317.jpg  \n",
            "  inflating: macbeth_identify/img/catherine_mary_stewart_00331-mos.jpg  \n",
            "  inflating: __MACOSX/macbeth_identify/img/._catherine_mary_stewart_00331-mos.jpg  \n",
            "  inflating: macbeth_identify/img/2_associates_00002.jpg  \n",
            "  inflating: __MACOSX/macbeth_identify/img/._2_associates_00002.jpg  \n",
            "  inflating: macbeth_identify/img/IMG_1316.jpg  \n",
            "  inflating: __MACOSX/macbeth_identify/img/._IMG_1316.jpg  \n",
            "  inflating: macbeth_identify/img/7.jpg  \n",
            "  inflating: __MACOSX/macbeth_identify/img/._7.jpg  \n",
            "  inflating: macbeth_identify/img/IMG_1328.jpg  \n",
            "  inflating: __MACOSX/macbeth_identify/img/._IMG_1328.jpg  \n",
            "  inflating: macbeth_identify/img/megan_rapinoe_mg_0013.jpg  \n",
            "  inflating: __MACOSX/macbeth_identify/img/._megan_rapinoe_mg_0013.jpg  \n",
            "  inflating: macbeth_identify/img/IMG_1314.jpg  \n",
            "  inflating: __MACOSX/macbeth_identify/img/._IMG_1314.jpg  \n",
            "  inflating: macbeth_identify/img/IMG_1315.jpg  \n",
            "  inflating: __MACOSX/macbeth_identify/img/._IMG_1315.jpg  \n",
            "  inflating: macbeth_identify/img/IMG_1329.jpg  \n",
            "  inflating: __MACOSX/macbeth_identify/img/._IMG_1329.jpg  \n",
            "  inflating: macbeth_identify/img/IMG_1311.jpg  \n",
            "  inflating: __MACOSX/macbeth_identify/img/._IMG_1311.jpg  \n",
            "  inflating: macbeth_identify/img/IMG_1339.jpg  \n",
            "  inflating: __MACOSX/macbeth_identify/img/._IMG_1339.jpg  \n",
            "  inflating: macbeth_identify/img/penn_jillette_00106.jpg  \n",
            "  inflating: __MACOSX/macbeth_identify/img/._penn_jillette_00106.jpg  \n",
            "  inflating: macbeth_identify/img/IMG_0750_orig.jpg  \n",
            "  inflating: __MACOSX/macbeth_identify/img/._IMG_0750_orig.jpg  \n",
            "  inflating: macbeth_identify/img/ARMAFC.jpg  \n",
            "  inflating: __MACOSX/macbeth_identify/img/._ARMAFC.jpg  \n",
            "  inflating: macbeth_identify/img/IMG_1338.jpg  \n",
            "  inflating: __MACOSX/macbeth_identify/img/._IMG_1338.jpg  \n",
            "  inflating: macbeth_identify/img/IMG_1310.jpg  \n",
            "  inflating: __MACOSX/macbeth_identify/img/._IMG_1310.jpg  \n",
            "  inflating: macbeth_identify/img/kaztest.jpg  \n",
            "  inflating: __MACOSX/macbeth_identify/img/._kaztest.jpg  \n",
            "  inflating: macbeth_identify/img/IMG_1312.jpg  \n",
            "  inflating: __MACOSX/macbeth_identify/img/._IMG_1312.jpg  \n",
            "  inflating: macbeth_identify/img/bobby_flay_00217.jpg  \n",
            "  inflating: __MACOSX/macbeth_identify/img/._bobby_flay_00217.jpg  \n",
            "  inflating: macbeth_identify/img/8D5U5611_orig.jpg  \n",
            "  inflating: __MACOSX/macbeth_identify/img/._8D5U5611_orig.jpg  \n",
            "  inflating: macbeth_identify/img/IMG_1313.jpg  \n",
            "  inflating: __MACOSX/macbeth_identify/img/._IMG_1313.jpg  \n",
            "  inflating: __MACOSX/macbeth_identify/._img  \n",
            "   creating: macbeth_identify/annotations/\n",
            "  inflating: macbeth_identify/annotations/IMG_1336.xml  \n",
            "   creating: __MACOSX/macbeth_identify/annotations/\n",
            "  inflating: __MACOSX/macbeth_identify/annotations/._IMG_1336.xml  \n",
            "  inflating: macbeth_identify/annotations/IMG_1322.xml  \n",
            "  inflating: __MACOSX/macbeth_identify/annotations/._IMG_1322.xml  \n",
            "  inflating: macbeth_identify/annotations/penn_jillette_00135.xml  \n",
            "  inflating: __MACOSX/macbeth_identify/annotations/._penn_jillette_00135.xml  \n",
            "  inflating: macbeth_identify/annotations/catherine_mary_stewart_00461.xml  \n",
            "  inflating: __MACOSX/macbeth_identify/annotations/._catherine_mary_stewart_00461.xml  \n",
            "  inflating: macbeth_identify/annotations/IMG_1323.xml  \n",
            "  inflating: __MACOSX/macbeth_identify/annotations/._IMG_1323.xml  \n",
            "  inflating: macbeth_identify/annotations/IMG_1337.xml  \n",
            "  inflating: __MACOSX/macbeth_identify/annotations/._IMG_1337.xml  \n",
            "  inflating: macbeth_identify/annotations/IMG_1321.xml  \n",
            "  inflating: __MACOSX/macbeth_identify/annotations/._IMG_1321.xml  \n",
            "  inflating: macbeth_identify/annotations/IMG_1335.xml  \n",
            "  inflating: __MACOSX/macbeth_identify/annotations/._IMG_1335.xml  \n",
            "  inflating: macbeth_identify/annotations/IMG_0481_orig.xml  \n",
            "  inflating: __MACOSX/macbeth_identify/annotations/._IMG_0481_orig.xml  \n",
            "  inflating: macbeth_identify/annotations/p04.xml  \n",
            "  inflating: __MACOSX/macbeth_identify/annotations/._p04.xml  \n",
            "  inflating: macbeth_identify/annotations/bob_amsterdam_00052.xml  \n",
            "  inflating: __MACOSX/macbeth_identify/annotations/._bob_amsterdam_00052.xml  \n",
            "  inflating: macbeth_identify/annotations/IMG_1334.xml  \n",
            "  inflating: __MACOSX/macbeth_identify/annotations/._IMG_1334.xml  \n",
            "  inflating: macbeth_identify/annotations/IMG_1320.xml  \n",
            "  inflating: __MACOSX/macbeth_identify/annotations/._IMG_1320.xml  \n",
            "  inflating: macbeth_identify/annotations/IMG_1318.xml  \n",
            "  inflating: __MACOSX/macbeth_identify/annotations/._IMG_1318.xml  \n",
            "  inflating: macbeth_identify/annotations/IMG_1324.xml  \n",
            "  inflating: __MACOSX/macbeth_identify/annotations/._IMG_1324.xml  \n",
            "  inflating: macbeth_identify/annotations/IMG_1330.xml  \n",
            "  inflating: __MACOSX/macbeth_identify/annotations/._IMG_1330.xml  \n",
            "  inflating: macbeth_identify/annotations/t-7797r.xml  \n",
            "  inflating: __MACOSX/macbeth_identify/annotations/._t-7797r.xml  \n",
            "  inflating: macbeth_identify/annotations/8D5U5545_orig.xml  \n",
            "  inflating: __MACOSX/macbeth_identify/annotations/._8D5U5545_orig.xml  \n",
            "  inflating: macbeth_identify/annotations/.DS_Store  \n",
            "  inflating: __MACOSX/macbeth_identify/annotations/._.DS_Store  \n",
            "  inflating: macbeth_identify/annotations/img_0172.xml  \n",
            "  inflating: __MACOSX/macbeth_identify/annotations/._img_0172.xml  \n",
            "  inflating: macbeth_identify/annotations/8D5U5533_orig.xml  \n",
            "  inflating: __MACOSX/macbeth_identify/annotations/._8D5U5533_orig.xml  \n",
            "  inflating: macbeth_identify/annotations/IMG_1331.xml  \n",
            "  inflating: __MACOSX/macbeth_identify/annotations/._IMG_1331.xml  \n",
            "  inflating: macbeth_identify/annotations/IMG_1325.xml  \n",
            "  inflating: __MACOSX/macbeth_identify/annotations/._IMG_1325.xml  \n",
            "  inflating: macbeth_identify/annotations/IMG_1319.xml  \n",
            "  inflating: __MACOSX/macbeth_identify/annotations/._IMG_1319.xml  \n",
            "  inflating: macbeth_identify/annotations/IMG_1333.xml  \n",
            "  inflating: __MACOSX/macbeth_identify/annotations/._IMG_1333.xml  \n",
            "  inflating: macbeth_identify/annotations/IMG_1327.xml  \n",
            "  inflating: __MACOSX/macbeth_identify/annotations/._IMG_1327.xml  \n",
            "  inflating: macbeth_identify/annotations/8D5U5595_orig.xml  \n",
            "  inflating: __MACOSX/macbeth_identify/annotations/._8D5U5595_orig.xml  \n",
            "  inflating: macbeth_identify/annotations/IMG_0341_orig.xml  \n",
            "  inflating: __MACOSX/macbeth_identify/annotations/._IMG_0341_orig.xml  \n",
            "  inflating: macbeth_identify/annotations/IMG_1309 2.xml  \n",
            "  inflating: __MACOSX/macbeth_identify/annotations/._IMG_1309 2.xml  \n",
            "  inflating: macbeth_identify/annotations/catherine_mary_stewart_00074.xml  \n",
            "  inflating: __MACOSX/macbeth_identify/annotations/._catherine_mary_stewart_00074.xml  \n",
            "  inflating: macbeth_identify/annotations/IMG_1326.xml  \n",
            "  inflating: __MACOSX/macbeth_identify/annotations/._IMG_1326.xml  \n",
            "  inflating: macbeth_identify/annotations/IMG_1332.xml  \n",
            "  inflating: __MACOSX/macbeth_identify/annotations/._IMG_1332.xml  \n",
            "  inflating: macbeth_identify/annotations/IMG_1341.xml  \n",
            "  inflating: __MACOSX/macbeth_identify/annotations/._IMG_1341.xml  \n",
            "  inflating: macbeth_identify/annotations/deb1.xml  \n",
            "  inflating: __MACOSX/macbeth_identify/annotations/._deb1.xml  \n",
            "  inflating: macbeth_identify/annotations/robert_benmosche_00011.xml  \n",
            "  inflating: __MACOSX/macbeth_identify/annotations/._robert_benmosche_00011.xml  \n",
            "  inflating: macbeth_identify/annotations/IMG_1340.xml  \n",
            "  inflating: __MACOSX/macbeth_identify/annotations/._IMG_1340.xml  \n",
            "  inflating: macbeth_identify/annotations/IMG_1342.xml  \n",
            "  inflating: __MACOSX/macbeth_identify/annotations/._IMG_1342.xml  \n",
            "  inflating: macbeth_identify/annotations/bts1.xml  \n",
            "  inflating: __MACOSX/macbeth_identify/annotations/._bts1.xml  \n",
            "  inflating: macbeth_identify/annotations/IMG_0475_orig.xml  \n",
            "  inflating: __MACOSX/macbeth_identify/annotations/._IMG_0475_orig.xml  \n",
            "  inflating: macbeth_identify/annotations/IMG_1343.xml  \n",
            "  inflating: __MACOSX/macbeth_identify/annotations/._IMG_1343.xml  \n",
            "  inflating: macbeth_identify/annotations/IMG_1347.xml  \n",
            "  inflating: __MACOSX/macbeth_identify/annotations/._IMG_1347.xml  \n",
            "  inflating: macbeth_identify/annotations/sg13.xml  \n",
            "  inflating: __MACOSX/macbeth_identify/annotations/._sg13.xml  \n",
            "  inflating: macbeth_identify/annotations/brendan_haircut_00001.xml  \n",
            "  inflating: __MACOSX/macbeth_identify/annotations/._brendan_haircut_00001.xml  \n",
            "  inflating: macbeth_identify/annotations/mg_0006.xml  \n",
            "  inflating: __MACOSX/macbeth_identify/annotations/._mg_0006.xml  \n",
            "  inflating: macbeth_identify/annotations/IMG_1346.xml  \n",
            "  inflating: __MACOSX/macbeth_identify/annotations/._IMG_1346.xml  \n",
            "  inflating: macbeth_identify/annotations/IMG_1344.xml  \n",
            "  inflating: __MACOSX/macbeth_identify/annotations/._IMG_1344.xml  \n",
            "  inflating: macbeth_identify/annotations/megan_rapinoe_00023.xml  \n",
            "  inflating: __MACOSX/macbeth_identify/annotations/._megan_rapinoe_00023.xml  \n",
            "  inflating: macbeth_identify/annotations/sg11.xml  \n",
            "  inflating: __MACOSX/macbeth_identify/annotations/._sg11.xml  \n",
            "  inflating: macbeth_identify/annotations/IMG_0319_orig.xml  \n",
            "  inflating: __MACOSX/macbeth_identify/annotations/._IMG_0319_orig.xml  \n",
            "  inflating: macbeth_identify/annotations/bobby_flay_00254.xml  \n",
            "  inflating: __MACOSX/macbeth_identify/annotations/._bobby_flay_00254.xml  \n",
            "  inflating: macbeth_identify/annotations/IMG_1345.xml  \n",
            "  inflating: __MACOSX/macbeth_identify/annotations/._IMG_1345.xml  \n",
            "  inflating: macbeth_identify/annotations/IMG_1348.xml  \n",
            "  inflating: __MACOSX/macbeth_identify/annotations/._IMG_1348.xml  \n",
            "  inflating: macbeth_identify/annotations/mg_0008.xml  \n",
            "  inflating: __MACOSX/macbeth_identify/annotations/._mg_0008.xml  \n",
            "  inflating: macbeth_identify/annotations/6associates_bluetest.xml  \n",
            "  inflating: __MACOSX/macbeth_identify/annotations/._6associates_bluetest.xml  \n",
            "  inflating: macbeth_identify/annotations/jeff_kolitch_00097-mos.xml  \n",
            "  inflating: __MACOSX/macbeth_identify/annotations/._jeff_kolitch_00097-mos.xml  \n",
            "  inflating: macbeth_identify/annotations/IMG_1349.xml  \n",
            "  inflating: __MACOSX/macbeth_identify/annotations/._IMG_1349.xml  \n",
            "  inflating: macbeth_identify/annotations/rt2012_xboard_00012-mos.xml  \n",
            "  inflating: __MACOSX/macbeth_identify/annotations/._rt2012_xboard_00012-mos.xml  \n",
            "  inflating: macbeth_identify/annotations/kaztest_mg_0015.xml  \n",
            "  inflating: __MACOSX/macbeth_identify/annotations/._kaztest_mg_0015.xml  \n",
            "  inflating: macbeth_identify/annotations/girl-with-colorchecker.xml  \n",
            "  inflating: __MACOSX/macbeth_identify/annotations/._girl-with-colorchecker.xml  \n",
            "  inflating: macbeth_identify/annotations/megan_rapinoe_mg_0100.xml  \n",
            "  inflating: __MACOSX/macbeth_identify/annotations/._megan_rapinoe_mg_0100.xml  \n",
            "  inflating: macbeth_identify/annotations/2013_rt_cover_brian_rogers_00001-mos.xml  \n",
            "  inflating: __MACOSX/macbeth_identify/annotations/._2013_rt_cover_brian_rogers_00001-mos.xml  \n",
            "  inflating: macbeth_identify/annotations/sg8.xml  \n",
            "  inflating: __MACOSX/macbeth_identify/annotations/._sg8.xml  \n",
            "  inflating: macbeth_identify/annotations/IMG_1317.xml  \n",
            "  inflating: __MACOSX/macbeth_identify/annotations/._IMG_1317.xml  \n",
            "  inflating: macbeth_identify/annotations/catherine_mary_stewart_00331-mos.xml  \n",
            "  inflating: __MACOSX/macbeth_identify/annotations/._catherine_mary_stewart_00331-mos.xml  \n",
            "  inflating: macbeth_identify/annotations/2_associates_00002.xml  \n",
            "  inflating: __MACOSX/macbeth_identify/annotations/._2_associates_00002.xml  \n",
            "  inflating: macbeth_identify/annotations/IMG_1316.xml  \n",
            "  inflating: __MACOSX/macbeth_identify/annotations/._IMG_1316.xml  \n",
            "  inflating: macbeth_identify/annotations/IMG_1314.xml  \n",
            "  inflating: __MACOSX/macbeth_identify/annotations/._IMG_1314.xml  \n",
            "  inflating: macbeth_identify/annotations/megan_rapinoe_mg_0013.xml  \n",
            "  inflating: __MACOSX/macbeth_identify/annotations/._megan_rapinoe_mg_0013.xml  \n",
            "  inflating: macbeth_identify/annotations/IMG_1328.xml  \n",
            "  inflating: __MACOSX/macbeth_identify/annotations/._IMG_1328.xml  \n",
            "  inflating: macbeth_identify/annotations/7.xml  \n",
            "  inflating: __MACOSX/macbeth_identify/annotations/._7.xml  \n",
            "  inflating: macbeth_identify/annotations/IMG_1329.xml  \n",
            "  inflating: __MACOSX/macbeth_identify/annotations/._IMG_1329.xml  \n",
            "  inflating: macbeth_identify/annotations/IMG_1315.xml  \n",
            "  inflating: __MACOSX/macbeth_identify/annotations/._IMG_1315.xml  \n",
            "  inflating: macbeth_identify/annotations/IMG_1339.xml  \n",
            "  inflating: __MACOSX/macbeth_identify/annotations/._IMG_1339.xml  \n",
            "  inflating: macbeth_identify/annotations/IMG_1311.xml  \n",
            "  inflating: __MACOSX/macbeth_identify/annotations/._IMG_1311.xml  \n",
            "  inflating: macbeth_identify/annotations/penn_jillette_00106.xml  \n",
            "  inflating: __MACOSX/macbeth_identify/annotations/._penn_jillette_00106.xml  \n",
            "  inflating: macbeth_identify/annotations/IMG_0750_orig.xml  \n",
            "  inflating: __MACOSX/macbeth_identify/annotations/._IMG_0750_orig.xml  \n",
            "  inflating: macbeth_identify/annotations/ARMAFC.xml  \n",
            "  inflating: __MACOSX/macbeth_identify/annotations/._ARMAFC.xml  \n",
            "  inflating: macbeth_identify/annotations/kaztest.xml  \n",
            "  inflating: __MACOSX/macbeth_identify/annotations/._kaztest.xml  \n",
            "  inflating: macbeth_identify/annotations/IMG_1310.xml  \n",
            "  inflating: __MACOSX/macbeth_identify/annotations/._IMG_1310.xml  \n",
            "  inflating: macbeth_identify/annotations/IMG_1338.xml  \n",
            "  inflating: __MACOSX/macbeth_identify/annotations/._IMG_1338.xml  \n",
            "  inflating: macbeth_identify/annotations/IMG_1312.xml  \n",
            "  inflating: __MACOSX/macbeth_identify/annotations/._IMG_1312.xml  \n",
            "  inflating: macbeth_identify/annotations/bobby_flay_00217.xml  \n",
            "  inflating: __MACOSX/macbeth_identify/annotations/._bobby_flay_00217.xml  \n",
            "  inflating: macbeth_identify/annotations/8D5U5611_orig.xml  \n",
            "  inflating: __MACOSX/macbeth_identify/annotations/._8D5U5611_orig.xml  \n",
            "  inflating: macbeth_identify/annotations/IMG_1313.xml  \n",
            "  inflating: __MACOSX/macbeth_identify/annotations/._IMG_1313.xml  \n",
            "  inflating: macbeth_identify/test.txt  \n",
            "  inflating: __MACOSX/macbeth_identify/._test.txt  \n",
            "  inflating: macbeth_identify/val.txt  \n",
            "  inflating: __MACOSX/macbeth_identify/._val.txt  \n",
            "  inflating: __MACOSX/._macbeth_identify  \n"
          ],
          "name": "stdout"
        }
      ]
    },
    {
      "cell_type": "code",
      "metadata": {
        "id": "cDyGVHLqZjaz",
        "colab_type": "code",
        "colab": {
          "base_uri": "https://localhost:8080/",
          "height": 68
        },
        "outputId": "372213e1-11cb-49d2-b33e-c807698697a1"
      },
      "source": [
        "\n",
        "%ls\n",
        "%cd /root/data/mine/machineLearning/macbethIdentify/data/\n",
        "%ls"
      ],
      "execution_count": 106,
      "outputs": [
        {
          "output_type": "stream",
          "text": [
            "img.zip  \u001b[0m\u001b[01;34mmine\u001b[0m/\n",
            "/root/data/mine/machineLearning/macbethIdentify/data\n",
            "\u001b[0m\u001b[01;32mmacbeth_identify.zip\u001b[0m*\n"
          ],
          "name": "stdout"
        }
      ]
    },
    {
      "cell_type": "code",
      "metadata": {
        "id": "em1JpqhC-_UN",
        "colab_type": "code",
        "colab": {
          "base_uri": "https://localhost:8080/",
          "height": 51
        },
        "outputId": "6e279e20-3c68-408b-a8b4-9d2d3c6bf884"
      },
      "source": [
        "%cd ~/data/mine\n",
        "\n",
        "imageFilesBasePath = PATH_TO_TEST_IMAGES_DIR = '/root/data/mine/machineLearning/macbethIdentify/data/macbeth_identify/img'\n",
        "annotationsFilesBasePath = '/root/data/mine/machineLearning/macbethIdentify/data/macbeth_identify/annotations/'\n",
        "labelMapPath = '/root/data/mine/machineLearning/macbethIdentify/data/macbeth_identify/label_map.pbtxt'\n",
        "testPath = '/root/data/mine/machineLearning/macbethIdentify/data/macbeth_identify/test.txt'\n",
        "trainPath = '/root/data/mine/machineLearning/macbethIdentify/data/macbeth_identify/train.txt'\n",
        "valPath = '/root/data/mine/machineLearning/macbethIdentify/data/macbeth_identify/val.txt'\n",
        "\n",
        "\n",
        "\n",
        "%cd /root/data/mine/machineLearning/macbethIdentify/data/macbeth_identify/img"
      ],
      "execution_count": 11,
      "outputs": [
        {
          "output_type": "stream",
          "text": [
            "/root/data/mine\n",
            "/root/data/mine/machineLearning/macbethIdentify/data/macbeth_identify/img\n"
          ],
          "name": "stdout"
        }
      ]
    },
    {
      "cell_type": "code",
      "metadata": {
        "id": "eDWZh00f_mar",
        "colab_type": "code",
        "colab": {}
      },
      "source": [
        "def load_image_into_numpy_array(image):\n",
        "  (im_width, im_height) = image.size\n",
        "  return np.array(image.getdata()).reshape(\n",
        "      (im_height, im_width, 3)).astype(np.uint8)"
      ],
      "execution_count": 0,
      "outputs": []
    },
    {
      "cell_type": "code",
      "metadata": {
        "id": "RkbApV6M_mkp",
        "colab_type": "code",
        "colab": {}
      },
      "source": [
        "#TEST_IMAGE_PATHS = [ os.path.join(PATH_TO_TEST_IMAGES_DIR, 'image{}.jpg'.format(i)) for i in range(1, 8) ]\n",
        "TEST_IMAGE_PATHS = [ os.path.join(imageFilesBasePath, x) for x in os.listdir(imageFilesBasePath) ]\n",
        "print(TEST_IMAGE_PATHS)\n",
        "\n",
        "for img in TEST_IMAGE_PATHS:\n",
        "  assert os.path.isfile(img)\n",
        "  print(img)\n"
      ],
      "execution_count": 0,
      "outputs": []
    },
    {
      "cell_type": "code",
      "metadata": {
        "id": "-9I4wt0GBwGx",
        "colab_type": "code",
        "colab": {}
      },
      "source": [
        "def run_inference_for_single_image(image, graph):\n",
        "  with graph.as_default():\n",
        "    with tf.Session() as sess:\n",
        "      # Get handles to input and output tensors\n",
        "      ops = tf.get_default_graph().get_operations()\n",
        "      all_tensor_names = {output.name for op in ops for output in op.outputs}\n",
        "      tensor_dict = {}\n",
        "      for key in [\n",
        "          'num_detections', 'detection_boxes', 'detection_scores',\n",
        "          'detection_classes', 'detection_masks'\n",
        "      ]:\n",
        "        tensor_name = key + ':0'\n",
        "        if tensor_name in all_tensor_names:\n",
        "          tensor_dict[key] = tf.get_default_graph().get_tensor_by_name(\n",
        "              tensor_name)\n",
        "      if 'detection_masks' in tensor_dict:\n",
        "        # The following processing is only for single image\n",
        "        detection_boxes = tf.squeeze(tensor_dict['detection_boxes'], [0])\n",
        "        detection_masks = tf.squeeze(tensor_dict['detection_masks'], [0])\n",
        "        # Reframe is required to translate mask from box coordinates to image coordinates and fit the image size.\n",
        "        real_num_detection = tf.cast(tensor_dict['num_detections'][0], tf.int32)\n",
        "        detection_boxes = tf.slice(detection_boxes, [0, 0], [real_num_detection, -1])\n",
        "        detection_masks = tf.slice(detection_masks, [0, 0, 0], [real_num_detection, -1, -1])\n",
        "        detection_masks_reframed = utils_ops.reframe_box_masks_to_image_masks(\n",
        "            detection_masks, detection_boxes, image.shape[1], image.shape[2])\n",
        "        detection_masks_reframed = tf.cast(\n",
        "            tf.greater(detection_masks_reframed, 0.5), tf.uint8)\n",
        "        # Follow the convention by adding back the batch dimension\n",
        "        tensor_dict['detection_masks'] = tf.expand_dims(\n",
        "            detection_masks_reframed, 0)\n",
        "      image_tensor = tf.get_default_graph().get_tensor_by_name('image_tensor:0')\n",
        "\n",
        "      # Run inference\n",
        "      output_dict = sess.run(tensor_dict,\n",
        "                             feed_dict={image_tensor: image})\n",
        "\n",
        "      # all outputs are float32 numpy arrays, so convert types as appropriate\n",
        "      output_dict['num_detections'] = int(output_dict['num_detections'][0])\n",
        "      output_dict['detection_classes'] = output_dict[\n",
        "          'detection_classes'][0].astype(np.int64)\n",
        "      output_dict['detection_boxes'] = output_dict['detection_boxes'][0]\n",
        "      output_dict['detection_scores'] = output_dict['detection_scores'][0]\n",
        "      if 'detection_masks' in output_dict:\n",
        "        output_dict['detection_masks'] = output_dict['detection_masks'][0]\n",
        "        \n",
        "      #print(output_dict)\n",
        "        \n",
        "  return output_dict"
      ],
      "execution_count": 0,
      "outputs": []
    },
    {
      "cell_type": "code",
      "metadata": {
        "id": "wigcAmMgLUDV",
        "colab_type": "code",
        "colab": {}
      },
      "source": [
        "from PIL import Image\n",
        "\n",
        "def resize_image(image_path=None):\n",
        "  #imageDest = Image.new(\"RGB\", (640, 480))\n",
        "  resizeImagePath = image_path.replace(\"/img/\", \"/img_coco/\")\n",
        "  if not os.path.isdir(os.path.dirname(resizeImagePath)):\n",
        "    os.mkdir(os.path.dirname(resizeImagePath))\n",
        "  \n",
        "  imageSrc = Image.open(image_path)\n",
        "  imageDest = imageSrc.resize((640, 480), Image.LANCZOS)\n",
        "  \n",
        "  return imageDest\n",
        "    \n"
      ],
      "execution_count": 0,
      "outputs": []
    },
    {
      "cell_type": "code",
      "metadata": {
        "id": "NKNyJVNKs_Fb",
        "colab_type": "code",
        "colab": {}
      },
      "source": [
        "def write_image():\n",
        "  #"
      ],
      "execution_count": 0,
      "outputs": []
    },
    {
      "cell_type": "code",
      "metadata": {
        "id": "r7tZjuNYB1Vp",
        "colab_type": "code",
        "colab": {
          "base_uri": "https://localhost:8080/",
          "height": 187
        },
        "outputId": "3dc8c6ae-c119-4a17-f9dc-87531bd7d1cf"
      },
      "source": [
        "IMAGE_SIZE = (12, 8)\n",
        "from google.colab import files\n",
        "import imageio\n",
        "import numpy\n",
        "\n",
        "for image_path in TEST_IMAGE_PATHS[:5]:\n",
        "  if not image_path.endswith(\".jpg\"):\n",
        "    continue\n",
        "  saveImage = image_path.replace(\"/img/\", \"/img_labels/\")\n",
        "\n",
        "  #print(image_path)\n",
        "  #image = Image.open(image_path)\n",
        "  image = resize_image(image_path)\n",
        "  imageArray = numpy.array(image)\n",
        "  #print(\"Image Dimensions: {} {}\".format(image.width, image.height))\n",
        "  print(image_path)\n",
        "  #print(detection_graph)\n",
        "  \n",
        "  #imageio.imwrite(saveImage, imageArray)\n",
        "  #files.download(saveImage)\n",
        "  \n",
        "\n",
        "  # the array based representation of the image will be used later in order to prepare the\n",
        "  # result image with boxes and labels on it.\n",
        "  image_np = load_image_into_numpy_array(image)\n",
        "  # Expand dimensions since the model expects images to have shape: [1, None, None, 3]\n",
        "  image_np_expanded = np.expand_dims(image_np, axis=0)\n",
        "\n",
        "  \n",
        "  \n",
        "  #saveImage2 = saveImage.replace(\".jpg\", \"__2.jpg\")\n",
        "  #print(saveImage2)\n",
        "  \n",
        "  #print(image_np_expanded.shape)\n",
        "  #print(image_np_expanded[0])\n",
        "  img = Image.fromarray(image_np_expanded[0], 'RGB')\n",
        "  #im = Image.fromarray(np.uint8(image_np_expanded))\n",
        "  #img.save(saveImage2)  \n",
        "  #files.download(saveImage2)\n",
        "  \n",
        "  # Actual detection.\n",
        "  output_dict = run_inference_for_single_image(image_np_expanded, detection_graph)\n",
        "  #print(output_dict)\n",
        "  if output_dict is None:\n",
        "    continue\n",
        "  # Visualization of the results of a detection.\n",
        "  vis_util.visualize_boxes_and_labels_on_image_array(\n",
        "      image_np,\n",
        "      output_dict['detection_boxes'],\n",
        "      output_dict['detection_classes'],\n",
        "      output_dict['detection_scores'],\n",
        "      category_index,\n",
        "      instance_masks=output_dict.get('detection_masks'),\n",
        "      use_normalized_coordinates=True,\n",
        "      line_thickness=8)\n",
        "  \n",
        "  #plt.figure(figsize=IMAGE_SIZE)\n",
        "  #plt.imshow(image_np_expanded)\n",
        "  \n",
        "\n",
        "  if not os.path.isdir(os.path.dirname(saveImage)):\n",
        "    os.mkdir(os.path.dirname(saveImage))\n",
        "    \n",
        "  saveImage3 = saveImage.replace(\".jpg\", \"__3.jpg\")\n",
        "  \n",
        "  img = Image.fromarray(image_np_expanded[0], 'RGB')\n",
        "  img.save(saveImage3)  \n",
        "  print(saveImage3)\n",
        "  #files.download(saveImage3)\n",
        "  \n",
        "  #imageio.imwrite(saveImage, image_np_expanded[:, :, 3])\n",
        "\n",
        "  #img = Image.fromarray(image_np_expanded, 'RGB')\n",
        "  #img.save(saveImage)\n",
        "  #files.download(saveImage)\n",
        "  \n",
        "  "
      ],
      "execution_count": 109,
      "outputs": [
        {
          "output_type": "stream",
          "text": [
            "/root/data/mine/machineLearning/macbethIdentify/data/macbeth_identify/img/sg11.jpg\n",
            "/root/data/mine/machineLearning/macbethIdentify/data/macbeth_identify/img_labels/sg11__3.jpg\n",
            "/root/data/mine/machineLearning/macbethIdentify/data/macbeth_identify/img/IMG_1330.jpg\n",
            "/root/data/mine/machineLearning/macbethIdentify/data/macbeth_identify/img_labels/IMG_1330__3.jpg\n",
            "/root/data/mine/machineLearning/macbethIdentify/data/macbeth_identify/img/IMG_1319.jpg\n",
            "/root/data/mine/machineLearning/macbethIdentify/data/macbeth_identify/img_labels/IMG_1319__3.jpg\n",
            "/root/data/mine/machineLearning/macbethIdentify/data/macbeth_identify/img/catherine_mary_stewart_00331-mos.jpg\n",
            "/root/data/mine/machineLearning/macbethIdentify/data/macbeth_identify/img_labels/catherine_mary_stewart_00331-mos__3.jpg\n",
            "/root/data/mine/machineLearning/macbethIdentify/data/macbeth_identify/img/IMG_1347.jpg\n",
            "/root/data/mine/machineLearning/macbethIdentify/data/macbeth_identify/img_labels/IMG_1347__3.jpg\n"
          ],
          "name": "stdout"
        }
      ]
    },
    {
      "cell_type": "code",
      "metadata": {
        "id": "XXSq4Z2nYkrV",
        "colab_type": "code",
        "colab": {
          "base_uri": "https://localhost:8080/",
          "height": 85
        },
        "outputId": "e82b2cfe-45c3-4296-fb3a-17e65fabdad7"
      },
      "source": [
        "%cd /root/data/img.zip /root/data/mine/machineLearning/macbethIdentify/data/macbeth_identify/img_labels/\n",
        "%ls -l\n",
        "%pwd"
      ],
      "execution_count": 83,
      "outputs": [
        {
          "output_type": "stream",
          "text": [
            "[Errno 2] No such file or directory: '/root/data/img.zip /root/data/mine/machineLearning/macbethIdentify/data/macbeth_identify/img_labels/'\n",
            "/root/data/mine/machineLearning/macbethIdentify/data/macbeth_identify/img\n",
            "total 0\n"
          ],
          "name": "stdout"
        },
        {
          "output_type": "execute_result",
          "data": {
            "text/plain": [
              "'/root/data/mine/machineLearning/macbethIdentify/data/macbeth_identify/img'"
            ]
          },
          "metadata": {
            "tags": []
          },
          "execution_count": 83
        }
      ]
    },
    {
      "cell_type": "code",
      "metadata": {
        "id": "qoVD9EmLHh6J",
        "colab_type": "code",
        "colab": {
          "base_uri": "https://localhost:8080/",
          "height": 119
        },
        "outputId": "a0c97997-023f-4217-fd0c-7709ed973a31"
      },
      "source": [
        "!rm -rf /root/data/img.zip\n",
        "!zip -r /root/data/img.zip /root/data/mine/machineLearning/macbethIdentify/data/macbeth_identify/img_labels/\n",
        "\n"
      ],
      "execution_count": 113,
      "outputs": [
        {
          "output_type": "stream",
          "text": [
            "  adding: root/data/mine/machineLearning/macbethIdentify/data/macbeth_identify/img_labels/ (stored 0%)\n",
            "  adding: root/data/mine/machineLearning/macbethIdentify/data/macbeth_identify/img_labels/IMG_1330__3.jpg (deflated 2%)\n",
            "  adding: root/data/mine/machineLearning/macbethIdentify/data/macbeth_identify/img_labels/catherine_mary_stewart_00331-mos__3.jpg (deflated 4%)\n",
            "  adding: root/data/mine/machineLearning/macbethIdentify/data/macbeth_identify/img_labels/IMG_1319__3.jpg (deflated 1%)\n",
            "  adding: root/data/mine/machineLearning/macbethIdentify/data/macbeth_identify/img_labels/sg11__3.jpg (deflated 3%)\n",
            "  adding: root/data/mine/machineLearning/macbethIdentify/data/macbeth_identify/img_labels/IMG_1347__3.jpg (deflated 1%)\n"
          ],
          "name": "stdout"
        }
      ]
    },
    {
      "cell_type": "code",
      "metadata": {
        "id": "s8AP6jk5VoPi",
        "colab_type": "code",
        "colab": {}
      },
      "source": [
        "files.download(\"/root/data/img.zip\")"
      ],
      "execution_count": 0,
      "outputs": []
    },
    {
      "cell_type": "code",
      "metadata": {
        "id": "A4M3DtCkWXWO",
        "colab_type": "code",
        "colab": {
          "base_uri": "https://localhost:8080/",
          "height": 68
        },
        "outputId": "426dfed7-5388-4a2f-cc83-644a0e8195ab"
      },
      "source": [
        "ls -lh /root/data/"
      ],
      "execution_count": 114,
      "outputs": [
        {
          "output_type": "stream",
          "text": [
            "total 212K\n",
            "-rw-r--r-- 1 root root 207K May 23 11:31 img.zip\n",
            "drwxr-xr-x 4 root root 4.0K May 23 11:26 \u001b[0m\u001b[01;34mmine\u001b[0m/\n"
          ],
          "name": "stdout"
        }
      ]
    }
  ]
}