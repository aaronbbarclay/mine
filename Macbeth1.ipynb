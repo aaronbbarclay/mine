{
  "nbformat": 4,
  "nbformat_minor": 0,
  "metadata": {
    "colab": {
      "name": "Macbeth1.ipynb",
      "version": "0.3.2",
      "provenance": [],
      "include_colab_link": true
    },
    "kernelspec": {
      "name": "python2",
      "display_name": "Python 2"
    },
    "accelerator": "GPU"
  },
  "cells": [
    {
      "cell_type": "markdown",
      "metadata": {
        "id": "view-in-github",
        "colab_type": "text"
      },
      "source": [
        "<a href=\"https://colab.research.google.com/github/aaronbbarclay/mine/blob/master/Macbeth1.ipynb\" target=\"_parent\"><img src=\"https://colab.research.google.com/assets/colab-badge.svg\" alt=\"Open In Colab\"/></a>"
      ]
    },
    {
      "cell_type": "code",
      "metadata": {
        "id": "2EMcC41nfjCd",
        "colab_type": "code",
        "outputId": "a4eebe71-fcc5-4c62-e237-dd488838660b",
        "colab": {
          "base_uri": "https://localhost:8080/",
          "height": 207
        }
      },
      "source": [
        "!pip show tensorflow"
      ],
      "execution_count": 1,
      "outputs": [
        {
          "output_type": "stream",
          "text": [
            "Name: tensorflow\n",
            "Version: 1.13.1\n",
            "Summary: TensorFlow is an open source machine learning framework for everyone.\n",
            "Home-page: https://www.tensorflow.org/\n",
            "Author: Google Inc.\n",
            "Author-email: opensource@google.com\n",
            "License: Apache 2.0\n",
            "Location: /usr/local/lib/python2.7/dist-packages\n",
            "Requires: tensorflow-estimator, grpcio, mock, keras-applications, enum34, protobuf, keras-preprocessing, gast, tensorboard, wheel, absl-py, backports.weakref, six, numpy, termcolor, astor\n",
            "Required-by: magenta, fancyimpute\n"
          ],
          "name": "stdout"
        }
      ]
    },
    {
      "cell_type": "code",
      "metadata": {
        "id": "_dR8HxrO_oI7",
        "colab_type": "code",
        "outputId": "e889cf1a-cb0b-44c4-a627-b896a4732a81",
        "colab": {
          "base_uri": "https://localhost:8080/",
          "height": 1190
        }
      },
      "source": [
        "%cd\n",
        "!git clone --quiet https://github.com/tensorflow/models.git\n",
        "!apt-get install protobuf-compiler python-pil python-lxml python-tk\n",
        "!pip install -q Cython contextlib2 pillow lxml matplotlib PyDrive"
      ],
      "execution_count": 2,
      "outputs": [
        {
          "output_type": "stream",
          "text": [
            "/root\n",
            "Reading package lists... Done\n",
            "Building dependency tree       \n",
            "Reading state information... Done\n",
            "python-tk is already the newest version (2.7.15~rc1-1).\n",
            "protobuf-compiler is already the newest version (3.0.0-9.1ubuntu1).\n",
            "The following package was automatically installed and is no longer required:\n",
            "  libnvidia-common-410\n",
            "Use 'apt autoremove' to remove it.\n",
            "The following additional packages will be installed:\n",
            "  python-bs4 python-chardet python-html5lib python-olefile\n",
            "  python-pkg-resources python-six python-webencodings\n",
            "Suggested packages:\n",
            "  python-genshi python-lxml-dbg python-lxml-doc python-pil-doc python-pil-dbg\n",
            "  python-setuptools\n",
            "The following NEW packages will be installed:\n",
            "  python-bs4 python-chardet python-html5lib python-lxml python-olefile\n",
            "  python-pil python-pkg-resources python-six python-webencodings\n",
            "0 upgraded, 9 newly installed, 0 to remove and 7 not upgraded.\n",
            "Need to get 1,818 kB of archives.\n",
            "After this operation, 7,688 kB of additional disk space will be used.\n",
            "Get:1 http://archive.ubuntu.com/ubuntu bionic/main amd64 python-bs4 all 4.6.0-1 [67.9 kB]\n",
            "Get:2 http://archive.ubuntu.com/ubuntu bionic/main amd64 python-pkg-resources all 39.0.1-2 [128 kB]\n",
            "Get:3 http://archive.ubuntu.com/ubuntu bionic/main amd64 python-chardet all 3.0.4-1 [80.3 kB]\n",
            "Get:4 http://archive.ubuntu.com/ubuntu bionic/main amd64 python-six all 1.11.0-2 [11.3 kB]\n",
            "Get:5 http://archive.ubuntu.com/ubuntu bionic/main amd64 python-webencodings all 0.5-2 [10.3 kB]\n",
            "Get:6 http://archive.ubuntu.com/ubuntu bionic/main amd64 python-html5lib all 0.999999999-1 [83.6 kB]\n",
            "Get:7 http://archive.ubuntu.com/ubuntu bionic-updates/main amd64 python-lxml amd64 4.2.1-1ubuntu0.1 [1,075 kB]\n",
            "Get:8 http://archive.ubuntu.com/ubuntu bionic/main amd64 python-olefile all 0.45.1-1 [33.2 kB]\n",
            "Get:9 http://archive.ubuntu.com/ubuntu bionic/main amd64 python-pil amd64 5.1.0-1 [328 kB]\n",
            "Fetched 1,818 kB in 0s (13.7 MB/s)\n",
            "Selecting previously unselected package python-bs4.\n",
            "(Reading database ... 130824 files and directories currently installed.)\n",
            "Preparing to unpack .../0-python-bs4_4.6.0-1_all.deb ...\n",
            "Unpacking python-bs4 (4.6.0-1) ...\n",
            "Selecting previously unselected package python-pkg-resources.\n",
            "Preparing to unpack .../1-python-pkg-resources_39.0.1-2_all.deb ...\n",
            "Unpacking python-pkg-resources (39.0.1-2) ...\n",
            "Selecting previously unselected package python-chardet.\n",
            "Preparing to unpack .../2-python-chardet_3.0.4-1_all.deb ...\n",
            "Unpacking python-chardet (3.0.4-1) ...\n",
            "Selecting previously unselected package python-six.\n",
            "Preparing to unpack .../3-python-six_1.11.0-2_all.deb ...\n",
            "Unpacking python-six (1.11.0-2) ...\n",
            "Selecting previously unselected package python-webencodings.\n",
            "Preparing to unpack .../4-python-webencodings_0.5-2_all.deb ...\n",
            "Unpacking python-webencodings (0.5-2) ...\n",
            "Selecting previously unselected package python-html5lib.\n",
            "Preparing to unpack .../5-python-html5lib_0.999999999-1_all.deb ...\n",
            "Unpacking python-html5lib (0.999999999-1) ...\n",
            "Selecting previously unselected package python-lxml:amd64.\n",
            "Preparing to unpack .../6-python-lxml_4.2.1-1ubuntu0.1_amd64.deb ...\n",
            "Unpacking python-lxml:amd64 (4.2.1-1ubuntu0.1) ...\n",
            "Selecting previously unselected package python-olefile.\n",
            "Preparing to unpack .../7-python-olefile_0.45.1-1_all.deb ...\n",
            "Unpacking python-olefile (0.45.1-1) ...\n",
            "Selecting previously unselected package python-pil:amd64.\n",
            "Preparing to unpack .../8-python-pil_5.1.0-1_amd64.deb ...\n",
            "Unpacking python-pil:amd64 (5.1.0-1) ...\n",
            "Setting up python-pkg-resources (39.0.1-2) ...\n",
            "Setting up python-six (1.11.0-2) ...\n",
            "Setting up python-bs4 (4.6.0-1) ...\n",
            "Setting up python-lxml:amd64 (4.2.1-1ubuntu0.1) ...\n",
            "Setting up python-olefile (0.45.1-1) ...\n",
            "Processing triggers for man-db (2.8.3-2ubuntu0.1) ...\n",
            "Setting up python-pil:amd64 (5.1.0-1) ...\n",
            "Setting up python-webencodings (0.5-2) ...\n",
            "Setting up python-chardet (3.0.4-1) ...\n",
            "Setting up python-html5lib (0.999999999-1) ...\n"
          ],
          "name": "stdout"
        }
      ]
    },
    {
      "cell_type": "code",
      "metadata": {
        "id": "KSlGKXeL_pzS",
        "colab_type": "code",
        "cellView": "code",
        "colab": {}
      },
      "source": [
        "# Install pycotools\n",
        "!pip install -q pycocotools"
      ],
      "execution_count": 0,
      "outputs": []
    },
    {
      "cell_type": "code",
      "metadata": {
        "id": "CRULdCfrA39Y",
        "colab_type": "code",
        "outputId": "95dd0da9-c11c-4b5d-dc66-1eda9caa8837",
        "colab": {
          "base_uri": "https://localhost:8080/",
          "height": 34
        }
      },
      "source": [
        "# Compile protocol buffers\n",
        "%cd ~/models/research\n",
        "!protoc object_detection/protos/*.proto --python_out=."
      ],
      "execution_count": 4,
      "outputs": [
        {
          "output_type": "stream",
          "text": [
            "/root/models/research\n"
          ],
          "name": "stdout"
        }
      ]
    },
    {
      "cell_type": "code",
      "metadata": {
        "id": "fg9RcuyfA_FN",
        "colab_type": "code",
        "colab": {}
      },
      "source": [
        "# Configure env variables\n",
        "import os\n",
        "os.environ['PYTHONPATH'] += ':/root/models/research/:/root/models/research/slim/'"
      ],
      "execution_count": 0,
      "outputs": []
    },
    {
      "cell_type": "code",
      "metadata": {
        "id": "ljXKeqEZCuRL",
        "colab_type": "code",
        "outputId": "3c5e20ef-4a37-4a84-e8fd-0fc55b9527f4",
        "colab": {
          "base_uri": "https://localhost:8080/",
          "height": 54
        }
      },
      "source": [
        "# Check environment variables\n",
        "print(os.environ['PYTHONPATH'])"
      ],
      "execution_count": 7,
      "outputs": [
        {
          "output_type": "stream",
          "text": [
            "/env/python:/root/models/research/:/root/models/research/slim/:/root/models/research/:/root/models/research/slim/\n"
          ],
          "name": "stdout"
        }
      ]
    },
    {
      "cell_type": "code",
      "metadata": {
        "id": "7j7jfuTXB4MR",
        "colab_type": "code",
        "outputId": "fcb28e4f-279d-49b2-8674-cc0860b7ae6b",
        "colab": {
          "base_uri": "https://localhost:8080/",
          "height": 221
        }
      },
      "source": [
        "# Run tests\n",
        "!python ~/models/research/object_detection/builders/model_builder_test.py"
      ],
      "execution_count": 8,
      "outputs": [
        {
          "output_type": "stream",
          "text": [
            "\n",
            "WARNING: The TensorFlow contrib module will not be included in TensorFlow 2.0.\n",
            "For more information, please see:\n",
            "  * https://github.com/tensorflow/community/blob/master/rfcs/20180907-contrib-sunset.md\n",
            "  * https://github.com/tensorflow/addons\n",
            "If you depend on functionality not listed there, please file an issue.\n",
            "\n",
            "............s...\n",
            "----------------------------------------------------------------------\n",
            "Ran 16 tests in 0.070s\n",
            "\n",
            "OK (skipped=1)\n"
          ],
          "name": "stdout"
        }
      ]
    },
    {
      "cell_type": "code",
      "metadata": {
        "id": "6B9OjMib2K0_",
        "colab_type": "code",
        "outputId": "df5c801d-0268-4f80-c8c7-2d4210eeb300",
        "colab": {
          "base_uri": "https://localhost:8080/",
          "height": 68
        }
      },
      "source": [
        "# Get this repo - needed to creat TFRecords\n",
        "%cd /root/data\n",
        "!git clone https://github.com/ryouchinsa/Rectlabel-support"
      ],
      "execution_count": 0,
      "outputs": [
        {
          "output_type": "stream",
          "text": [
            "[Errno 2] No such file or directory: '/root/data'\n",
            "/root/models/research\n",
            "fatal: destination path 'Rectlabel-support' already exists and is not an empty directory.\n"
          ],
          "name": "stdout"
        }
      ]
    },
    {
      "cell_type": "code",
      "metadata": {
        "id": "b5wtIsvpCd0K",
        "colab_type": "code",
        "colab": {}
      },
      "source": [
        "# Create directories, get my repo for the images\n",
        "%mkdir ~/data\n",
        "%cd ~/data\n",
        "\n",
        "!git clone https://github.com/aaronbbarclay/mine\n",
        "%cd mine/machineLearning/macbethIdentify/data/\n",
        "%ls\n",
        "!unzip macbeth_identify.zip"
      ],
      "execution_count": 0,
      "outputs": []
    },
    {
      "cell_type": "code",
      "metadata": {
        "id": "vB5fbc3_piye",
        "colab_type": "code",
        "colab": {
          "base_uri": "https://localhost:8080/",
          "height": 51
        },
        "outputId": "b8f96add-fe07-474d-a1ff-ce2cbcfae61d"
      },
      "source": [
        "# Setup some stuff\n",
        "%cd ~/data/mine/machineLearning/macbethIdentify/data/macbeth_identify/\n",
        "%pwd\n",
        "%ls\n",
        "imageFilesBasePath = '/root/data/mine/machineLearning/macbethIdentify/data/macbeth_identify/img'\n",
        "annotationsFilesBasePath = '/root/data/mine/machineLearning/macbethIdentify/data/macbeth_identify/annotations/'\n",
        "labelMapPath = '/root/data/mine/machineLearning/macbethIdentify/data/macbeth_identify/label_map.pbtxt'\n",
        "testPath = '/root/data/mine/machineLearning/macbethIdentify/data/macbeth_identify/test.txt'\n",
        "trainPath = '/root/data/mine/machineLearning/macbethIdentify/data/macbeth_identify/train.txt'\n",
        "valPath = '/root/data/mine/machineLearning/macbethIdentify/data/macbeth_identify/val.txt'\n"
      ],
      "execution_count": 10,
      "outputs": [
        {
          "output_type": "stream",
          "text": [
            "/root/data/mine/machineLearning/macbethIdentify/data/macbeth_identify\n",
            "\u001b[0m\u001b[01;34mannotations\u001b[0m/  \u001b[01;34mimg\u001b[0m/  \u001b[01;32mlabel_map.pbtxt\u001b[0m*  \u001b[01;32mtest.txt\u001b[0m*  \u001b[01;32mtrain.txt\u001b[0m*  \u001b[01;32mval.txt\u001b[0m*\n"
          ],
          "name": "stdout"
        }
      ]
    },
    {
      "cell_type": "code",
      "metadata": {
        "id": "o0nGSPh5E8mI",
        "colab_type": "code",
        "outputId": "adc8db04-7a87-4bd9-fe38-f6247a408e79",
        "colab": {
          "base_uri": "https://localhost:8080/",
          "height": 68
        }
      },
      "source": [
        "# Update and pull repo if required\n",
        "%cd ~/data/mine/\n",
        "%ls\n",
        "!git pull\n"
      ],
      "execution_count": 11,
      "outputs": [
        {
          "output_type": "stream",
          "text": [
            "/root/data/mine\n",
            "Macbeth1.ipynb  \u001b[0m\u001b[01;34mmachineLearning\u001b[0m/  README.md\n",
            "Already up to date.\n"
          ],
          "name": "stdout"
        }
      ]
    },
    {
      "cell_type": "code",
      "metadata": {
        "id": "vgYVQnLAw-fR",
        "colab_type": "code",
        "colab": {
          "base_uri": "https://localhost:8080/",
          "height": 1462
        },
        "outputId": "307c2737-f24c-4819-c93d-9c492781eaa2"
      },
      "source": [
        "%cd /root/data/\n",
        "%mkdir trimaps\n",
        "\n",
        "from PIL import Image\n",
        "image = Image.new(\"RGB\", (640, 480))\n",
        "\n",
        "for filename in os.listdir(annotationsFilesBasePath):\n",
        "  filenameTokens = filename.split(\".\")\n",
        "  newFileName = \"trimaps/\" + filename + '.png'\n",
        "  print('Saving: {0}'.format(newFileName))\n",
        "  image.save(newFileName)"
      ],
      "execution_count": 12,
      "outputs": [
        {
          "output_type": "stream",
          "text": [
            "/root/data\n",
            "Saving: trimaps/6associates_bluetest.xml.png\n",
            "Saving: trimaps/IMG_1324.xml.png\n",
            "Saving: trimaps/IMG_1339.xml.png\n",
            "Saving: trimaps/jeff_kolitch_00097-mos.xml.png\n",
            "Saving: trimaps/.DS_Store.png\n",
            "Saving: trimaps/IMG_1315.xml.png\n",
            "Saving: trimaps/IMG_1332.xml.png\n",
            "Saving: trimaps/8D5U5611_orig.xml.png\n",
            "Saving: trimaps/IMG_1331.xml.png\n",
            "Saving: trimaps/IMG_1330.xml.png\n",
            "Saving: trimaps/7.xml.png\n",
            "Saving: trimaps/kaztest_mg_0015.xml.png\n",
            "Saving: trimaps/girl-with-colorchecker.xml.png\n",
            "Saving: trimaps/IMG_1349.xml.png\n",
            "Saving: trimaps/8D5U5595_orig.xml.png\n",
            "Saving: trimaps/2_associates_00002.xml.png\n",
            "Saving: trimaps/IMG_1328.xml.png\n",
            "Saving: trimaps/p04.xml.png\n",
            "Saving: trimaps/IMG_1317.xml.png\n",
            "Saving: trimaps/IMG_1333.xml.png\n",
            "Saving: trimaps/IMG_0341_orig.xml.png\n",
            "Saving: trimaps/IMG_1336.xml.png\n",
            "Saving: trimaps/catherine_mary_stewart_00074.xml.png\n",
            "Saving: trimaps/IMG_1346.xml.png\n",
            "Saving: trimaps/catherine_mary_stewart_00331-mos.xml.png\n",
            "Saving: trimaps/megan_rapinoe_mg_0100.xml.png\n",
            "Saving: trimaps/IMG_1322.xml.png\n",
            "Saving: trimaps/IMG_1320.xml.png\n",
            "Saving: trimaps/mg_0006.xml.png\n",
            "Saving: trimaps/IMG_1327.xml.png\n",
            "Saving: trimaps/IMG_1309 2.xml.png\n",
            "Saving: trimaps/IMG_1313.xml.png\n",
            "Saving: trimaps/IMG_0475_orig.xml.png\n",
            "Saving: trimaps/IMG_1334.xml.png\n",
            "Saving: trimaps/bob_amsterdam_00052.xml.png\n",
            "Saving: trimaps/8D5U5533_orig.xml.png\n",
            "Saving: trimaps/IMG_1344.xml.png\n",
            "Saving: trimaps/bobby_flay_00254.xml.png\n",
            "Saving: trimaps/mg_0008.xml.png\n",
            "Saving: trimaps/bobby_flay_00217.xml.png\n",
            "Saving: trimaps/ARMAFC.xml.png\n",
            "Saving: trimaps/8D5U5545_orig.xml.png\n",
            "Saving: trimaps/IMG_1325.xml.png\n",
            "Saving: trimaps/IMG_1338.xml.png\n",
            "Saving: trimaps/IMG_1340.xml.png\n",
            "Saving: trimaps/IMG_1342.xml.png\n",
            "Saving: trimaps/IMG_1312.xml.png\n",
            "Saving: trimaps/IMG_1347.xml.png\n",
            "Saving: trimaps/IMG_1343.xml.png\n",
            "Saving: trimaps/IMG_1311.xml.png\n",
            "Saving: trimaps/IMG_1318.xml.png\n",
            "Saving: trimaps/megan_rapinoe_00023.xml.png\n",
            "Saving: trimaps/IMG_0481_orig.xml.png\n",
            "Saving: trimaps/penn_jillette_00135.xml.png\n",
            "Saving: trimaps/IMG_1335.xml.png\n",
            "Saving: trimaps/IMG_1348.xml.png\n",
            "Saving: trimaps/img_0172.xml.png\n",
            "Saving: trimaps/megan_rapinoe_mg_0013.xml.png\n",
            "Saving: trimaps/IMG_1341.xml.png\n",
            "Saving: trimaps/sg8.xml.png\n",
            "Saving: trimaps/IMG_1314.xml.png\n",
            "Saving: trimaps/t-7797r.xml.png\n",
            "Saving: trimaps/catherine_mary_stewart_00461.xml.png\n",
            "Saving: trimaps/kaztest.xml.png\n",
            "Saving: trimaps/IMG_1316.xml.png\n",
            "Saving: trimaps/IMG_1345.xml.png\n",
            "Saving: trimaps/IMG_1321.xml.png\n",
            "Saving: trimaps/bts1.xml.png\n",
            "Saving: trimaps/IMG_1329.xml.png\n",
            "Saving: trimaps/deb1.xml.png\n",
            "Saving: trimaps/2013_rt_cover_brian_rogers_00001-mos.xml.png\n",
            "Saving: trimaps/IMG_0750_orig.xml.png\n",
            "Saving: trimaps/IMG_1326.xml.png\n",
            "Saving: trimaps/robert_benmosche_00011.xml.png\n",
            "Saving: trimaps/rt2012_xboard_00012-mos.xml.png\n",
            "Saving: trimaps/IMG_1310.xml.png\n",
            "Saving: trimaps/penn_jillette_00106.xml.png\n",
            "Saving: trimaps/IMG_1323.xml.png\n",
            "Saving: trimaps/sg13.xml.png\n",
            "Saving: trimaps/sg11.xml.png\n",
            "Saving: trimaps/IMG_1337.xml.png\n",
            "Saving: trimaps/brendan_haircut_00001.xml.png\n",
            "Saving: trimaps/IMG_1319.xml.png\n",
            "Saving: trimaps/IMG_0319_orig.xml.png\n"
          ],
          "name": "stdout"
        }
      ]
    },
    {
      "cell_type": "code",
      "metadata": {
        "id": "bpMzI-tU8Bo-",
        "colab_type": "code",
        "outputId": "38b67734-f467-488f-c710-1249d38cdef2",
        "colab": {
          "base_uri": "https://localhost:8080/",
          "height": 139
        }
      },
      "source": [
        "%cd /root/data/mine/machineLearning/\n",
        "!python rectlabel_create_pascal_tf_record.py --images_dir=/root/data/mine/machineLearning/macbethIdentify/data/macbeth_identify/img --annotations_dir=/root/data/mine/machineLearning/macbethIdentify/data/macbeth_identify/annotations --image_list_path=/root/data/mine/machineLearning/macbethIdentify/data/macbeth_identify/train.txt --label_map_path=/root/data/mine/machineLearning/macbethIdentify/data/macbeth_identify/label_map.pbtxt --output_path=/root/data/macbeth_identify.record "
      ],
      "execution_count": 0,
      "outputs": [
        {
          "output_type": "stream",
          "text": [
            "/root/data/mine/machineLearning\n",
            "Images Dir: /root/data/mine/machineLearning/macbethIdentify/data/macbeth_identify/img\n",
            "Annotations Dir: /root/data/mine/machineLearning/macbethIdentify/data/macbeth_identify/annotations\n",
            "{u'macbeth': 1}\n",
            "/root/models/research/object_detection/utils/dataset_util.py:75: FutureWarning: The behavior of this method will change in future versions. Use specific 'len(elem)' or 'elem is not None' test instead.\n",
            "  if not xml:\n"
          ],
          "name": "stdout"
        }
      ]
    },
    {
      "cell_type": "code",
      "metadata": {
        "id": "4vtDQWz188A-",
        "colab_type": "code",
        "outputId": "76438eb6-3a1b-451e-9075-a32de036ddf0",
        "colab": {
          "base_uri": "https://localhost:8080/",
          "height": 102
        }
      },
      "source": [
        "%cd /root/data/\n",
        "%ls -lh\n"
      ],
      "execution_count": 0,
      "outputs": [
        {
          "output_type": "stream",
          "text": [
            "/root/data\n",
            "total 94M\n",
            "-rw-r--r-- 1 root root  94M May  2 10:10 macbeth_identify.record\n",
            "drwxr-xr-x 4 root root 4.0K May  2 09:43 \u001b[0m\u001b[01;34mmine\u001b[0m/\n",
            "drwxr-xr-x 2 root root 4.0K May  2 09:44 \u001b[01;34mtrimaps\u001b[0m/\n"
          ],
          "name": "stdout"
        }
      ]
    },
    {
      "cell_type": "code",
      "metadata": {
        "id": "sp8uPI1dJqrz",
        "colab_type": "code",
        "outputId": "ec6cffe6-ef9f-4499-9385-55c1bbe642fc",
        "colab": {
          "base_uri": "https://localhost:8080/",
          "height": 238
        }
      },
      "source": [
        "%cd /root/data/\n",
        "%ls\n",
        "import os\n",
        "import shutil\n",
        "import glob\n",
        "import urllib\n",
        "import tarfile\n",
        "\n",
        "MODEL = 'faster_rcnn_inception_v2_coco_2018_01_28'\n",
        "MODEL_FILE = MODEL + '.tar.gz'\n",
        "DOWNLOAD_BASE = 'http://download.tensorflow.org/models/object_detection/'\n",
        "DEST_DIR = 'pretrained_model/{}'.format(MODEL)\n",
        "\n",
        "if not (os.path.exists(MODEL_FILE)):\n",
        "  print(\"Downloading: {}\".format(MODEL_FILE))\n",
        "  opener = urllib.URLopener()\n",
        "  opener.retrieve(DOWNLOAD_BASE + MODEL_FILE, MODEL_FILE)\n",
        "\n",
        "print(\"Un-tarring\")\n",
        "tar = tarfile.open(MODEL_FILE)\n",
        "tar.extractall()\n",
        "tar.close()\n",
        "\n",
        "print(\"Removing: {}\".format(MODEL_FILE))\n",
        "os.remove(MODEL_FILE)\n",
        "\n",
        "print(DEST_DIR)\n",
        "if (os.path.exists(DEST_DIR)):\n",
        "  print(DEST_DIR)\n",
        "  shutil.rmtree(DEST_DIR)\n",
        " \n",
        "%ls\n",
        "%cd faster_rcnn_inception_v2_coco_2018_01_28\n",
        "%ls\n",
        "!cp pipeline.config pipeline.config.orig\n",
        "#os.rename(MODEL, DEST_DIR)"
      ],
      "execution_count": 0,
      "outputs": [
        {
          "output_type": "stream",
          "text": [
            "/root/data\n",
            "\u001b[0m\u001b[01;34mfaster_rcnn_inception_v2_coco_2018_01_28\u001b[0m/  \u001b[01;34mmine\u001b[0m/\n",
            "macbeth_identify.record                    \u001b[01;34mtrimaps\u001b[0m/\n",
            "Downloading: faster_rcnn_inception_v2_coco_2018_01_28.tar.gz\n",
            "Un-tarring\n",
            "Removing: faster_rcnn_inception_v2_coco_2018_01_28.tar.gz\n",
            "pretrained_model/faster_rcnn_inception_v2_coco_2018_01_28\n",
            "\u001b[0m\u001b[01;34mfaster_rcnn_inception_v2_coco_2018_01_28\u001b[0m/  \u001b[01;34mmine\u001b[0m/\n",
            "macbeth_identify.record                    \u001b[01;34mtrimaps\u001b[0m/\n",
            "/root/data/faster_rcnn_inception_v2_coco_2018_01_28\n",
            "checkpoint                      model.ckpt.index  \u001b[0m\u001b[01;34msaved_model\u001b[0m/\n",
            "frozen_inference_graph.pb       model.ckpt.meta\n",
            "model.ckpt.data-00000-of-00001  pipeline.config\n"
          ],
          "name": "stdout"
        }
      ]
    },
    {
      "cell_type": "code",
      "metadata": {
        "id": "gGl8mAgBKR4i",
        "colab_type": "code",
        "outputId": "fa238ea4-0680-4989-fee3-cf2edc93d99a",
        "colab": {
          "base_uri": "https://localhost:8080/",
          "height": 204
        }
      },
      "source": [
        "%cd /root/data/faster_rcnn_inception_v2_coco_2018_01_28/\n",
        "%ls -l\n",
        "%pwd\n",
        "\n",
        "#%cd checkpoint\n",
        "#%ls\n"
      ],
      "execution_count": 0,
      "outputs": [
        {
          "output_type": "stream",
          "text": [
            "/root/data/faster_rcnn_inception_v2_coco_2018_01_28\n",
            "total 113504\n",
            "-rw-r--r-- 1 345018 5000       77 Feb  1  2018 checkpoint\n",
            "-rw-r--r-- 1 345018 5000 57153785 Feb  1  2018 frozen_inference_graph.pb\n",
            "-rw-r--r-- 1 345018 5000 53348500 Feb  1  2018 model.ckpt.data-00000-of-00001\n",
            "-rw-r--r-- 1 345018 5000    15927 Feb  1  2018 model.ckpt.index\n",
            "-rw-r--r-- 1 345018 5000  5685731 Feb  1  2018 model.ckpt.meta\n",
            "-rw-r--r-- 1 345018 5000     3227 May  2 11:20 pipeline.config\n",
            "-rw-r--r-- 1 root   root     3244 May  2 11:12 pipeline.config.orig\n",
            "drwxr-xr-x 3 345018 5000     4096 Feb  1  2018 \u001b[0m\u001b[01;34msaved_model\u001b[0m/\n"
          ],
          "name": "stdout"
        },
        {
          "output_type": "execute_result",
          "data": {
            "text/plain": [
              "u'/root/data/faster_rcnn_inception_v2_coco_2018_01_28'"
            ]
          },
          "metadata": {
            "tags": []
          },
          "execution_count": 63
        }
      ]
    },
    {
      "cell_type": "code",
      "metadata": {
        "id": "Xy8eHoODQNP_",
        "colab_type": "code",
        "colab": {}
      },
      "source": [
        "#os.environ['CHECKPOINT'] = \n",
        "#!echo ${CHECKPOINT}\n",
        "\n",
        "#!cp pipeline.config.orig pipeline.config\n",
        "#!cat pipeline.config.orig |sed 's///' > pipelineA.config\n",
        "#!cat pipelineA.config |sed \"s/fine_tune_checkpoint: \\\"PATH_TO_BE_CONFIGURED/fine_tune_checkpoint: ${CHECKPOINT}\" > pipeline.config\n",
        "import re\n",
        "\n",
        "pipelineOrigConfigFile = '/root/data/faster_rcnn_inception_v2_coco_2018_01_28/pipeline.config.orig'\n",
        "pipelineOutConfigFile = '/root/data/faster_rcnn_inception_v2_coco_2018_01_28/pipeline.config'\n",
        "\n",
        "with open(pipelineOrigConfigFile, 'r') as f:\n",
        "  s = f.read()\n",
        "  \n",
        "with open(pipelineOutConfigFile, \"w\") as ff:\n",
        "  s = re.sub('num_classes: 90', 'num_classes: 1', s)\n",
        "  s = re.sub('fine_tune_checkpoint: \"PATH_TO_BE_CONFIGURED/', 'fine_tune_checkpoint: /root/data/faster_rcnn_inception_v2_coco_2018_01_28/', s)\n",
        "  s = re.sub('label_map_path: \"PATH_TO_BE_CONFIGURED/mscoco_label_map.pbtxt\"', 'label_map_path: /root/data/mine/machineLearning/macbethIdentify/data/macbeth_identify/label_map.pbtxt', s)\n",
        "  s = re.sub('input_path: \"PATH_TO_BE_CONFIGURED/mscoco_train.record\"', 'input_path: /root/data/macbeth_identify.record', s)\n",
        "  s = re.sub('input_path: \"PATH_TO_BE_CONFIGURED/mscoco_val.record\"', 'input_path: /root/data/macbeth_identify.record', s)\n",
        "  \n",
        "  ff.write(s)\n",
        "  "
      ],
      "execution_count": 0,
      "outputs": []
    },
    {
      "cell_type": "code",
      "metadata": {
        "id": "6HcHj7LZQ8VE",
        "colab_type": "code",
        "outputId": "1a32124c-5dc4-49f7-ead3-3f91bab6ef20",
        "colab": {
          "base_uri": "https://localhost:8080/",
          "height": 2295
        }
      },
      "source": [
        "!cat pipeline.config"
      ],
      "execution_count": 0,
      "outputs": [
        {
          "output_type": "stream",
          "text": [
            "model {\n",
            "  faster_rcnn {\n",
            "    num_classes: 1\n",
            "    image_resizer {\n",
            "      keep_aspect_ratio_resizer {\n",
            "        min_dimension: 600\n",
            "        max_dimension: 1024\n",
            "      }\n",
            "    }\n",
            "    feature_extractor {\n",
            "      type: \"faster_rcnn_inception_v2\"\n",
            "      first_stage_features_stride: 16\n",
            "    }\n",
            "    first_stage_anchor_generator {\n",
            "      grid_anchor_generator {\n",
            "        height_stride: 16\n",
            "        width_stride: 16\n",
            "        scales: 0.25\n",
            "        scales: 0.5\n",
            "        scales: 1.0\n",
            "        scales: 2.0\n",
            "        aspect_ratios: 0.5\n",
            "        aspect_ratios: 1.0\n",
            "        aspect_ratios: 2.0\n",
            "      }\n",
            "    }\n",
            "    first_stage_box_predictor_conv_hyperparams {\n",
            "      op: CONV\n",
            "      regularizer {\n",
            "        l2_regularizer {\n",
            "          weight: 0.0\n",
            "        }\n",
            "      }\n",
            "      initializer {\n",
            "        truncated_normal_initializer {\n",
            "          stddev: 0.00999999977648\n",
            "        }\n",
            "      }\n",
            "    }\n",
            "    first_stage_nms_score_threshold: 0.0\n",
            "    first_stage_nms_iou_threshold: 0.699999988079\n",
            "    first_stage_max_proposals: 100\n",
            "    first_stage_localization_loss_weight: 2.0\n",
            "    first_stage_objectness_loss_weight: 1.0\n",
            "    initial_crop_size: 14\n",
            "    maxpool_kernel_size: 2\n",
            "    maxpool_stride: 2\n",
            "    second_stage_box_predictor {\n",
            "      mask_rcnn_box_predictor {\n",
            "        fc_hyperparams {\n",
            "          op: FC\n",
            "          regularizer {\n",
            "            l2_regularizer {\n",
            "              weight: 0.0\n",
            "            }\n",
            "          }\n",
            "          initializer {\n",
            "            variance_scaling_initializer {\n",
            "              factor: 1.0\n",
            "              uniform: true\n",
            "              mode: FAN_AVG\n",
            "            }\n",
            "          }\n",
            "        }\n",
            "        use_dropout: false\n",
            "        dropout_keep_probability: 1.0\n",
            "      }\n",
            "    }\n",
            "    second_stage_post_processing {\n",
            "      batch_non_max_suppression {\n",
            "        score_threshold: 0.300000011921\n",
            "        iou_threshold: 0.600000023842\n",
            "        max_detections_per_class: 100\n",
            "        max_total_detections: 100\n",
            "      }\n",
            "      score_converter: SOFTMAX\n",
            "    }\n",
            "    second_stage_localization_loss_weight: 2.0\n",
            "    second_stage_classification_loss_weight: 1.0\n",
            "  }\n",
            "}\n",
            "train_config {\n",
            "  batch_size: 1\n",
            "  data_augmentation_options {\n",
            "    random_horizontal_flip {\n",
            "    }\n",
            "  }\n",
            "  optimizer {\n",
            "    momentum_optimizer {\n",
            "      learning_rate {\n",
            "        manual_step_learning_rate {\n",
            "          initial_learning_rate: 0.000199999994948\n",
            "          schedule {\n",
            "            step: 0\n",
            "            learning_rate: 0.000199999994948\n",
            "          }\n",
            "          schedule {\n",
            "            step: 900000\n",
            "            learning_rate: 1.99999994948e-05\n",
            "          }\n",
            "          schedule {\n",
            "            step: 1200000\n",
            "            learning_rate: 1.99999999495e-06\n",
            "          }\n",
            "        }\n",
            "      }\n",
            "      momentum_optimizer_value: 0.899999976158\n",
            "    }\n",
            "    use_moving_average: false\n",
            "  }\n",
            "  gradient_clipping_by_norm: 10.0\n",
            "  fine_tune_checkpoint: /root/data/faster_rcnn_inception_v2_coco_2018_01_28/model.ckpt\"\n",
            "  from_detection_checkpoint: true\n",
            "  num_steps: 200000\n",
            "}\n",
            "train_input_reader {\n",
            "  label_map_path: /root/data/mine/machineLearning/macbethIdentify/data/macbeth_identify/label_map.pbtxt\n",
            "  tf_record_input_reader {\n",
            "    input_path: /root/data/macbeth_identify.record\n",
            "  }\n",
            "}\n",
            "eval_config {\n",
            "  num_examples: 8000\n",
            "  max_evals: 10\n",
            "  use_moving_averages: false\n",
            "}\n",
            "eval_input_reader {\n",
            "  label_map_path: /root/data/mine/machineLearning/macbethIdentify/data/macbeth_identify/label_map.pbtxt\n",
            "  shuffle: false\n",
            "  num_readers: 1\n",
            "  tf_record_input_reader {\n",
            "    input_path: /root/data/macbeth_identify.record\n",
            "  }\n",
            "}\n"
          ],
          "name": "stdout"
        }
      ]
    },
    {
      "cell_type": "code",
      "metadata": {
        "id": "PtaiJ1TXK4ng",
        "colab_type": "code",
        "outputId": "40d45c74-d5a0-4919-8dfe-cd284b4818f5",
        "colab": {
          "base_uri": "https://localhost:8080/",
          "height": 1176
        }
      },
      "source": [
        "%cd /root/data\n",
        "!python /root/models/research/object_detection/model_main.py --pipeline_config_path=/root/data/faster_rcnn_inception_v2_coco_2018_01_28/pipeline.config --model_dir=/root/data/mine/machineLearning/macbethIdentify/data/macbeth_identify/img --alsologtostderr --num_train_steps=3000 --num_eval_steps=500"
      ],
      "execution_count": 0,
      "outputs": [
        {
          "output_type": "stream",
          "text": [
            "/root/data\n",
            "/root/models/research/object_detection/utils/visualization_utils.py:26: UserWarning: \n",
            "This call to matplotlib.use() has no effect because the backend has already\n",
            "been chosen; matplotlib.use() must be called *before* pylab, matplotlib.pyplot,\n",
            "or matplotlib.backends is imported for the first time.\n",
            "\n",
            "The backend was *originally* set to 'module://ipykernel.pylab.backend_inline' by the following code:\n",
            "  File \"/root/models/research/object_detection/model_main.py\", line 26, in <module>\n",
            "    from object_detection import model_lib\n",
            "  File \"/root/models/research/object_detection/model_lib.py\", line 27, in <module>\n",
            "    from object_detection import eval_util\n",
            "  File \"/root/models/research/object_detection/eval_util.py\", line 28, in <module>\n",
            "    from object_detection.metrics import coco_evaluation\n",
            "  File \"/root/models/research/object_detection/metrics/coco_evaluation.py\", line 20, in <module>\n",
            "    from object_detection.metrics import coco_tools\n",
            "  File \"/root/models/research/object_detection/metrics/coco_tools.py\", line 47, in <module>\n",
            "    from pycocotools import coco\n",
            "  File \"/usr/local/lib/python2.7/dist-packages/pycocotools/coco.py\", line 49, in <module>\n",
            "    import matplotlib.pyplot as plt\n",
            "  File \"/usr/local/lib/python2.7/dist-packages/matplotlib/pyplot.py\", line 71, in <module>\n",
            "    from matplotlib.backends import pylab_setup\n",
            "  File \"/usr/local/lib/python2.7/dist-packages/matplotlib/backends/__init__.py\", line 17, in <module>\n",
            "    line for line in traceback.format_stack()\n",
            "\n",
            "\n",
            "  import matplotlib; matplotlib.use('Agg')  # pylint: disable=multiple-statements\n",
            "\n",
            "WARNING: The TensorFlow contrib module will not be included in TensorFlow 2.0.\n",
            "For more information, please see:\n",
            "  * https://github.com/tensorflow/community/blob/master/rfcs/20180907-contrib-sunset.md\n",
            "  * https://github.com/tensorflow/addons\n",
            "If you depend on functionality not listed there, please file an issue.\n",
            "\n",
            "Traceback (most recent call last):\n",
            "  File \"/root/models/research/object_detection/model_main.py\", line 109, in <module>\n",
            "    tf.app.run()\n",
            "  File \"/usr/local/lib/python2.7/dist-packages/tensorflow/python/platform/app.py\", line 125, in run\n",
            "    _sys.exit(main(argv))\n",
            "  File \"/root/models/research/object_detection/model_main.py\", line 71, in main\n",
            "    FLAGS.sample_1_of_n_eval_on_train_examples))\n",
            "  File \"/root/models/research/object_detection/model_lib.py\", line 589, in create_estimator_and_inputs\n",
            "    pipeline_config_path, config_override=config_override)\n",
            "  File \"/root/models/research/object_detection/utils/config_util.py\", line 98, in get_configs_from_pipeline_file\n",
            "    text_format.Merge(proto_str, pipeline_config)\n",
            "  File \"/usr/local/lib/python2.7/dist-packages/google/protobuf/text_format.py\", line 574, in Merge\n",
            "    descriptor_pool=descriptor_pool)\n",
            "  File \"/usr/local/lib/python2.7/dist-packages/google/protobuf/text_format.py\", line 631, in MergeLines\n",
            "    return parser.MergeLines(lines, message)\n",
            "  File \"/usr/local/lib/python2.7/dist-packages/google/protobuf/text_format.py\", line 654, in MergeLines\n",
            "    self._ParseOrMerge(lines, message)\n",
            "  File \"/usr/local/lib/python2.7/dist-packages/google/protobuf/text_format.py\", line 676, in _ParseOrMerge\n",
            "    self._MergeField(tokenizer, message)\n",
            "  File \"/usr/local/lib/python2.7/dist-packages/google/protobuf/text_format.py\", line 801, in _MergeField\n",
            "    merger(tokenizer, message, field)\n",
            "  File \"/usr/local/lib/python2.7/dist-packages/google/protobuf/text_format.py\", line 875, in _MergeMessageField\n",
            "    self._MergeField(tokenizer, sub_message)\n",
            "  File \"/usr/local/lib/python2.7/dist-packages/google/protobuf/text_format.py\", line 801, in _MergeField\n",
            "    merger(tokenizer, message, field)\n",
            "  File \"/usr/local/lib/python2.7/dist-packages/google/protobuf/text_format.py\", line 926, in _MergeScalarField\n",
            "    value = tokenizer.ConsumeString()\n",
            "  File \"/usr/local/lib/python2.7/dist-packages/google/protobuf/text_format.py\", line 1297, in ConsumeString\n",
            "    the_bytes = self.ConsumeByteString()\n",
            "  File \"/usr/local/lib/python2.7/dist-packages/google/protobuf/text_format.py\", line 1312, in ConsumeByteString\n",
            "    the_list = [self._ConsumeSingleByteString()]\n",
            "  File \"/usr/local/lib/python2.7/dist-packages/google/protobuf/text_format.py\", line 1331, in _ConsumeSingleByteString\n",
            "    raise self.ParseError('Expected string but found: %r' % (text,))\n",
            "google.protobuf.text_format.ParseError: 112:25 : '  fine_tune_checkpoint: /root/data/faster_rcnn_inception_v2_coco_2018_01_28/model.ckpt\"': Expected string but found: '/'\n"
          ],
          "name": "stdout"
        }
      ]
    },
    {
      "cell_type": "code",
      "metadata": {
        "id": "Jd4KUgaZMLl9",
        "colab_type": "code",
        "colab": {}
      },
      "source": [
        ""
      ],
      "execution_count": 0,
      "outputs": []
    }
  ]
}