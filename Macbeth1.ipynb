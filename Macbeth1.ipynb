{
  "nbformat": 4,
  "nbformat_minor": 0,
  "metadata": {
    "colab": {
      "name": "Macbeth1.ipynb",
      "version": "0.3.2",
      "provenance": [],
      "include_colab_link": true
    },
    "kernelspec": {
      "name": "python2",
      "display_name": "Python 2"
    },
    "accelerator": "GPU"
  },
  "cells": [
    {
      "cell_type": "markdown",
      "metadata": {
        "id": "view-in-github",
        "colab_type": "text"
      },
      "source": [
        "<a href=\"https://colab.research.google.com/github/aaronbbarclay/mine/blob/master/Macbeth1.ipynb\" target=\"_parent\"><img src=\"https://colab.research.google.com/assets/colab-badge.svg\" alt=\"Open In Colab\"/></a>"
      ]
    },
    {
      "metadata": {
        "id": "2EMcC41nfjCd",
        "colab_type": "code",
        "colab": {
          "base_uri": "https://localhost:8080/",
          "height": 207
        },
        "outputId": "b09eeb7f-97d7-4b41-94dd-24dade7f446a"
      },
      "cell_type": "code",
      "source": [
        "!pip show tensorflow"
      ],
      "execution_count": 2,
      "outputs": [
        {
          "output_type": "stream",
          "text": [
            "Name: tensorflow\n",
            "Version: 1.13.1\n",
            "Summary: TensorFlow is an open source machine learning framework for everyone.\n",
            "Home-page: https://www.tensorflow.org/\n",
            "Author: Google Inc.\n",
            "Author-email: opensource@google.com\n",
            "License: Apache 2.0\n",
            "Location: /usr/local/lib/python2.7/dist-packages\n",
            "Requires: tensorflow-estimator, grpcio, mock, keras-applications, enum34, protobuf, keras-preprocessing, gast, tensorboard, wheel, absl-py, backports.weakref, six, numpy, termcolor, astor\n",
            "Required-by: magenta, fancyimpute\n"
          ],
          "name": "stdout"
        }
      ]
    },
    {
      "metadata": {
        "id": "_dR8HxrO_oI7",
        "colab_type": "code",
        "colab": {
          "base_uri": "https://localhost:8080/",
          "height": 221
        },
        "outputId": "f1300194-05e5-4272-d4ab-d2206c7fb18e"
      },
      "cell_type": "code",
      "source": [
        "%cd\n",
        "!git clone --quiet https://github.com/tensorflow/models.git\n",
        "!apt-get install protobuf-compiler python-pil python-lxml python-tk\n",
        "!pip install -q Cython contextlib2 pillow lxml matplotlib PyDrive"
      ],
      "execution_count": 1,
      "outputs": [
        {
          "output_type": "stream",
          "text": [
            "/root\n",
            "Reading package lists... Done\n",
            "Building dependency tree       \n",
            "Reading state information... Done\n",
            "python-pil is already the newest version (5.1.0-1).\n",
            "python-tk is already the newest version (2.7.15~rc1-1).\n",
            "protobuf-compiler is already the newest version (3.0.0-9.1ubuntu1).\n",
            "python-lxml is already the newest version (4.2.1-1ubuntu0.1).\n",
            "The following package was automatically installed and is no longer required:\n",
            "  libnvidia-common-410\n",
            "Use 'apt autoremove' to remove it.\n",
            "0 upgraded, 0 newly installed, 0 to remove and 6 not upgraded.\n"
          ],
          "name": "stdout"
        }
      ]
    },
    {
      "metadata": {
        "id": "KSlGKXeL_pzS",
        "colab_type": "code",
        "colab": {}
      },
      "cell_type": "code",
      "source": [
        "!pip install -q pycocotools"
      ],
      "execution_count": 0,
      "outputs": []
    },
    {
      "metadata": {
        "id": "CRULdCfrA39Y",
        "colab_type": "code",
        "colab": {
          "base_uri": "https://localhost:8080/",
          "height": 34
        },
        "outputId": "53e13b54-747d-4aa1-a69e-5ce2f4983815"
      },
      "cell_type": "code",
      "source": [
        "%cd ~/models/research\n",
        "!protoc object_detection/protos/*.proto --python_out=."
      ],
      "execution_count": 4,
      "outputs": [
        {
          "output_type": "stream",
          "text": [
            "/root/models/research\n"
          ],
          "name": "stdout"
        }
      ]
    },
    {
      "metadata": {
        "id": "tYvdzZ5AJWb5",
        "colab_type": "code",
        "colab": {}
      },
      "cell_type": "code",
      "source": [
        ""
      ],
      "execution_count": 0,
      "outputs": []
    },
    {
      "metadata": {
        "id": "fg9RcuyfA_FN",
        "colab_type": "code",
        "colab": {}
      },
      "cell_type": "code",
      "source": [
        "import os\n",
        "os.environ['PYTHONPATH'] += ':/root/models/research/:/root/models/research/slim/'"
      ],
      "execution_count": 0,
      "outputs": []
    },
    {
      "metadata": {
        "id": "ljXKeqEZCuRL",
        "colab_type": "code",
        "colab": {
          "base_uri": "https://localhost:8080/",
          "height": 34
        },
        "outputId": "482facf9-d647-4a8d-82ed-58e13c690677"
      },
      "cell_type": "code",
      "source": [
        "print(os.environ['PYTHONPATH'])"
      ],
      "execution_count": 41,
      "outputs": [
        {
          "output_type": "stream",
          "text": [
            "/env/python:/content/models/research/:/content/models/research/slim/:/root/models/research/:/root/models/research/slim/\n"
          ],
          "name": "stdout"
        }
      ]
    },
    {
      "metadata": {
        "id": "7j7jfuTXB4MR",
        "colab_type": "code",
        "colab": {
          "base_uri": "https://localhost:8080/",
          "height": 221
        },
        "outputId": "26a3e742-ff49-4af4-ccd9-775bfad34b58"
      },
      "cell_type": "code",
      "source": [
        "!python ~/models/research/object_detection/builders/model_builder_test.py"
      ],
      "execution_count": 42,
      "outputs": [
        {
          "output_type": "stream",
          "text": [
            "\n",
            "WARNING: The TensorFlow contrib module will not be included in TensorFlow 2.0.\n",
            "For more information, please see:\n",
            "  * https://github.com/tensorflow/community/blob/master/rfcs/20180907-contrib-sunset.md\n",
            "  * https://github.com/tensorflow/addons\n",
            "If you depend on functionality not listed there, please file an issue.\n",
            "\n",
            "............s...\n",
            "----------------------------------------------------------------------\n",
            "Ran 16 tests in 0.068s\n",
            "\n",
            "OK (skipped=1)\n"
          ],
          "name": "stdout"
        }
      ]
    },
    {
      "metadata": {
        "id": "6B9OjMib2K0_",
        "colab_type": "code",
        "colab": {
          "base_uri": "https://localhost:8080/",
          "height": 153
        },
        "outputId": "4f059f82-ca37-4a4d-eedf-d5250ea148f4"
      },
      "cell_type": "code",
      "source": [
        "%pwd\n",
        "%cd /root/data\n",
        "!git clone https://github.com/ryouchinsa/Rectlabel-support\n",
        "\n"
      ],
      "execution_count": 99,
      "outputs": [
        {
          "output_type": "stream",
          "text": [
            "/root/data\n",
            "Cloning into 'Rectlabel-support'...\n",
            "remote: Enumerating objects: 102, done.\u001b[K\n",
            "remote: Counting objects: 100% (102/102), done.\u001b[K\n",
            "remote: Compressing objects: 100% (83/83), done.\u001b[K\n",
            "remote: Total 284 (delta 54), reused 52 (delta 19), pack-reused 182\u001b[K\n",
            "Receiving objects: 100% (284/284), 9.17 MiB | 33.53 MiB/s, done.\n",
            "Resolving deltas: 100% (139/139), done.\n"
          ],
          "name": "stdout"
        }
      ]
    },
    {
      "metadata": {
        "id": "b5wtIsvpCd0K",
        "colab_type": "code",
        "colab": {}
      },
      "cell_type": "code",
      "source": [
        "%mkdir ~/data\n",
        "%cd ~/data\n",
        "\n",
        "import os\n",
        "from zipfile import ZipFile\n",
        "from shutil import copy\n",
        "\n",
        "!git clone https://github.com/aaronbbarclay/mine\n",
        "%cd mine/machineLearning/macbethIdentify/data/\n",
        "%ls\n",
        "!unzip macbeth_identify.zip"
      ],
      "execution_count": 0,
      "outputs": []
    },
    {
      "metadata": {
        "id": "o0nGSPh5E8mI",
        "colab_type": "code",
        "colab": {
          "base_uri": "https://localhost:8080/",
          "height": 238
        },
        "outputId": "d8e22bb2-64d5-4911-fa47-e923d5f1affd"
      },
      "cell_type": "code",
      "source": [
        "%cd ~/data/mine/\n",
        "%ls\n",
        "!git pull\n"
      ],
      "execution_count": 144,
      "outputs": [
        {
          "output_type": "stream",
          "text": [
            "/root/data/mine\n",
            "Macbeth1.ipynb  \u001b[0m\u001b[01;34mmachineLearning\u001b[0m/  README.md\n",
            "remote: Enumerating objects: 7, done.\u001b[K\n",
            "remote: Counting objects: 100% (7/7), done.\u001b[K\n",
            "remote: Compressing objects: 100% (4/4), done.\u001b[K\n",
            "remote: Total 4 (delta 3), reused 0 (delta 0), pack-reused 0\u001b[K\n",
            "Unpacking objects: 100% (4/4), done.\n",
            "From https://github.com/aaronbbarclay/mine\n",
            "   7862cdb..771a0d8  master     -> origin/master\n",
            "Updating 7862cdb..771a0d8\n",
            "Fast-forward\n",
            " machineLearning/rectlabel_create_pascal_tf_record.py | 2 \u001b[32m+\u001b[m\u001b[31m-\u001b[m\n",
            " 1 file changed, 1 insertion(+), 1 deletion(-)\n"
          ],
          "name": "stdout"
        }
      ]
    },
    {
      "metadata": {
        "id": "ay8nMwhzFURZ",
        "colab_type": "code",
        "colab": {
          "base_uri": "https://localhost:8080/",
          "height": 51
        },
        "outputId": "2ff8397b-f10b-4057-9435-ad24670670f2"
      },
      "cell_type": "code",
      "source": [
        "%cd ~/data/mine/machineLearning\n",
        "%ls"
      ],
      "execution_count": 134,
      "outputs": [
        {
          "output_type": "stream",
          "text": [
            "/root/data/mine/machineLearning\n",
            "\u001b[0m\u001b[01;34mmacbethIdentify\u001b[0m/  rectlabel_create_pascal_tf_record.py\n"
          ],
          "name": "stdout"
        }
      ]
    },
    {
      "metadata": {
        "id": "vB5fbc3_piye",
        "colab_type": "code",
        "colab": {
          "base_uri": "https://localhost:8080/",
          "height": 51
        },
        "outputId": "513e0c51-9eb4-4eb5-e859-aabc8868a99a"
      },
      "cell_type": "code",
      "source": [
        "%cd ~/data/mine/machineLearning/macbethIdentify/data/macbeth_identify/\n",
        "%pwd\n",
        "%ls\n",
        "imageFilesBasePath = '/root/data/mine/machineLearning/macbethIdentify/data/macbeth_identify/img'\n",
        "annotationsFilesBasePath = '/root/data/mine/machineLearning/macbethIdentify/data/macbeth_identify/annotations/'\n",
        "labelMapPath = '/root/data/mine/machineLearning/macbethIdentify/data/macbeth_identify/label_map.pbtxt'\n",
        "testPath = '/root/data/mine/machineLearning/macbethIdentify/data/macbeth_identify/test.txt'\n",
        "trainPath = '/root/data/mine/machineLearning/macbethIdentify/data/macbeth_identify/train.txt'\n",
        "valPath = '/root/data/mine/machineLearning/macbethIdentify/data/macbeth_identify/val.txt'\n",
        "#image_files = [x for x in os.listdir(imageFilesBasePath)]\n",
        "#print(image_files)"
      ],
      "execution_count": 85,
      "outputs": [
        {
          "output_type": "stream",
          "text": [
            "/root/data/mine/machineLearning/macbethIdentify/data/macbeth_identify\n",
            "\u001b[0m\u001b[01;34mannotations\u001b[0m/  \u001b[01;34mimg\u001b[0m/  \u001b[01;32mlabel_map.pbtxt\u001b[0m*  \u001b[01;32mtest.txt\u001b[0m*  \u001b[01;32mtrain.txt\u001b[0m*  \u001b[01;32mval.txt\u001b[0m*\n"
          ],
          "name": "stdout"
        }
      ]
    },
    {
      "metadata": {
        "id": "pk9ADEWL0FId",
        "colab_type": "code",
        "colab": {
          "base_uri": "https://localhost:8080/",
          "height": 51
        },
        "outputId": "9dde9a0d-160b-4c12-d6e3-2b7356097809"
      },
      "cell_type": "code",
      "source": [
        "%cd /root/data/mine/machineLearning/macbethIdentify/data/macbeth_identify/\n",
        "%ls\n"
      ],
      "execution_count": 120,
      "outputs": [
        {
          "output_type": "stream",
          "text": [
            "/root/data/mine/machineLearning/macbethIdentify/data/macbeth_identify\n",
            "\u001b[0m\u001b[01;34mimg\u001b[0m/  \u001b[01;32mlabel_map.pbtxt\u001b[0m*  \u001b[01;32mtest.txt\u001b[0m*  \u001b[01;32mtrain.txt\u001b[0m*  \u001b[01;32mval.txt\u001b[0m*\n"
          ],
          "name": "stdout"
        }
      ]
    },
    {
      "metadata": {
        "id": "vgYVQnLAw-fR",
        "colab_type": "code",
        "colab": {
          "base_uri": "https://localhost:8080/",
          "height": 51
        },
        "outputId": "bece71f5-0cdf-4f76-98dc-c0ac58844677"
      },
      "cell_type": "code",
      "source": [
        "%cd /root/data/\n",
        "%mkdir trimaps\n",
        "\n",
        "from PIL import Image\n",
        "image = Image.new(\"RGB\", (640, 480))\n",
        "\n",
        "for filename in os.listdir(annotationsFilesBasePath):\n",
        "  filenameTokens = filename.split(\".\")\n",
        "  newFileName = \"trimaps/\" + filename + '.png'\n",
        "  #print('Saving: {0}'.format(newFileName))\n",
        "  image.save(newFileName)"
      ],
      "execution_count": 90,
      "outputs": [
        {
          "output_type": "stream",
          "text": [
            "/root/data\n",
            "mkdir: cannot create directory ‘trimaps’: File exists\n"
          ],
          "name": "stdout"
        }
      ]
    },
    {
      "metadata": {
        "id": "bpMzI-tU8Bo-",
        "colab_type": "code",
        "colab": {
          "base_uri": "https://localhost:8080/",
          "height": 309
        },
        "outputId": "d5147275-d078-439e-8533-4fd99549779f"
      },
      "cell_type": "code",
      "source": [
        "%cd /root/data/mine/machineLearning/\n",
        "!python rectlabel_create_pascal_tf_record.py --images_dir=/root/data/mine/machineLearning/macbethIdentify/data/macbeth_identify/img --annotations_dir=annotations/ --image_list_path=/root/data/mine/machineLearning/macbethIdentify/data/macbeth_identify/val.txt --label_map_path=/root/data/mine/machineLearning/macbethIdentify/data/macbeth_identify/label_map.pbtxt --output_path=/root/data/macbeth_identify.record "
      ],
      "execution_count": 145,
      "outputs": [
        {
          "output_type": "stream",
          "text": [
            "/root/data/mine/machineLearning\n",
            "/root/data/mine/machineLearning/macbethIdentify/data/macbeth_identify/img\n",
            "['catherine_mary_stewart_00461', 'IMG_0750_orig', 'IMG_1321', 'catherine_mary_stewart_00074', 'penn_jillette_00106', 'IMG_1346', 'rt2012_xboard_00012-mos', 'mg_0006']\n",
            "8\n",
            "/root/data/mine/machineLearning/macbethIdentify/data/macbeth_identify/img/annotations/\n",
            "{u'macbeth': 1}\n",
            "(0, '/root/data/mine/machineLearning/macbethIdentify/data/macbeth_identify/img', 'catherine_mary_stewart_00461')\n",
            "/root/models/research/object_detection/utils/dataset_util.py:75: FutureWarning: The behavior of this method will change in future versions. Use specific 'len(elem)' or 'elem is not None' test instead.\n",
            "  if not xml:\n",
            "(1, '/root/data/mine/machineLearning/macbethIdentify/data/macbeth_identify/img', 'IMG_0750_orig')\n",
            "(2, '/root/data/mine/machineLearning/macbethIdentify/data/macbeth_identify/img', 'IMG_1321')\n",
            "(3, '/root/data/mine/machineLearning/macbethIdentify/data/macbeth_identify/img', 'catherine_mary_stewart_00074')\n",
            "(4, '/root/data/mine/machineLearning/macbethIdentify/data/macbeth_identify/img', 'penn_jillette_00106')\n",
            "(5, '/root/data/mine/machineLearning/macbethIdentify/data/macbeth_identify/img', 'IMG_1346')\n",
            "(6, '/root/data/mine/machineLearning/macbethIdentify/data/macbeth_identify/img', 'rt2012_xboard_00012-mos')\n",
            "(7, '/root/data/mine/machineLearning/macbethIdentify/data/macbeth_identify/img', 'mg_0006')\n"
          ],
          "name": "stdout"
        }
      ]
    },
    {
      "metadata": {
        "id": "4vtDQWz188A-",
        "colab_type": "code",
        "colab": {
          "base_uri": "https://localhost:8080/",
          "height": 119
        },
        "outputId": "d9e6adbc-d283-4751-cefa-74ba655278f7"
      },
      "cell_type": "code",
      "source": [
        "%cd /root/data/\n",
        "%ls -l\n"
      ],
      "execution_count": 150,
      "outputs": [
        {
          "output_type": "stream",
          "text": [
            "/root/data\n",
            "total 5936\n",
            "-rw-r--r-- 1 root root 6064897 Apr 27 09:31 macbeth_identify.record\n",
            "drwxr-xr-x 4 root root    4096 Apr 27 07:45 \u001b[0m\u001b[01;34mmine\u001b[0m/\n",
            "drwxr-xr-x 3 root root    4096 Apr 27 08:41 \u001b[01;34mRectlabel-support\u001b[0m/\n",
            "drwxr-xr-x 2 root root    4096 Apr 27 08:06 \u001b[01;34mtrimaps\u001b[0m/\n"
          ],
          "name": "stdout"
        }
      ]
    },
    {
      "metadata": {
        "id": "sp8uPI1dJqrz",
        "colab_type": "code",
        "colab": {
          "base_uri": "https://localhost:8080/",
          "height": 34
        },
        "outputId": "2411b4a5-ec41-4202-9283-d641ee52f9fb"
      },
      "cell_type": "code",
      "source": [
        "%cd ~/data\n",
        "import os\n",
        "import shutil\n",
        "import glob\n",
        "import urllib\n",
        "import tarfile\n",
        "\n",
        "MODEL = 'faster_rcnn_inception_v2_coco_2018_01_28'\n",
        "MODEL_FILE = MODEL + '.tar.gz'\n",
        "DOWNLOAD_BASE = 'http://download.tensorflow.org/models/object_detection/'\n",
        "DEST_DIR = 'pretrained_model/{}'.format(MODEL)\n",
        "\n",
        "if not (os.path.exists(MODEL_FILE)):\n",
        "  opener = urllib.URLopener()\n",
        "  opener.retrieve(DOWNLOAD_BASE + MODEL_FILE, MODEL_FILE)\n",
        "\n",
        "tar = tarfile.open(MODEL_FILE)\n",
        "tar.extractall()\n",
        "tar.close()\n",
        "\n",
        "os.remove(MODEL_FILE)\n",
        "if (os.path.exists(DEST_DIR)):\n",
        "  shutil.rmtree(DEST_DIR)\n",
        "os.rename(MODEL, DEST_DIR)"
      ],
      "execution_count": 159,
      "outputs": [
        {
          "output_type": "stream",
          "text": [
            "/root/data\n"
          ],
          "name": "stdout"
        }
      ]
    },
    {
      "metadata": {
        "id": "gGl8mAgBKR4i",
        "colab_type": "code",
        "colab": {
          "base_uri": "https://localhost:8080/",
          "height": 425
        },
        "outputId": "29fbe241-7a44-4804-c37d-60bf013a8277"
      },
      "cell_type": "code",
      "source": [
        "%cd /root/data\n",
        "%ls -l\n",
        "%cd pretrained_model/\n",
        "%ls -l\n",
        "%cd faster_rcnn_inception_v2_coco_2018_01_28/\n",
        "%ls -l\n",
        "%cd checkpoint\n",
        "%ls"
      ],
      "execution_count": 166,
      "outputs": [
        {
          "output_type": "stream",
          "text": [
            "/root/data\n",
            "total 5940\n",
            "-rw-r--r-- 1 root   root 6064897 Apr 27 09:31 macbeth_identify.record\n",
            "drwxr-xr-x 4 root   root    4096 Apr 27 07:45 \u001b[0m\u001b[01;34mmine\u001b[0m/\n",
            "drwxr-xr-x 3 345018 5000    4096 Apr 27 09:41 \u001b[01;34mpretrained_model\u001b[0m/\n",
            "drwxr-xr-x 3 root   root    4096 Apr 27 08:41 \u001b[01;34mRectlabel-support\u001b[0m/\n",
            "drwxr-xr-x 2 root   root    4096 Apr 27 08:06 \u001b[01;34mtrimaps\u001b[0m/\n",
            "/root/data/pretrained_model\n",
            "total 4\n",
            "drwxr-xr-x 3 345018 5000 4096 Feb  1  2018 \u001b[0m\u001b[01;34mfaster_rcnn_inception_v2_coco_2018_01_28\u001b[0m/\n",
            "/root/data/pretrained_model/faster_rcnn_inception_v2_coco_2018_01_28\n",
            "total 113500\n",
            "-rw-r--r-- 1 345018 5000       77 Feb  1  2018 checkpoint\n",
            "-rw-r--r-- 1 345018 5000 57153785 Feb  1  2018 frozen_inference_graph.pb\n",
            "-rw-r--r-- 1 345018 5000 53348500 Feb  1  2018 model.ckpt.data-00000-of-00001\n",
            "-rw-r--r-- 1 345018 5000    15927 Feb  1  2018 model.ckpt.index\n",
            "-rw-r--r-- 1 345018 5000  5685731 Feb  1  2018 model.ckpt.meta\n",
            "-rw-r--r-- 1 345018 5000     3244 Feb  1  2018 pipeline.config\n",
            "drwxr-xr-x 3 345018 5000     4096 Feb  1  2018 \u001b[0m\u001b[01;34msaved_model\u001b[0m/\n",
            "[Errno 20] Not a directory: 'checkpoint'\n",
            "/root/data/pretrained_model/faster_rcnn_inception_v2_coco_2018_01_28\n",
            "checkpoint                      model.ckpt.index  \u001b[0m\u001b[01;34msaved_model\u001b[0m/\n",
            "frozen_inference_graph.pb       model.ckpt.meta\n",
            "model.ckpt.data-00000-of-00001  pipeline.config\n"
          ],
          "name": "stdout"
        }
      ]
    },
    {
      "metadata": {
        "id": "Ep7DHF4IKVE3",
        "colab_type": "code",
        "colab": {}
      },
      "cell_type": "code",
      "source": [
        "import re\n",
        "\n",
        "ACTIVE_MODEL = 'faster_rcnn_inception_v2_coco_2018_01_28'\n",
        "\n",
        "#filename = '/content/datalab/pretrained_model/pipeline.config'\n",
        "filename = '/root/models/research/object_detection/samples/configs/faster_rcnn_inception_v2_pets.config'\n",
        "with open(filename) as f:\n",
        "  s = f.read()\n",
        "with open(filename, 'w') as f:\n",
        "  s = re.sub('PATH_TO_BE_CONFIGURED/model.ckpt', '/root/data/pretrained_model/{}/model.ckpt'.format(ACTIVE_MODEL), s)\n",
        "  s = re.sub('PATH_TO_BE_CONFIGURED/pet_faces_train.record-\\?\\?\\?\\?\\?-of-00010', '/root/data/macbeth_identify.record', s)\n",
        "  s = re.sub('PATH_TO_BE_CONFIGURED/pet_faces_val.record-\\?\\?\\?\\?\\?-of-00010', '/root/data/tf_val.record', s)\n",
        "  s = re.sub('PATH_TO_BE_CONFIGURED/pet_label_map.pbtxt', '/root/data/mine/machineLearning/macbethIdentify/data/macbeth_identify/label_map.pbtxt', s)\n",
        "  f.write(s)"
      ],
      "execution_count": 0,
      "outputs": []
    },
    {
      "metadata": {
        "id": "cPvGPBD3NRm1",
        "colab_type": "code",
        "colab": {
          "base_uri": "https://localhost:8080/",
          "height": 2414
        },
        "outputId": "3cc94407-fa2b-49ac-86b9-ad39d352046b"
      },
      "cell_type": "code",
      "source": [
        "%cd /root/models/research/object_detection/samples/configs/\n",
        "!cat faster_rcnn_inception_v2_pets.config"
      ],
      "execution_count": 168,
      "outputs": [
        {
          "output_type": "stream",
          "text": [
            "/root/models/research/object_detection/samples/configs\n",
            "# Faster R-CNN with Inception v2, configured for Oxford-IIIT Pets Dataset.\n",
            "# Users should configure the fine_tune_checkpoint field in the train config as\n",
            "# well as the label_map_path and input_path fields in the train_input_reader and\n",
            "# eval_input_reader. Search for \"PATH_TO_BE_CONFIGURED\" to find the fields that\n",
            "# should be configured.\n",
            "\n",
            "model {\n",
            "  faster_rcnn {\n",
            "    num_classes: 37\n",
            "    image_resizer {\n",
            "      keep_aspect_ratio_resizer {\n",
            "        min_dimension: 600\n",
            "        max_dimension: 1024\n",
            "      }\n",
            "    }\n",
            "    feature_extractor {\n",
            "      type: 'faster_rcnn_inception_v2'\n",
            "      first_stage_features_stride: 16\n",
            "    }\n",
            "    first_stage_anchor_generator {\n",
            "      grid_anchor_generator {\n",
            "        scales: [0.25, 0.5, 1.0, 2.0]\n",
            "        aspect_ratios: [0.5, 1.0, 2.0]\n",
            "        height_stride: 16\n",
            "        width_stride: 16\n",
            "      }\n",
            "    }\n",
            "    first_stage_box_predictor_conv_hyperparams {\n",
            "      op: CONV\n",
            "      regularizer {\n",
            "        l2_regularizer {\n",
            "          weight: 0.0\n",
            "        }\n",
            "      }\n",
            "      initializer {\n",
            "        truncated_normal_initializer {\n",
            "          stddev: 0.01\n",
            "        }\n",
            "      }\n",
            "    }\n",
            "    first_stage_nms_score_threshold: 0.0\n",
            "    first_stage_nms_iou_threshold: 0.7\n",
            "    first_stage_max_proposals: 300\n",
            "    first_stage_localization_loss_weight: 2.0\n",
            "    first_stage_objectness_loss_weight: 1.0\n",
            "    initial_crop_size: 14\n",
            "    maxpool_kernel_size: 2\n",
            "    maxpool_stride: 2\n",
            "    second_stage_box_predictor {\n",
            "      mask_rcnn_box_predictor {\n",
            "        use_dropout: false\n",
            "        dropout_keep_probability: 1.0\n",
            "        fc_hyperparams {\n",
            "          op: FC\n",
            "          regularizer {\n",
            "            l2_regularizer {\n",
            "              weight: 0.0\n",
            "            }\n",
            "          }\n",
            "          initializer {\n",
            "            variance_scaling_initializer {\n",
            "              factor: 1.0\n",
            "              uniform: true\n",
            "              mode: FAN_AVG\n",
            "            }\n",
            "          }\n",
            "        }\n",
            "      }\n",
            "    }\n",
            "    second_stage_post_processing {\n",
            "      batch_non_max_suppression {\n",
            "        score_threshold: 0.0\n",
            "        iou_threshold: 0.6\n",
            "        max_detections_per_class: 100\n",
            "        max_total_detections: 300\n",
            "      }\n",
            "      score_converter: SOFTMAX\n",
            "    }\n",
            "    second_stage_localization_loss_weight: 2.0\n",
            "    second_stage_classification_loss_weight: 1.0\n",
            "  }\n",
            "}\n",
            "\n",
            "train_config: {\n",
            "  batch_size: 1\n",
            "  optimizer {\n",
            "    momentum_optimizer: {\n",
            "      learning_rate: {\n",
            "        manual_step_learning_rate {\n",
            "          initial_learning_rate: 0.0002\n",
            "          schedule {\n",
            "            step: 900000\n",
            "            learning_rate: .00002\n",
            "          }\n",
            "          schedule {\n",
            "            step: 1200000\n",
            "            learning_rate: .000002\n",
            "          }\n",
            "        }\n",
            "      }\n",
            "      momentum_optimizer_value: 0.9\n",
            "    }\n",
            "    use_moving_average: false\n",
            "  }\n",
            "  gradient_clipping_by_norm: 10.0\n",
            "  fine_tune_checkpoint: \"/root/data/pretrained_model/model.ckpt\"\n",
            "  from_detection_checkpoint: true\n",
            "  load_all_detection_checkpoint_vars: true\n",
            "  # Note: The below line limits the training process to 200K steps, which we\n",
            "  # empirically found to be sufficient enough to train the pets dataset. This\n",
            "  # effectively bypasses the learning rate schedule (the learning rate will\n",
            "  # never decay). Remove the below line to train indefinitely.\n",
            "  num_steps: 200000\n",
            "  data_augmentation_options {\n",
            "    random_horizontal_flip {\n",
            "    }\n",
            "  }\n",
            "}\n",
            "\n",
            "\n",
            "train_input_reader: {\n",
            "  tf_record_input_reader {\n",
            "    input_path: \"/content/datalab/tf_train.record\"\n",
            "  }\n",
            "  label_map_path: \"/content/datalab/label_map.pbtxt\"\n",
            "}\n",
            "\n",
            "eval_config: {\n",
            "  metrics_set: \"coco_detection_metrics\"\n",
            "  num_examples: 1101\n",
            "}\n",
            "\n",
            "eval_input_reader: {\n",
            "  tf_record_input_reader {\n",
            "    input_path: \"/content/datalab/tf_val.record\"\n",
            "  }\n",
            "  label_map_path: \"/content/datalab/label_map.pbtxt\"\n",
            "  shuffle: false\n",
            "  num_readers: 1\n",
            "}\n"
          ],
          "name": "stdout"
        }
      ]
    },
    {
      "metadata": {
        "id": "PtaiJ1TXK4ng",
        "colab_type": "code",
        "colab": {
          "base_uri": "https://localhost:8080/",
          "height": 884
        },
        "outputId": "49ec4562-fd36-4f2b-e4e7-b602ea3642af"
      },
      "cell_type": "code",
      "source": [
        "%cd /root/data\n",
        "!python /root/models/research/object_detection/model_main.py --pipeline_config_path= /root/models/research/object_detection/samples/configs/faster_rcnn_inception_v2_pets.config --model_dir=/root/data/trained/ --alsologtostderr --num_train_steps=3000 --num_eval_steps=500"
      ],
      "execution_count": 164,
      "outputs": [
        {
          "output_type": "stream",
          "text": [
            "/root/data\n",
            "/root/models/research/object_detection/utils/visualization_utils.py:26: UserWarning: \n",
            "This call to matplotlib.use() has no effect because the backend has already\n",
            "been chosen; matplotlib.use() must be called *before* pylab, matplotlib.pyplot,\n",
            "or matplotlib.backends is imported for the first time.\n",
            "\n",
            "The backend was *originally* set to 'module://ipykernel.pylab.backend_inline' by the following code:\n",
            "  File \"/root/models/research/object_detection/model_main.py\", line 26, in <module>\n",
            "    from object_detection import model_lib\n",
            "  File \"/root/models/research/object_detection/model_lib.py\", line 27, in <module>\n",
            "    from object_detection import eval_util\n",
            "  File \"/root/models/research/object_detection/eval_util.py\", line 28, in <module>\n",
            "    from object_detection.metrics import coco_evaluation\n",
            "  File \"/root/models/research/object_detection/metrics/coco_evaluation.py\", line 20, in <module>\n",
            "    from object_detection.metrics import coco_tools\n",
            "  File \"/root/models/research/object_detection/metrics/coco_tools.py\", line 47, in <module>\n",
            "    from pycocotools import coco\n",
            "  File \"/usr/local/lib/python2.7/dist-packages/pycocotools/coco.py\", line 49, in <module>\n",
            "    import matplotlib.pyplot as plt\n",
            "  File \"/usr/local/lib/python2.7/dist-packages/matplotlib/pyplot.py\", line 71, in <module>\n",
            "    from matplotlib.backends import pylab_setup\n",
            "  File \"/usr/local/lib/python2.7/dist-packages/matplotlib/backends/__init__.py\", line 17, in <module>\n",
            "    line for line in traceback.format_stack()\n",
            "\n",
            "\n",
            "  import matplotlib; matplotlib.use('Agg')  # pylint: disable=multiple-statements\n",
            "\n",
            "WARNING: The TensorFlow contrib module will not be included in TensorFlow 2.0.\n",
            "For more information, please see:\n",
            "  * https://github.com/tensorflow/community/blob/master/rfcs/20180907-contrib-sunset.md\n",
            "  * https://github.com/tensorflow/addons\n",
            "If you depend on functionality not listed there, please file an issue.\n",
            "\n",
            "Traceback (most recent call last):\n",
            "  File \"/root/models/research/object_detection/model_main.py\", line 109, in <module>\n",
            "    tf.app.run()\n",
            "  File \"/usr/local/lib/python2.7/dist-packages/tensorflow/python/platform/app.py\", line 125, in run\n",
            "    _sys.exit(main(argv))\n",
            "  File \"/root/models/research/object_detection/model_main.py\", line 71, in main\n",
            "    FLAGS.sample_1_of_n_eval_on_train_examples))\n",
            "  File \"/root/models/research/object_detection/model_lib.py\", line 589, in create_estimator_and_inputs\n",
            "    pipeline_config_path, config_override=config_override)\n",
            "  File \"/root/models/research/object_detection/utils/config_util.py\", line 97, in get_configs_from_pipeline_file\n",
            "    proto_str = f.read()\n",
            "  File \"/usr/local/lib/python2.7/dist-packages/tensorflow/python/lib/io/file_io.py\", line 125, in read\n",
            "    self._preread_check()\n",
            "  File \"/usr/local/lib/python2.7/dist-packages/tensorflow/python/lib/io/file_io.py\", line 85, in _preread_check\n",
            "    compat.as_bytes(self.__name), 1024 * 512, status)\n",
            "  File \"/usr/local/lib/python2.7/dist-packages/tensorflow/python/framework/errors_impl.py\", line 528, in __exit__\n",
            "    c_api.TF_GetCode(self.status.status))\n",
            "tensorflow.python.framework.errors_impl.NotFoundError: ; No such file or directory\n"
          ],
          "name": "stdout"
        }
      ]
    },
    {
      "metadata": {
        "id": "Jd4KUgaZMLl9",
        "colab_type": "code",
        "colab": {}
      },
      "cell_type": "code",
      "source": [
        ""
      ],
      "execution_count": 0,
      "outputs": []
    }
  ]
}