{
  "nbformat": 4,
  "nbformat_minor": 0,
  "metadata": {
    "colab": {
      "name": "Untitled4.ipynb",
      "provenance": [],
      "authorship_tag": "ABX9TyMwRayOYD53rdGanVbS25o+",
      "include_colab_link": true
    },
    "kernelspec": {
      "name": "python3",
      "display_name": "Python 3"
    }
  },
  "cells": [
    {
      "cell_type": "markdown",
      "metadata": {
        "id": "view-in-github",
        "colab_type": "text"
      },
      "source": [
        "<a href=\"https://colab.research.google.com/github/aaronbbarclay/mine/blob/master/fft.ipynb\" target=\"_parent\"><img src=\"https://colab.research.google.com/assets/colab-badge.svg\" alt=\"Open In Colab\"/></a>"
      ]
    },
    {
      "cell_type": "code",
      "metadata": {
        "id": "eXIHtdSbDz_p",
        "colab_type": "code",
        "outputId": "10ebae51-e01c-4dc8-add2-dd6ec5e9b530",
        "colab": {
          "base_uri": "https://localhost:8080/",
          "height": 122
        }
      },
      "source": [
        "#Mount Google Drive as folder\n",
        "from google.colab import drive\n",
        "drive.mount('/content/drive', force_remount=True)\n",
        "\n",
        "!mkdir -p /content/local_drive/"
      ],
      "execution_count": 1,
      "outputs": [
        {
          "output_type": "stream",
          "text": [
            "Go to this URL in a browser: https://accounts.google.com/o/oauth2/auth?client_id=947318989803-6bn6qk8qdgf4n4g3pfee6491hc0brc4i.apps.googleusercontent.com&redirect_uri=urn%3aietf%3awg%3aoauth%3a2.0%3aoob&response_type=code&scope=email%20https%3a%2f%2fwww.googleapis.com%2fauth%2fdocs.test%20https%3a%2f%2fwww.googleapis.com%2fauth%2fdrive%20https%3a%2f%2fwww.googleapis.com%2fauth%2fdrive.photos.readonly%20https%3a%2f%2fwww.googleapis.com%2fauth%2fpeopleapi.readonly\n",
            "\n",
            "Enter your authorization code:\n",
            "··········\n",
            "Mounted at /content/drive\n"
          ],
          "name": "stdout"
        }
      ]
    },
    {
      "cell_type": "code",
      "metadata": {
        "id": "aL35khdMJT4D",
        "colab_type": "code",
        "colab": {
          "base_uri": "https://localhost:8080/",
          "height": 51
        },
        "outputId": "5f9c510a-a241-4df7-f9c6-9fcba226dfa6"
      },
      "source": [
        "%cd /content/drive/My\\ Drive/Documents/ContactSheet/src\n",
        "%ls\n"
      ],
      "execution_count": 20,
      "outputs": [
        {
          "output_type": "stream",
          "text": [
            "/content/drive/My Drive/Documents/ContactSheet/src\n",
            "\u001b[0m\u001b[01;34mfgMonteray\u001b[0m/\n"
          ],
          "name": "stdout"
        }
      ]
    },
    {
      "cell_type": "code",
      "metadata": {
        "id": "ygmDOREnI1wX",
        "colab_type": "code",
        "colab": {
          "base_uri": "https://localhost:8080/",
          "height": 68
        },
        "outputId": "12dc4fb7-6cc6-4054-d33e-5a4adaecbcaa"
      },
      "source": [
        "%cd /content/drive/My\\ Drive/Documents/ContactSheet/src\n",
        "%ls\n",
        "!cp -r /content/drive/My\\ Drive/Documents/ContactSheet/src/f6Monteray /content/local_drive/\n",
        "%ls"
      ],
      "execution_count": 30,
      "outputs": [
        {
          "output_type": "stream",
          "text": [
            "/content/drive/My Drive/Documents/ContactSheet/src\n",
            "\u001b[0m\u001b[01;34mf6Monteray\u001b[0m/\n",
            "\u001b[0m\u001b[01;34mf6Monteray\u001b[0m/\n"
          ],
          "name": "stdout"
        }
      ]
    },
    {
      "cell_type": "code",
      "metadata": {
        "id": "wR4NPMeWFVsM",
        "colab_type": "code",
        "outputId": "ca46ec8d-3e20-4732-ec5f-cdb9a78a9cf1",
        "colab": {
          "base_uri": "https://localhost:8080/",
          "height": 85
        }
      },
      "source": [
        "%cd /content/local_drive/f6Monteray/\n",
        "%ls"
      ],
      "execution_count": 37,
      "outputs": [
        {
          "output_type": "stream",
          "text": [
            "/content/local_drive/f6Monteray\n",
            "_DSC6897.jpg  _DSC6902.jpg  _DSC6923.jpg  _DSC6942.jpg\n",
            "_DSC6898.jpg  _DSC6913.jpg  _DSC6929.jpg  _DSC6947.jpg\n",
            "_DSC6900.jpg  _DSC6918.jpg  _DSC6936.jpg\n"
          ],
          "name": "stdout"
        }
      ]
    },
    {
      "cell_type": "code",
      "metadata": {
        "id": "H6eYNhOK_nj7",
        "colab_type": "code",
        "colab": {}
      },
      "source": [
        "import cv2\n",
        "import numpy as np\n",
        "from matplotlib import pyplot as plt"
      ],
      "execution_count": 0,
      "outputs": []
    },
    {
      "cell_type": "code",
      "metadata": {
        "id": "i_O-VXXUGXno",
        "colab_type": "code",
        "colab": {
          "base_uri": "https://localhost:8080/",
          "height": 1000
        },
        "outputId": "61ce02ef-fdc7-4048-dd0d-e5957188d9c0"
      },
      "source": [
        "import os.path\n",
        "path = r\"/content/local_drive/f6Monteray/\"\n",
        "outPath = path + \"fft_1\"\n",
        "\n",
        "print(\"inpath: {0}\".format(path))\n",
        "print(\"outpath: {0}\".format(outPath))\n",
        "\n",
        "if os.path.isdir(outPath):\n",
        "    pass\n",
        "else:\n",
        "    os.makedirs(outPath)\n",
        "\n",
        "ROOT_DIR = os.path.abspath(path)\n",
        "files = os.listdir(path)\n",
        "\n",
        "for _file in files:\n",
        "    print(ROOT_DIR + \"/\" + _file)\n",
        "    filePath = ROOT_DIR + \"/\" + _file\n",
        "\n",
        "    if os.path.isfile(filePath) and not ():\n",
        "        print(\"isFile\")\n",
        "        \n",
        "        img = cv2.imread(filePath)\n",
        "        f = np.fft.fft2(img)\n",
        "        fshift = np.fft.fftshift(f)\n",
        "        magnitude_spectrum = 20 * np.log(np.abs(fshift))\n",
        "        fft_filePath = outPath + \"/\" + \"fft_\" + _file\n",
        "        print(fft_filePath)\n",
        "        cv2.imwrite(fft_filePath, magnitude_spectrum)\n",
        "\n",
        "        img_back = cv2.idft(magnitude_spectrum)\n",
        "\n",
        "\n"
      ],
      "execution_count": 68,
      "outputs": [
        {
          "output_type": "stream",
          "text": [
            "inpath: /content/local_drive/f6Monteray/\n",
            "outpath: /content/local_drive/f6Monteray/fft_1\n",
            "/content/local_drive/f6Monteray/_DSC6897.jpg\n",
            "isFile\n",
            "/content/local_drive/f6Monteray/fft_1/fft__DSC6897.jpg\n",
            "/content/local_drive/f6Monteray/fft_1\n",
            "/content/local_drive/f6Monteray/_DSC6902.jpg\n",
            "isFile\n",
            "/content/local_drive/f6Monteray/fft_1/fft__DSC6902.jpg\n",
            "/content/local_drive/f6Monteray/fft__DSC6900.jpg\n",
            "isFile\n",
            "/content/local_drive/f6Monteray/fft_1/fft_fft__DSC6900.jpg\n",
            "/content/local_drive/f6Monteray/fft_fft__DSC6897.jpg\n",
            "isFile\n",
            "/content/local_drive/f6Monteray/fft_1/fft_fft_fft__DSC6897.jpg\n",
            "/content/local_drive/f6Monteray/_DSC6913.jpg\n",
            "isFile\n",
            "/content/local_drive/f6Monteray/fft_1/fft__DSC6913.jpg\n",
            "/content/local_drive/f6Monteray/fft__DSC6942.jpg\n",
            "isFile\n",
            "/content/local_drive/f6Monteray/fft_1/fft_fft__DSC6942.jpg\n",
            "/content/local_drive/f6Monteray/fft__DSC6947.jpg\n",
            "isFile\n",
            "/content/local_drive/f6Monteray/fft_1/fft_fft__DSC6947.jpg\n",
            "/content/local_drive/f6Monteray/fft__DSC6897.jpg\n",
            "isFile\n",
            "/content/local_drive/f6Monteray/fft_1/fft_fft__DSC6897.jpg\n",
            "/content/local_drive/f6Monteray/fft__DSC6898.jpg\n",
            "isFile\n",
            "/content/local_drive/f6Monteray/fft_1/fft_fft__DSC6898.jpg\n",
            "/content/local_drive/f6Monteray/_DSC6918.jpg\n",
            "isFile\n",
            "/content/local_drive/f6Monteray/fft_1/fft__DSC6918.jpg\n",
            "/content/local_drive/f6Monteray/_DSC6900.jpg\n",
            "isFile\n",
            "/content/local_drive/f6Monteray/fft_1/fft__DSC6900.jpg\n",
            "/content/local_drive/f6Monteray/fft__DSC6902.jpg\n",
            "isFile\n",
            "/content/local_drive/f6Monteray/fft_1/fft_fft__DSC6902.jpg\n",
            "/content/local_drive/f6Monteray/fft__DSC6936.jpg\n",
            "isFile\n",
            "/content/local_drive/f6Monteray/fft_1/fft_fft__DSC6936.jpg\n",
            "/content/local_drive/f6Monteray/_DSC6929.jpg\n",
            "isFile\n",
            "/content/local_drive/f6Monteray/fft_1/fft__DSC6929.jpg\n",
            "/content/local_drive/f6Monteray/_DSC6898.jpg\n",
            "isFile\n",
            "/content/local_drive/f6Monteray/fft_1/fft__DSC6898.jpg\n",
            "/content/local_drive/f6Monteray/fft__DSC6913.jpg\n",
            "isFile\n",
            "/content/local_drive/f6Monteray/fft_1/fft_fft__DSC6913.jpg\n",
            "/content/local_drive/f6Monteray/_DSC6942.jpg\n",
            "isFile\n",
            "/content/local_drive/f6Monteray/fft_1/fft__DSC6942.jpg\n",
            "/content/local_drive/f6Monteray/fft__DSC6923.jpg\n",
            "isFile\n",
            "/content/local_drive/f6Monteray/fft_1/fft_fft__DSC6923.jpg\n",
            "/content/local_drive/f6Monteray/fft__DSC6929.jpg\n",
            "isFile\n",
            "/content/local_drive/f6Monteray/fft_1/fft_fft__DSC6929.jpg\n",
            "/content/local_drive/f6Monteray/_DSC6936.jpg\n",
            "isFile\n",
            "/content/local_drive/f6Monteray/fft_1/fft__DSC6936.jpg\n",
            "/content/local_drive/f6Monteray/_DSC6947.jpg\n",
            "isFile\n",
            "/content/local_drive/f6Monteray/fft_1/fft__DSC6947.jpg\n",
            "/content/local_drive/f6Monteray/_DSC6923.jpg\n",
            "isFile\n",
            "/content/local_drive/f6Monteray/fft_1/fft__DSC6923.jpg\n",
            "/content/local_drive/f6Monteray/fft__DSC6918.jpg\n",
            "isFile\n",
            "/content/local_drive/f6Monteray/fft_1/fft_fft__DSC6918.jpg\n"
          ],
          "name": "stdout"
        }
      ]
    },
    {
      "cell_type": "code",
      "metadata": {
        "id": "_M-c4MjzOYc3",
        "colab_type": "code",
        "colab": {
          "base_uri": "https://localhost:8080/",
          "height": 170
        },
        "outputId": "746b473e-69a8-4ab5-9612-0d4346748f29"
      },
      "source": [
        "%cd /content/local_drive/f6Monteray/fft_1/\n",
        "%ls\n",
        "!cp -r /content/local_drive/f6Monteray/fft_1/ /content/drive/My\\ Drive/Documents/ContactSheet/src/f6Monteray"
      ],
      "execution_count": 69,
      "outputs": [
        {
          "output_type": "stream",
          "text": [
            "/content/local_drive/f6Monteray/fft_1\n",
            "fft__DSC6897.jpg  fft__DSC6936.jpg      fft_fft__DSC6918.jpg\n",
            "fft__DSC6898.jpg  fft__DSC6942.jpg      fft_fft__DSC6923.jpg\n",
            "fft__DSC6900.jpg  fft__DSC6947.jpg      fft_fft__DSC6929.jpg\n",
            "fft__DSC6902.jpg  fft_fft__DSC6897.jpg  fft_fft__DSC6936.jpg\n",
            "fft__DSC6913.jpg  fft_fft__DSC6898.jpg  fft_fft__DSC6942.jpg\n",
            "fft__DSC6918.jpg  fft_fft__DSC6900.jpg  fft_fft__DSC6947.jpg\n",
            "fft__DSC6923.jpg  fft_fft__DSC6902.jpg  fft_fft_fft__DSC6897.jpg\n",
            "fft__DSC6929.jpg  fft_fft__DSC6913.jpg\n"
          ],
          "name": "stdout"
        }
      ]
    }
  ]
}